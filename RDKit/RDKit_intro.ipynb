{
 "cells": [
  {
   "cell_type": "markdown",
   "id": "89a45830",
   "metadata": {},
   "source": [
    "# RDKit for newbies\n",
    "\n",
    "- RDKit is one popular toolkit that helps you calculate similarities of molecules directly. \n",
    "- RDKit is an open source cheminformatics software toolkit which can be called from Python and includes API’s to generate SVG representations of chemical structures.\n",
    "\n",
    "Some important sites:\n",
    "\n",
    "https://medium.com/gsi-technology/rdkit-for-newbies-3697e617521f\n",
    "https://leedavies.dev/index.php/2018/10/06/rdkit-in-jupyter-notebooks/\n",
    "https://www.rdkit.org/docs/GettingStartedInPython.html\n",
    "https://www.rdkit.org/docs/Cartridge.html#the-rdkit-database-cartridge"
   ]
  },
  {
   "cell_type": "code",
   "execution_count": 3,
   "id": "db86311a",
   "metadata": {},
   "outputs": [
    {
     "data": {
      "text/plain": [
       "<rdkit.Chem.rdmolfiles.SDMolSupplier at 0x7fccdad46310>"
      ]
     },
     "execution_count": 3,
     "metadata": {},
     "output_type": "execute_result"
    }
   ],
   "source": [
    "from rdkit import Chem\n",
    "\n",
    "# load a mol from a SMILES string\n",
    "mol = Chem.MolFromSmiles('CC(N)C(=O)O')\n",
    "\n",
    "# load a large molecule database (size=440055 mols)\n",
    "suppl = Chem.SDMolSupplier('database/chembl_30.sdf')\n",
    "suppl"
   ]
  },
  {
   "cell_type": "code",
   "execution_count": 6,
   "id": "7d20e2e9",
   "metadata": {},
   "outputs": [
    {
     "data": {
      "image/svg+xml": [
       "<svg xmlns=\"http://www.w3.org/2000/svg\" xmlns:rdkit=\"http://www.rdkit.org/xml\" xmlns:xlink=\"http://www.w3.org/1999/xlink\" version=\"1.1\" baseProfile=\"full\" xml:space=\"preserve\" width=\"450px\" height=\"150px\" viewBox=\"0 0 450 150\">\n",
       "<!-- END OF HEADER -->\n",
       "<rect style=\"opacity:1.0;fill:#FFFFFF;stroke:none\" width=\"450.0\" height=\"150.0\" x=\"0.0\" y=\"0.0\"> </rect>\n",
       "<path class=\"bond-0 atom-0 atom-1\" d=\"M 283.9,15.9 L 252.3,70.6\" style=\"fill:none;fill-rule:evenodd;stroke:#000000;stroke-width:2.0px;stroke-linecap:butt;stroke-linejoin:miter;stroke-opacity:1\"/>\n",
       "<path class=\"bond-1 atom-1 atom-2\" d=\"M 252.3,70.6 L 264.9,92.4\" style=\"fill:none;fill-rule:evenodd;stroke:#000000;stroke-width:2.0px;stroke-linecap:butt;stroke-linejoin:miter;stroke-opacity:1\"/>\n",
       "<path class=\"bond-1 atom-1 atom-2\" d=\"M 264.9,92.4 L 277.5,114.3\" style=\"fill:none;fill-rule:evenodd;stroke:#0000FF;stroke-width:2.0px;stroke-linecap:butt;stroke-linejoin:miter;stroke-opacity:1\"/>\n",
       "<path class=\"bond-2 atom-1 atom-3\" d=\"M 252.3,70.6 L 189.1,70.6\" style=\"fill:none;fill-rule:evenodd;stroke:#000000;stroke-width:2.0px;stroke-linecap:butt;stroke-linejoin:miter;stroke-opacity:1\"/>\n",
       "<path class=\"bond-3 atom-3 atom-4\" d=\"M 194.6,73.7 L 182.0,95.5\" style=\"fill:none;fill-rule:evenodd;stroke:#000000;stroke-width:2.0px;stroke-linecap:butt;stroke-linejoin:miter;stroke-opacity:1\"/>\n",
       "<path class=\"bond-3 atom-3 atom-4\" d=\"M 182.0,95.5 L 169.4,117.3\" style=\"fill:none;fill-rule:evenodd;stroke:#FF0000;stroke-width:2.0px;stroke-linecap:butt;stroke-linejoin:miter;stroke-opacity:1\"/>\n",
       "<path class=\"bond-3 atom-3 atom-4\" d=\"M 183.6,67.4 L 171.0,89.2\" style=\"fill:none;fill-rule:evenodd;stroke:#000000;stroke-width:2.0px;stroke-linecap:butt;stroke-linejoin:miter;stroke-opacity:1\"/>\n",
       "<path class=\"bond-3 atom-3 atom-4\" d=\"M 171.0,89.2 L 158.5,111.0\" style=\"fill:none;fill-rule:evenodd;stroke:#FF0000;stroke-width:2.0px;stroke-linecap:butt;stroke-linejoin:miter;stroke-opacity:1\"/>\n",
       "<path class=\"bond-4 atom-3 atom-5\" d=\"M 189.1,70.6 L 176.6,48.9\" style=\"fill:none;fill-rule:evenodd;stroke:#000000;stroke-width:2.0px;stroke-linecap:butt;stroke-linejoin:miter;stroke-opacity:1\"/>\n",
       "<path class=\"bond-4 atom-3 atom-5\" d=\"M 176.6,48.9 L 164.1,27.3\" style=\"fill:none;fill-rule:evenodd;stroke:#FF0000;stroke-width:2.0px;stroke-linecap:butt;stroke-linejoin:miter;stroke-opacity:1\"/>\n",
       "<path class=\"atom-2\" d=\"M 279.9 116.3 L 285.8 125.8 Q 286.4 126.8, 287.3 128.4 Q 288.2 130.1, 288.3 130.2 L 288.3 116.3 L 290.6 116.3 L 290.6 134.2 L 288.2 134.2 L 281.9 123.9 Q 281.2 122.7, 280.4 121.3 Q 279.6 119.9, 279.4 119.5 L 279.4 134.2 L 277.1 134.2 L 277.1 116.3 L 279.9 116.3 \" fill=\"#0000FF\"/>\n",
       "<path class=\"atom-2\" d=\"M 292.7 116.3 L 295.2 116.3 L 295.2 124.0 L 304.3 124.0 L 304.3 116.3 L 306.7 116.3 L 306.7 134.2 L 304.3 134.2 L 304.3 126.0 L 295.2 126.0 L 295.2 134.2 L 292.7 134.2 L 292.7 116.3 \" fill=\"#0000FF\"/>\n",
       "<path class=\"atom-2\" d=\"M 308.9 133.6 Q 309.4 132.5, 310.4 131.9 Q 311.4 131.2, 312.9 131.2 Q 314.6 131.2, 315.6 132.2 Q 316.7 133.2, 316.7 134.9 Q 316.7 136.6, 315.3 138.3 Q 314.1 139.9, 311.4 141.8 L 316.9 141.8 L 316.9 143.2 L 308.9 143.2 L 308.9 142.1 Q 311.1 140.5, 312.4 139.3 Q 313.7 138.2, 314.3 137.1 Q 315.0 136.1, 315.0 135.0 Q 315.0 133.8, 314.4 133.2 Q 313.8 132.6, 312.9 132.6 Q 311.9 132.6, 311.3 133.0 Q 310.6 133.3, 310.2 134.2 L 308.9 133.6 \" fill=\"#0000FF\"/>\n",
       "<path class=\"atom-4\" d=\"M 149.3 125.3 Q 149.3 121.0, 151.4 118.6 Q 153.5 116.2, 157.5 116.2 Q 161.5 116.2, 163.6 118.6 Q 165.7 121.0, 165.7 125.3 Q 165.7 129.7, 163.6 132.2 Q 161.4 134.6, 157.5 134.6 Q 153.6 134.6, 151.4 132.2 Q 149.3 129.7, 149.3 125.3 M 157.5 132.6 Q 160.2 132.6, 161.7 130.8 Q 163.2 128.9, 163.2 125.3 Q 163.2 121.8, 161.7 120.1 Q 160.2 118.3, 157.5 118.3 Q 154.8 118.3, 153.3 120.0 Q 151.8 121.8, 151.8 125.3 Q 151.8 129.0, 153.3 130.8 Q 154.8 132.6, 157.5 132.6 \" fill=\"#FF0000\"/>\n",
       "<path class=\"atom-5\" d=\"M 133.1 7.0 L 135.6 7.0 L 135.6 14.6 L 144.7 14.6 L 144.7 7.0 L 147.1 7.0 L 147.1 24.9 L 144.7 24.9 L 144.7 16.6 L 135.6 16.6 L 135.6 24.9 L 133.1 24.9 L 133.1 7.0 \" fill=\"#FF0000\"/>\n",
       "<path class=\"atom-5\" d=\"M 149.3 15.9 Q 149.3 11.6, 151.4 9.2 Q 153.5 6.8, 157.5 6.8 Q 161.5 6.8, 163.6 9.2 Q 165.7 11.6, 165.7 15.9 Q 165.7 20.3, 163.6 22.7 Q 161.4 25.2, 157.5 25.2 Q 153.6 25.2, 151.4 22.7 Q 149.3 20.3, 149.3 15.9 M 157.5 23.2 Q 160.2 23.2, 161.7 21.3 Q 163.2 19.5, 163.2 15.9 Q 163.2 12.4, 161.7 10.6 Q 160.2 8.8, 157.5 8.8 Q 154.8 8.8, 153.3 10.6 Q 151.8 12.4, 151.8 15.9 Q 151.8 19.5, 153.3 21.3 Q 154.8 23.2, 157.5 23.2 \" fill=\"#FF0000\"/>\n",
       "</svg>"
      ],
      "text/plain": [
       "<IPython.core.display.SVG object>"
      ]
     },
     "metadata": {},
     "output_type": "display_data"
    }
   ],
   "source": [
    "from IPython.display import SVG\n",
    "from rdkit.Chem import rdDepictor as rdd\n",
    "from rdkit.Chem.Draw import rdMolDraw2D as draw2d\n",
    "\n",
    "def draw2D(m):\n",
    "    molSize = (450, 150)                    # draw area \n",
    "    mc = Chem.Mol(m.ToBinary())    \n",
    "    if not mc.GetNumConformers():\n",
    "        rdd.Compute2DCoords(mc)             # compute 2D coordinates of atoms\n",
    "    drawer = draw2d.MolDraw2DSVG(\\\n",
    "        molSize[0],molSize[1])              # initialize drawer with size\n",
    "    drawer.DrawMolecule(mc)                 # draw the molecule\n",
    "    drawer.FinishDrawing()\n",
    "    svg = drawer.GetDrawingText()           # get the SVG string \n",
    "    display(SVG(svg.replace('svg:','')))    # fix and display in Jupyter notebook\n",
    "    \n",
    "draw2D(mol)"
   ]
  },
  {
   "cell_type": "markdown",
   "id": "a98ca790",
   "metadata": {},
   "source": [
    "## Substructure\n",
    "\n",
    " A substructure is just a part of a molecule.Certain substructures determine how a molecule behaves as a drug. And so molecules that share the same key substructures are likely to behave in a similar way. RDKit helps us match substructures between molecules."
   ]
  },
  {
   "cell_type": "code",
   "execution_count": 5,
   "id": "f5c9f3dd",
   "metadata": {},
   "outputs": [
    {
     "data": {
      "text/plain": [
       "True"
      ]
     },
     "execution_count": 5,
     "metadata": {},
     "output_type": "execute_result"
    }
   ],
   "source": [
    "mol = Chem.MolFromSmiles('CC(N)C(=O)O')\n",
    "\n",
    "# load a substructure from a SMILES string\n",
    "pattern = Chem.MolFromSmiles('CCO')\n",
    "\n",
    "# perform substructure match on mol\n",
    "mol.HasSubstructMatch(pattern)    # returns true"
   ]
  },
  {
   "cell_type": "markdown",
   "id": "b141847d",
   "metadata": {},
   "source": [
    "## Similarity Search\n",
    "\n"
   ]
  }
 ],
 "metadata": {
  "kernelspec": {
   "display_name": "Python 3 (ipykernel)",
   "language": "python",
   "name": "python3"
  },
  "language_info": {
   "codemirror_mode": {
    "name": "ipython",
    "version": 3
   },
   "file_extension": ".py",
   "mimetype": "text/x-python",
   "name": "python",
   "nbconvert_exporter": "python",
   "pygments_lexer": "ipython3",
   "version": "3.8.12"
  },
  "toc": {
   "base_numbering": 1,
   "nav_menu": {},
   "number_sections": true,
   "sideBar": true,
   "skip_h1_title": false,
   "title_cell": "Table of Contents",
   "title_sidebar": "Contents",
   "toc_cell": false,
   "toc_position": {},
   "toc_section_display": true,
   "toc_window_display": false
  }
 },
 "nbformat": 4,
 "nbformat_minor": 5
}
