{
 "cells": [
  {
   "cell_type": "markdown",
   "id": "95009231",
   "metadata": {},
   "source": [
    "# Assignment\n",
    "\n",
    "You will be working with the data file **data_TCI.json**. This file has information of organic molecules sold by the Tokyo Chemical Industry. Information includes the product name, CAS, unique TCI *code*, price, stock, properties, transportation details, etc. An example of a product can be found here -> https://www.tcichemicals.com/JP/en/p/D0529. \n",
    "\n",
    "The data is the raw output of a scraping algorithm (i.e., ```BeautifulSoup```). We would like to check the data before implementing it along with another projects.\n",
    "\n",
    "Your goal is:\n",
    "\n",
    "1. Open the file, load the data and handle errors, page not found, timeouts, etc.\n",
    "2. Write a function that will add new entries to your database based on new data that is provided. The new data may have completely new information, so the database might need to change to accept this new information. Use **data_TCI_newdata.json** to test your function.\n",
    "3. We are looking forward to develop a molecular screening platform or VPS (Virtual Screening Platform) that will help improve operations. We aim to build a database which can be used as a library to search smoothly for products through molecular similarity, physical properties, availability, price, etc. For example, from the database we would like to search for molecular groups that match certain requirements: poor water solubility, high melting point and can be purchased from 1g. To achieve this goal, first we need to understand the data that is provided in the dataset so later we can build the database. Having this in mind please answer the following:\n",
    "    1. Summarize the dataset as you see fit. Consider that we would like to use these dataset as library for VSP.\n",
    "    2. (Optional) What application except VSP do you think we can develop with this dataset.\n",
    "\n",
    "\n",
    "The json files are split oriented (it will be useful to load them using ```orient ='split', compression = 'infer', index = 'true'```).\n",
    "\n",
    "The Best of Luck! 😉"
   ]
  },
  {
   "cell_type": "code",
   "execution_count": null,
   "id": "130c36fb",
   "metadata": {},
   "outputs": [],
   "source": []
  }
 ],
 "metadata": {
  "kernelspec": {
   "display_name": "Python 3 (ipykernel)",
   "language": "python",
   "name": "python3"
  },
  "language_info": {
   "codemirror_mode": {
    "name": "ipython",
    "version": 3
   },
   "file_extension": ".py",
   "mimetype": "text/x-python",
   "name": "python",
   "nbconvert_exporter": "python",
   "pygments_lexer": "ipython3",
   "version": "3.8.12"
  },
  "toc": {
   "base_numbering": 1,
   "nav_menu": {},
   "number_sections": true,
   "sideBar": true,
   "skip_h1_title": false,
   "title_cell": "Table of Contents",
   "title_sidebar": "Contents",
   "toc_cell": false,
   "toc_position": {},
   "toc_section_display": true,
   "toc_window_display": false
  }
 },
 "nbformat": 4,
 "nbformat_minor": 5
}
