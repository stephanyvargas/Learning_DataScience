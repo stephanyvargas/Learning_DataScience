{
 "cells": [
  {
   "cell_type": "code",
   "execution_count": 2,
   "id": "b7a226f6",
   "metadata": {},
   "outputs": [
    {
     "data": {
      "text/plain": [
       "30701"
      ]
     },
     "execution_count": 2,
     "metadata": {},
     "output_type": "execute_result"
    }
   ],
   "source": [
    "import pandas as pd\n",
    "\n",
    "df = pd.read_json('data_TCI.json', orient ='split', compression = 'infer')\n",
    "len(df)"
   ]
  },
  {
   "cell_type": "code",
   "execution_count": 3,
   "id": "b6097b4b",
   "metadata": {},
   "outputs": [
    {
     "data": {
      "text/plain": [
       "(30701, 755)"
      ]
     },
     "execution_count": 3,
     "metadata": {},
     "output_type": "execute_result"
    }
   ],
   "source": [
    "#original database\n",
    "df.shape"
   ]
  },
  {
   "cell_type": "code",
   "execution_count": 4,
   "id": "09469b4b",
   "metadata": {},
   "outputs": [
    {
     "data": {
      "text/plain": [
       "Index(['T0804', 'B2100', 'E0965', 'A0675', 'D3924', 'D2372', 'N0943', 'A0303',\n",
       "       'B0805', 'T3847', 'D5369', 'T2783', 'P2699', 'B2793', 'M0962', 'D1858',\n",
       "       'H0443', 'D4535', 'B4986', 'A2222', 'N0205', 'D0924', 'B5078', 'M2037',\n",
       "       'G0494', 'B1481', 'H0787', 'D0856', 'M2962', 'O0274', 'E1347', 'H0314',\n",
       "       'M0293', 'D4159', 'L0090', 'L0106', 'L0349', 'D4646', 'B5584', 'H0355',\n",
       "       'B2322', 'D1353', 'P0133', 'P1427', 'A1458', 'B1425', 'D0158', 'N0068',\n",
       "       'M1825', 'P2818', 'P2271', 'H0837', 'R0025', 'M1461', 'N0492', 'C0596',\n",
       "       'D0699', 'E0437', 'A0895', 'C2341', 'N0502', 'P1492', 'B4710', 'B1342',\n",
       "       'B1767', 'B1739', 'B2199', 'D2823', 'M3027', 'A0638', 'C0787', 'E0210',\n",
       "       'B2780', 'M3304', 'D1026', 'I1132', 'C0662', 'S0290', 'E0576', 'A0337',\n",
       "       'B0151', 'D5364', 'A1798', 'T2597', 'T0451', 'C1304', 'A1592', 'B0428',\n",
       "       'H1446', 'A2049', 'E1449', 'M2176', 'T1021', 'M2125', 'C1030', 'F0313',\n",
       "       'H1470', 'B5658', 'C0279', 'C2223'],\n",
       "      dtype='object')"
      ]
     },
     "execution_count": 4,
     "metadata": {},
     "output_type": "execute_result"
    }
   ],
   "source": [
    "sample_index = df.sample(100).index\n",
    "sample_index"
   ]
  },
  {
   "cell_type": "code",
   "execution_count": 6,
   "id": "30427ddf",
   "metadata": {},
   "outputs": [],
   "source": [
    "#reduce to 1000 values\n",
    "## 900 random values from the original\n",
    "## 47 repeated values\n",
    "## 35 Timeout values\n",
    "## 18 errors -> name and all entries are weird -> 'Page', 'not', 'Found', 'Error', etc\n",
    "df_900 = df.sample(900)\n",
    "df_900.dropna(axis=1, inplace=True, how = 'all')"
   ]
  },
  {
   "cell_type": "code",
   "execution_count": 7,
   "id": "50821ff2",
   "metadata": {},
   "outputs": [
    {
     "data": {
      "text/plain": [
       "(900, 205)"
      ]
     },
     "execution_count": 7,
     "metadata": {},
     "output_type": "execute_result"
    }
   ],
   "source": [
    "df_900.shape"
   ]
  },
  {
   "cell_type": "code",
   "execution_count": 9,
   "id": "380e5cdd",
   "metadata": {},
   "outputs": [
    {
     "data": {
      "text/plain": [
       "881"
      ]
     },
     "execution_count": 9,
     "metadata": {},
     "output_type": "execute_result"
    }
   ],
   "source": [
    "len(df_900.CAS.unique())"
   ]
  },
  {
   "cell_type": "code",
   "execution_count": 10,
   "id": "a64d327c",
   "metadata": {},
   "outputs": [
    {
     "data": {
      "text/plain": [
       "900"
      ]
     },
     "execution_count": 10,
     "metadata": {},
     "output_type": "execute_result"
    }
   ],
   "source": [
    "len(df_900.index.unique())"
   ]
  },
  {
   "cell_type": "code",
   "execution_count": 11,
   "id": "ec493068",
   "metadata": {},
   "outputs": [
    {
     "data": {
      "text/plain": [
       "(947, 205)"
      ]
     },
     "execution_count": 11,
     "metadata": {},
     "output_type": "execute_result"
    }
   ],
   "source": [
    "#repeated values\n",
    "df_947 = pd.concat([df_900, df_900.sample(47)])\n",
    "df_947.shape"
   ]
  },
  {
   "cell_type": "code",
   "execution_count": 13,
   "id": "5b19a881",
   "metadata": {},
   "outputs": [
    {
     "data": {
      "text/plain": [
       "['100G',\n",
       " '100MG',\n",
       " '100ML',\n",
       " '10G',\n",
       " '10MG',\n",
       " '10ML',\n",
       " '1CLM',\n",
       " '1G',\n",
       " '1MG',\n",
       " '1ML',\n",
       " '1SAMPLE',\n",
       " '1SET',\n",
       " '1VIAL',\n",
       " '2-methyl-2-butene',\n",
       " '200MG',\n",
       " '20MG',\n",
       " '250G',\n",
       " '250MG',\n",
       " '250ML',\n",
       " '25G',\n",
       " '25MG',\n",
       " '25ML',\n",
       " '3CLM',\n",
       " '500G',\n",
       " '500MG',\n",
       " '500ML',\n",
       " '50MG',\n",
       " '5G',\n",
       " '5MG',\n",
       " '5ML',\n",
       " '90G',\n",
       " 'Analytical Chemistry',\n",
       " 'CAS',\n",
       " 'Chemical Substance Law_No',\n",
       " 'Chemicals by Class',\n",
       " 'Chemistry',\n",
       " 'Life Science',\n",
       " 'Materials Science',\n",
       " 'Molecular Formula',\n",
       " 'Molecular Weight',\n",
       " 'Packaging and container',\n",
       " 'Shipment Information',\n",
       " 'abs-ratio(2a/2b)',\n",
       " 'abs-ratio(a/b)',\n",
       " 'absorbance',\n",
       " 'absorbance(210nm)',\n",
       " 'absorbance(220nm)',\n",
       " 'absorbance(230nm)',\n",
       " 'absorbance(240nm)',\n",
       " 'absorbance(250nm)',\n",
       " 'absorbance(254nm)',\n",
       " 'absorbance(260nm)',\n",
       " 'absorbance(270nm)',\n",
       " 'absorbance(290nm)',\n",
       " 'absorbance(400nm)',\n",
       " 'absorbance(e1%1cm)',\n",
       " 'absorbance(e10%1cm)',\n",
       " 'acid value',\n",
       " 'air transportation',\n",
       " 'appearance',\n",
       " 'average molecular weight',\n",
       " 'bis chloromethyl ether(gc)',\n",
       " 'boiling point',\n",
       " 'cas rn',\n",
       " 'chemical substance law (encs)',\n",
       " 'class',\n",
       " 'cobalt',\n",
       " 'code',\n",
       " 'colour index',\n",
       " 'concentration(argentometric titration)',\n",
       " 'concentration(neutralization titration)',\n",
       " 'concentration(with total nitrogen)',\n",
       " 'condition to avoid',\n",
       " 'conjugation ratio',\n",
       " 'content(na,drying substance)',\n",
       " 'cw (scheduled material type)',\n",
       " 'deacetylation value',\n",
       " 'degree of deuteration',\n",
       " 'degree of solubility in water',\n",
       " 'density(20deg.c)',\n",
       " 'diameter',\n",
       " 'drying loss',\n",
       " 'effect test of gc derivalization',\n",
       " 'elemental analysis(carbon)',\n",
       " 'elemental analysis(nitrogen)',\n",
       " 'enzyme commission number',\n",
       " 'enzyme detection test',\n",
       " 'epoxy equivalent',\n",
       " 'ethanol(nmr)',\n",
       " 'etherification value( as drying substance)',\n",
       " 'fire defense law',\n",
       " 'flash point',\n",
       " 'free chlorine',\n",
       " 'freezing point',\n",
       " 'functionality test',\n",
       " 'grade',\n",
       " 'homo level',\n",
       " 'hydroxyl value',\n",
       " 'ignition residue',\n",
       " 'ignition residue(sulfate)',\n",
       " 'ishl',\n",
       " 'lambda max.',\n",
       " 'length',\n",
       " 'lumo level',\n",
       " 'maximum absorption wavelength',\n",
       " 'mdl number',\n",
       " 'melting point',\n",
       " 'melting point(decomposition)',\n",
       " 'merck index (14)',\n",
       " 'mesomorphic range',\n",
       " 'molar extinction coefficient',\n",
       " 'molecular weight distribution',\n",
       " 'molecular weight of number average',\n",
       " 'name',\n",
       " 'narcotics and psychotropics control law',\n",
       " 'nitrite ion detection test(griess method)',\n",
       " 'nmr',\n",
       " 'non volatile matter',\n",
       " 'number average molecular weight (mn)',\n",
       " 'optical purity(gc)',\n",
       " 'optical purity(lc)',\n",
       " 'packing group',\n",
       " 'particle size(d50)',\n",
       " 'pharmaceutical affairs law (scheduled)',\n",
       " 'physical state (20 deg.c)',\n",
       " 'poisonous or deleterious',\n",
       " 'prepared after order item',\n",
       " 'product number',\n",
       " 'prtr law (new specific chemical)',\n",
       " 'pubchem substance id',\n",
       " 'purity',\n",
       " 'purity / analysis method',\n",
       " 'purity( potassium iodate method)',\n",
       " 'purity(19f-qnmr)',\n",
       " 'purity(argentometric titration)',\n",
       " 'purity(bromination method)',\n",
       " 'purity(cerium redox method)',\n",
       " 'purity(chelometric back titration)',\n",
       " 'purity(chelometric titration)',\n",
       " 'purity(diazo method)',\n",
       " 'purity(ester value)',\n",
       " 'purity(gc)',\n",
       " 'purity(gravimetric method)',\n",
       " 'purity(hplc)',\n",
       " 'purity(hplc)(cad)',\n",
       " 'purity(iodometric back titration)',\n",
       " 'purity(iodometric titration)',\n",
       " 'purity(ion exchange titration)',\n",
       " 'purity(methanolysis method)',\n",
       " 'purity(morpholine method)',\n",
       " 'purity(neutralization titration)',\n",
       " 'purity(nonaqueous titration)',\n",
       " 'purity(periodic acid method)',\n",
       " 'purity(precipitation titration)',\n",
       " 'purity(qnmr)',\n",
       " 'purity(redox method)',\n",
       " 'purity(redox titration)',\n",
       " 'purity(sodium hypochlorite method)',\n",
       " 'purity(tpo method)',\n",
       " 'purity(volumetric analysis)',\n",
       " 'purity(with total nitrogen)',\n",
       " 'reaxys registry number',\n",
       " 'refractive index',\n",
       " 'related cas rn',\n",
       " 'rtecs#',\n",
       " 'sdbs (aist spectral db)',\n",
       " 'sensitiveness',\n",
       " 'signal word',\n",
       " 'sodium',\n",
       " 'solubility (insoluble in)',\n",
       " 'solubility (miscible with)',\n",
       " 'solubility (slightly sol. in)',\n",
       " 'solubility (soluble in)',\n",
       " 'solubility (very slightly)',\n",
       " 'solubility (very soluble in)',\n",
       " 'solubility in 1mol/l hcl',\n",
       " 'solubility in acetone',\n",
       " 'solubility in dilute hcl',\n",
       " 'solubility in hot acetic acid',\n",
       " 'solubility in hot dmf',\n",
       " 'solubility in hot etoh',\n",
       " 'solubility in hot methanol',\n",
       " 'solubility in hot naoh',\n",
       " 'solubility in hot pyridine',\n",
       " 'solubility in hot toluene',\n",
       " 'solubility in hot water',\n",
       " 'solubility in methanol',\n",
       " 'solubility in sodium hydroxide solution',\n",
       " 'solubility in thf',\n",
       " 'solubility in toluene',\n",
       " 'solubility in water',\n",
       " 'specific gravity (20/20)',\n",
       " 'specific rotation',\n",
       " 'specific rotation [a]20/d',\n",
       " 'storage temperature',\n",
       " 'store under inert gas',\n",
       " 'suitability for lc-ms analysis',\n",
       " 'suitability for nitrate-analysis',\n",
       " 'suitability for vanadium-analysis',\n",
       " 'titer',\n",
       " 'titer(elisa)',\n",
       " 'transition interval(ph)',\n",
       " 'un number',\n",
       " 'viscosity',\n",
       " 'water']"
      ]
     },
     "execution_count": 13,
     "metadata": {},
     "output_type": "execute_result"
    }
   ],
   "source": [
    "list(df_947.keys().unique())"
   ]
  },
  {
   "cell_type": "code",
   "execution_count": 36,
   "id": "e0411f9c",
   "metadata": {},
   "outputs": [
    {
     "data": {
      "text/plain": [
       "97"
      ]
     },
     "execution_count": 36,
     "metadata": {},
     "output_type": "execute_result"
    }
   ],
   "source": [
    "available_index = [x for x in sample_index if x not in df_947.index]\n",
    "len(available_index)"
   ]
  },
  {
   "cell_type": "code",
   "execution_count": 14,
   "id": "a4d830b6",
   "metadata": {},
   "outputs": [],
   "source": [
    "s = ['Timeout', 'Timeout', 'Timeout', 'Timeout']"
   ]
  },
  {
   "cell_type": "code",
   "execution_count": 15,
   "id": "407a0d0b",
   "metadata": {},
   "outputs": [
    {
     "data": {
      "text/plain": [
       "(36, 4)"
      ]
     },
     "execution_count": 15,
     "metadata": {},
     "output_type": "execute_result"
    }
   ],
   "source": [
    "# timeouts\n",
    "\n",
    "df_timeouts = pd.DataFrame([s]*36,\n",
    "                   columns=['name', 'CAS', 'code', 'related cas rn'], index = available_index[:36])\n",
    "df_timeouts.shape"
   ]
  },
  {
   "cell_type": "code",
   "execution_count": 16,
   "id": "06aca94c",
   "metadata": {},
   "outputs": [
    {
     "data": {
      "text/plain": [
       "(18, 4)"
      ]
     },
     "execution_count": 16,
     "metadata": {},
     "output_type": "execute_result"
    }
   ],
   "source": [
    "# errors\n",
    "f = ['Page', 'not', 'found', 'Error']\n",
    "df_errors = pd.DataFrame([f]*18,\n",
    "                   columns=['name', 'CAS', 'code', 'related cas rn'], index = available_index[40:58])\n",
    "df_errors.shape"
   ]
  },
  {
   "cell_type": "code",
   "execution_count": 17,
   "id": "f43f789a",
   "metadata": {},
   "outputs": [
    {
     "data": {
      "text/plain": [
       "(54, 4)"
      ]
     },
     "execution_count": 17,
     "metadata": {},
     "output_type": "execute_result"
    }
   ],
   "source": [
    "df_54 = pd.concat([df_timeouts, df_errors])\n",
    "df_54.shape"
   ]
  },
  {
   "cell_type": "code",
   "execution_count": 18,
   "id": "dac5a283",
   "metadata": {},
   "outputs": [
    {
     "data": {
      "text/plain": [
       "(1001, 205)"
      ]
     },
     "execution_count": 18,
     "metadata": {},
     "output_type": "execute_result"
    }
   ],
   "source": [
    "df_1001 = pd.concat([df_947, df_54])\n",
    "df_1001.shape"
   ]
  },
  {
   "cell_type": "code",
   "execution_count": 19,
   "id": "7845a789",
   "metadata": {},
   "outputs": [
    {
     "data": {
      "text/plain": [
       "(1000, 205)"
      ]
     },
     "execution_count": 19,
     "metadata": {},
     "output_type": "execute_result"
    }
   ],
   "source": [
    "df_1000 = df_1001.sample(1000)\n",
    "df_1000.shape"
   ]
  },
  {
   "cell_type": "code",
   "execution_count": 20,
   "id": "c681c8ce",
   "metadata": {},
   "outputs": [
    {
     "data": {
      "text/plain": [
       "953"
      ]
     },
     "execution_count": 20,
     "metadata": {},
     "output_type": "execute_result"
    }
   ],
   "source": [
    "len(df_1000.index.unique())"
   ]
  },
  {
   "cell_type": "code",
   "execution_count": 21,
   "id": "07f5e4ff",
   "metadata": {},
   "outputs": [],
   "source": [
    "path = 'data_TCI_1000.json'\n",
    "df_1000.to_json(path, orient = 'split', compression = 'infer', index = 'true')"
   ]
  },
  {
   "cell_type": "code",
   "execution_count": 31,
   "id": "bd6c9f4d",
   "metadata": {},
   "outputs": [
    {
     "data": {
      "text/plain": [
       "(10, 755)"
      ]
     },
     "execution_count": 31,
     "metadata": {},
     "output_type": "execute_result"
    }
   ],
   "source": [
    "df_sample = df.sample(10)\n",
    "df_sample.shape"
   ]
  },
  {
   "cell_type": "code",
   "execution_count": 32,
   "id": "b6e808f9",
   "metadata": {},
   "outputs": [
    {
     "data": {
      "text/html": [
       "<div>\n",
       "<style scoped>\n",
       "    .dataframe tbody tr th:only-of-type {\n",
       "        vertical-align: middle;\n",
       "    }\n",
       "\n",
       "    .dataframe tbody tr th {\n",
       "        vertical-align: top;\n",
       "    }\n",
       "\n",
       "    .dataframe thead th {\n",
       "        text-align: right;\n",
       "    }\n",
       "</style>\n",
       "<table border=\"1\" class=\"dataframe\">\n",
       "  <thead>\n",
       "    <tr style=\"text-align: right;\">\n",
       "      <th></th>\n",
       "      <th>100G</th>\n",
       "      <th>100ML</th>\n",
       "      <th>1G</th>\n",
       "      <th>200MG</th>\n",
       "      <th>25G</th>\n",
       "      <th>25ML</th>\n",
       "      <th>500G</th>\n",
       "      <th>5G</th>\n",
       "      <th>Analytical Chemistry</th>\n",
       "      <th>CAS</th>\n",
       "      <th>...</th>\n",
       "      <th>sodium didodecyl phosphate(gc)</th>\n",
       "      <th>solubility (very soluble in)</th>\n",
       "      <th>solubility in water</th>\n",
       "      <th>specific gravity (20/20)</th>\n",
       "      <th>specific rotation</th>\n",
       "      <th>specific rotation [a]20/d</th>\n",
       "      <th>storage temperature</th>\n",
       "      <th>store under inert gas</th>\n",
       "      <th>un number</th>\n",
       "      <th>water</th>\n",
       "    </tr>\n",
       "  </thead>\n",
       "  <tbody>\n",
       "    <tr>\n",
       "      <th>L0237</th>\n",
       "      <td>None</td>\n",
       "      <td>None</td>\n",
       "      <td>None</td>\n",
       "      <td>None</td>\n",
       "      <td>None</td>\n",
       "      <td>None</td>\n",
       "      <td>None</td>\n",
       "      <td>None</td>\n",
       "      <td>None</td>\n",
       "      <td>None</td>\n",
       "      <td>...</td>\n",
       "      <td>None</td>\n",
       "      <td>None</td>\n",
       "      <td>None</td>\n",
       "      <td>None</td>\n",
       "      <td>None</td>\n",
       "      <td>None</td>\n",
       "      <td>&lt;0°c</td>\n",
       "      <td>None</td>\n",
       "      <td>None</td>\n",
       "      <td>None</td>\n",
       "    </tr>\n",
       "    <tr>\n",
       "      <th>F0393</th>\n",
       "      <td>None</td>\n",
       "      <td>None</td>\n",
       "      <td>None</td>\n",
       "      <td>None</td>\n",
       "      <td>{'Stock in other WH': '20', 'price': '9,200', ...</td>\n",
       "      <td>None</td>\n",
       "      <td>None</td>\n",
       "      <td>{'Stock in other WH': '20', 'price': '3,200', ...</td>\n",
       "      <td>None</td>\n",
       "      <td>371-42-6</td>\n",
       "      <td>...</td>\n",
       "      <td>None</td>\n",
       "      <td>None</td>\n",
       "      <td>None</td>\n",
       "      <td>1.20</td>\n",
       "      <td>None</td>\n",
       "      <td>None</td>\n",
       "      <td>None</td>\n",
       "      <td>store under inert gas</td>\n",
       "      <td>un3336</td>\n",
       "      <td>None</td>\n",
       "    </tr>\n",
       "    <tr>\n",
       "      <th>C2858</th>\n",
       "      <td>None</td>\n",
       "      <td>None</td>\n",
       "      <td>{'Stock in other WH': 'Contact Company', 'pric...</td>\n",
       "      <td>{'Stock in other WH': 'Contact Company', 'pric...</td>\n",
       "      <td>None</td>\n",
       "      <td>None</td>\n",
       "      <td>None</td>\n",
       "      <td>None</td>\n",
       "      <td>[[ Analytical Reagents,  Spectroscopy Reagents...</td>\n",
       "      <td>53518-18-6</td>\n",
       "      <td>...</td>\n",
       "      <td>None</td>\n",
       "      <td>None</td>\n",
       "      <td>None</td>\n",
       "      <td>None</td>\n",
       "      <td>None</td>\n",
       "      <td>None</td>\n",
       "      <td>None</td>\n",
       "      <td>None</td>\n",
       "      <td>None</td>\n",
       "      <td>None</td>\n",
       "    </tr>\n",
       "    <tr>\n",
       "      <th>C0316</th>\n",
       "      <td>{'Stock in other WH': 'Contact Company', 'pric...</td>\n",
       "      <td>None</td>\n",
       "      <td>None</td>\n",
       "      <td>None</td>\n",
       "      <td>{'Stock in other WH': 'Contact Company', 'pric...</td>\n",
       "      <td>None</td>\n",
       "      <td>None</td>\n",
       "      <td>None</td>\n",
       "      <td>None</td>\n",
       "      <td>302-95-4</td>\n",
       "      <td>...</td>\n",
       "      <td>None</td>\n",
       "      <td>None</td>\n",
       "      <td>soluble</td>\n",
       "      <td>None</td>\n",
       "      <td>42° (c=2,h2o)</td>\n",
       "      <td>+40.0 to +44.0 deg(c=2, h2o)</td>\n",
       "      <td>None</td>\n",
       "      <td>store under inert gas</td>\n",
       "      <td>None</td>\n",
       "      <td>max. 5.0 %</td>\n",
       "    </tr>\n",
       "    <tr>\n",
       "      <th>D1416</th>\n",
       "      <td>None</td>\n",
       "      <td>None</td>\n",
       "      <td>None</td>\n",
       "      <td>None</td>\n",
       "      <td>None</td>\n",
       "      <td>{'Stock in other WH': 'Contact Company', 'pric...</td>\n",
       "      <td>None</td>\n",
       "      <td>None</td>\n",
       "      <td>None</td>\n",
       "      <td>705-86-2</td>\n",
       "      <td>...</td>\n",
       "      <td>None</td>\n",
       "      <td>alcohol</td>\n",
       "      <td>insoluble</td>\n",
       "      <td>0.97</td>\n",
       "      <td>None</td>\n",
       "      <td>None</td>\n",
       "      <td>None</td>\n",
       "      <td>None</td>\n",
       "      <td>None</td>\n",
       "      <td>None</td>\n",
       "    </tr>\n",
       "    <tr>\n",
       "      <th>D5655</th>\n",
       "      <td>None</td>\n",
       "      <td>None</td>\n",
       "      <td>{'Stock in other WH': 'Contact Company', 'pric...</td>\n",
       "      <td>None</td>\n",
       "      <td>None</td>\n",
       "      <td>None</td>\n",
       "      <td>None</td>\n",
       "      <td>{'Stock in other WH': 'Contact Company', 'pric...</td>\n",
       "      <td>None</td>\n",
       "      <td>1671098-46-6</td>\n",
       "      <td>...</td>\n",
       "      <td>None</td>\n",
       "      <td>None</td>\n",
       "      <td>None</td>\n",
       "      <td>None</td>\n",
       "      <td>None</td>\n",
       "      <td>None</td>\n",
       "      <td>None</td>\n",
       "      <td>store under inert gas</td>\n",
       "      <td>un1759</td>\n",
       "      <td>None</td>\n",
       "    </tr>\n",
       "    <tr>\n",
       "      <th>T2759</th>\n",
       "      <td>None</td>\n",
       "      <td>None</td>\n",
       "      <td>{'Stock in other WH': 'Contact Company', 'pric...</td>\n",
       "      <td>None</td>\n",
       "      <td>None</td>\n",
       "      <td>None</td>\n",
       "      <td>None</td>\n",
       "      <td>None</td>\n",
       "      <td>None</td>\n",
       "      <td>27192-91-2</td>\n",
       "      <td>...</td>\n",
       "      <td>None</td>\n",
       "      <td>None</td>\n",
       "      <td>None</td>\n",
       "      <td>None</td>\n",
       "      <td>None</td>\n",
       "      <td>None</td>\n",
       "      <td>None</td>\n",
       "      <td>None</td>\n",
       "      <td>None</td>\n",
       "      <td>None</td>\n",
       "    </tr>\n",
       "    <tr>\n",
       "      <th>H1354</th>\n",
       "      <td>None</td>\n",
       "      <td>{'Stock in other WH': '20', 'price': '19,000',...</td>\n",
       "      <td>None</td>\n",
       "      <td>None</td>\n",
       "      <td>None</td>\n",
       "      <td>{'Stock in other WH': 'Contact Company', 'pric...</td>\n",
       "      <td>None</td>\n",
       "      <td>None</td>\n",
       "      <td>None</td>\n",
       "      <td>505-86-2</td>\n",
       "      <td>...</td>\n",
       "      <td>None</td>\n",
       "      <td>None</td>\n",
       "      <td>None</td>\n",
       "      <td>None</td>\n",
       "      <td>None</td>\n",
       "      <td>None</td>\n",
       "      <td>0-10°c</td>\n",
       "      <td>None</td>\n",
       "      <td>un3267</td>\n",
       "      <td>None</td>\n",
       "    </tr>\n",
       "    <tr>\n",
       "      <th>P0865</th>\n",
       "      <td>None</td>\n",
       "      <td>None</td>\n",
       "      <td>None</td>\n",
       "      <td>None</td>\n",
       "      <td>{'Stock in other WH': 'Contact Company', 'pric...</td>\n",
       "      <td>None</td>\n",
       "      <td>{'Stock in other WH': 'Contact Company', 'pric...</td>\n",
       "      <td>None</td>\n",
       "      <td>None</td>\n",
       "      <td>17026-83-4</td>\n",
       "      <td>...</td>\n",
       "      <td>max. 10.0 %</td>\n",
       "      <td>None</td>\n",
       "      <td>None</td>\n",
       "      <td>None</td>\n",
       "      <td>None</td>\n",
       "      <td>None</td>\n",
       "      <td>None</td>\n",
       "      <td>store under inert gas</td>\n",
       "      <td>None</td>\n",
       "      <td>max. 2.0 %</td>\n",
       "    </tr>\n",
       "    <tr>\n",
       "      <th>H1420</th>\n",
       "      <td>None</td>\n",
       "      <td>None</td>\n",
       "      <td>{'Stock in other WH': 'Contact Company', 'pric...</td>\n",
       "      <td>None</td>\n",
       "      <td>None</td>\n",
       "      <td>None</td>\n",
       "      <td>None</td>\n",
       "      <td>{'Stock in other WH': 'Contact Company', 'pric...</td>\n",
       "      <td>None</td>\n",
       "      <td>17575-15-4</td>\n",
       "      <td>...</td>\n",
       "      <td>None</td>\n",
       "      <td>None</td>\n",
       "      <td>None</td>\n",
       "      <td>None</td>\n",
       "      <td>None</td>\n",
       "      <td>None</td>\n",
       "      <td>None</td>\n",
       "      <td>None</td>\n",
       "      <td>None</td>\n",
       "      <td>None</td>\n",
       "    </tr>\n",
       "  </tbody>\n",
       "</table>\n",
       "<p>10 rows × 64 columns</p>\n",
       "</div>"
      ],
      "text/plain": [
       "                                                    100G  \\\n",
       "L0237                                               None   \n",
       "F0393                                               None   \n",
       "C2858                                               None   \n",
       "C0316  {'Stock in other WH': 'Contact Company', 'pric...   \n",
       "D1416                                               None   \n",
       "D5655                                               None   \n",
       "T2759                                               None   \n",
       "H1354                                               None   \n",
       "P0865                                               None   \n",
       "H1420                                               None   \n",
       "\n",
       "                                                   100ML  \\\n",
       "L0237                                               None   \n",
       "F0393                                               None   \n",
       "C2858                                               None   \n",
       "C0316                                               None   \n",
       "D1416                                               None   \n",
       "D5655                                               None   \n",
       "T2759                                               None   \n",
       "H1354  {'Stock in other WH': '20', 'price': '19,000',...   \n",
       "P0865                                               None   \n",
       "H1420                                               None   \n",
       "\n",
       "                                                      1G  \\\n",
       "L0237                                               None   \n",
       "F0393                                               None   \n",
       "C2858  {'Stock in other WH': 'Contact Company', 'pric...   \n",
       "C0316                                               None   \n",
       "D1416                                               None   \n",
       "D5655  {'Stock in other WH': 'Contact Company', 'pric...   \n",
       "T2759  {'Stock in other WH': 'Contact Company', 'pric...   \n",
       "H1354                                               None   \n",
       "P0865                                               None   \n",
       "H1420  {'Stock in other WH': 'Contact Company', 'pric...   \n",
       "\n",
       "                                                   200MG  \\\n",
       "L0237                                               None   \n",
       "F0393                                               None   \n",
       "C2858  {'Stock in other WH': 'Contact Company', 'pric...   \n",
       "C0316                                               None   \n",
       "D1416                                               None   \n",
       "D5655                                               None   \n",
       "T2759                                               None   \n",
       "H1354                                               None   \n",
       "P0865                                               None   \n",
       "H1420                                               None   \n",
       "\n",
       "                                                     25G  \\\n",
       "L0237                                               None   \n",
       "F0393  {'Stock in other WH': '20', 'price': '9,200', ...   \n",
       "C2858                                               None   \n",
       "C0316  {'Stock in other WH': 'Contact Company', 'pric...   \n",
       "D1416                                               None   \n",
       "D5655                                               None   \n",
       "T2759                                               None   \n",
       "H1354                                               None   \n",
       "P0865  {'Stock in other WH': 'Contact Company', 'pric...   \n",
       "H1420                                               None   \n",
       "\n",
       "                                                    25ML  \\\n",
       "L0237                                               None   \n",
       "F0393                                               None   \n",
       "C2858                                               None   \n",
       "C0316                                               None   \n",
       "D1416  {'Stock in other WH': 'Contact Company', 'pric...   \n",
       "D5655                                               None   \n",
       "T2759                                               None   \n",
       "H1354  {'Stock in other WH': 'Contact Company', 'pric...   \n",
       "P0865                                               None   \n",
       "H1420                                               None   \n",
       "\n",
       "                                                    500G  \\\n",
       "L0237                                               None   \n",
       "F0393                                               None   \n",
       "C2858                                               None   \n",
       "C0316                                               None   \n",
       "D1416                                               None   \n",
       "D5655                                               None   \n",
       "T2759                                               None   \n",
       "H1354                                               None   \n",
       "P0865  {'Stock in other WH': 'Contact Company', 'pric...   \n",
       "H1420                                               None   \n",
       "\n",
       "                                                      5G  \\\n",
       "L0237                                               None   \n",
       "F0393  {'Stock in other WH': '20', 'price': '3,200', ...   \n",
       "C2858                                               None   \n",
       "C0316                                               None   \n",
       "D1416                                               None   \n",
       "D5655  {'Stock in other WH': 'Contact Company', 'pric...   \n",
       "T2759                                               None   \n",
       "H1354                                               None   \n",
       "P0865                                               None   \n",
       "H1420  {'Stock in other WH': 'Contact Company', 'pric...   \n",
       "\n",
       "                                    Analytical Chemistry           CAS  ...  \\\n",
       "L0237                                               None          None  ...   \n",
       "F0393                                               None      371-42-6  ...   \n",
       "C2858  [[ Analytical Reagents,  Spectroscopy Reagents...    53518-18-6  ...   \n",
       "C0316                                               None      302-95-4  ...   \n",
       "D1416                                               None      705-86-2  ...   \n",
       "D5655                                               None  1671098-46-6  ...   \n",
       "T2759                                               None    27192-91-2  ...   \n",
       "H1354                                               None      505-86-2  ...   \n",
       "P0865                                               None    17026-83-4  ...   \n",
       "H1420                                               None    17575-15-4  ...   \n",
       "\n",
       "      sodium didodecyl phosphate(gc) solubility (very soluble in)  \\\n",
       "L0237                           None                         None   \n",
       "F0393                           None                         None   \n",
       "C2858                           None                         None   \n",
       "C0316                           None                         None   \n",
       "D1416                           None                      alcohol   \n",
       "D5655                           None                         None   \n",
       "T2759                           None                         None   \n",
       "H1354                           None                         None   \n",
       "P0865                    max. 10.0 %                         None   \n",
       "H1420                           None                         None   \n",
       "\n",
       "      solubility in water specific gravity (20/20) specific rotation  \\\n",
       "L0237                None                     None              None   \n",
       "F0393                None                     1.20              None   \n",
       "C2858                None                     None              None   \n",
       "C0316             soluble                     None     42° (c=2,h2o)   \n",
       "D1416           insoluble                     0.97              None   \n",
       "D5655                None                     None              None   \n",
       "T2759                None                     None              None   \n",
       "H1354                None                     None              None   \n",
       "P0865                None                     None              None   \n",
       "H1420                None                     None              None   \n",
       "\n",
       "          specific rotation [a]20/d storage temperature  \\\n",
       "L0237                          None                <0°c   \n",
       "F0393                          None                None   \n",
       "C2858                          None                None   \n",
       "C0316  +40.0 to +44.0 deg(c=2, h2o)                None   \n",
       "D1416                          None                None   \n",
       "D5655                          None                None   \n",
       "T2759                          None                None   \n",
       "H1354                          None              0-10°c   \n",
       "P0865                          None                None   \n",
       "H1420                          None                None   \n",
       "\n",
       "       store under inert gas un number       water  \n",
       "L0237                   None      None        None  \n",
       "F0393  store under inert gas    un3336        None  \n",
       "C2858                   None      None        None  \n",
       "C0316  store under inert gas      None  max. 5.0 %  \n",
       "D1416                   None      None        None  \n",
       "D5655  store under inert gas    un1759        None  \n",
       "T2759                   None      None        None  \n",
       "H1354                   None    un3267        None  \n",
       "P0865  store under inert gas      None  max. 2.0 %  \n",
       "H1420                   None      None        None  \n",
       "\n",
       "[10 rows x 64 columns]"
      ]
     },
     "execution_count": 32,
     "metadata": {},
     "output_type": "execute_result"
    }
   ],
   "source": [
    "df_s = df_sample.dropna(axis=1, how='all')\n",
    "df_s"
   ]
  },
  {
   "cell_type": "code",
   "execution_count": 33,
   "id": "759fea6c",
   "metadata": {},
   "outputs": [
    {
     "data": {
      "text/plain": [
       "(10, 64)"
      ]
     },
     "execution_count": 33,
     "metadata": {},
     "output_type": "execute_result"
    }
   ],
   "source": [
    "df_s.shape"
   ]
  },
  {
   "cell_type": "code",
   "execution_count": 34,
   "id": "7c50a488",
   "metadata": {},
   "outputs": [
    {
     "data": {
      "text/plain": [
       "['chloride', 'neutralization value', 'sodium didodecyl phosphate(gc)']"
      ]
     },
     "execution_count": 34,
     "metadata": {},
     "output_type": "execute_result"
    }
   ],
   "source": [
    "[x for x in df_s.keys() if x not in df_1000.keys()]"
   ]
  },
  {
   "cell_type": "code",
   "execution_count": 35,
   "id": "6bc7021a",
   "metadata": {},
   "outputs": [],
   "source": [
    "path_s = 'data_TCI_newdata.json'\n",
    "df_s.to_json(path_s, orient = 'split', compression = 'infer', index = 'true')"
   ]
  },
  {
   "cell_type": "code",
   "execution_count": null,
   "id": "12379316",
   "metadata": {},
   "outputs": [],
   "source": []
  },
  {
   "cell_type": "markdown",
   "id": "e11279b8",
   "metadata": {},
   "source": [
    "# Assigment \n",
    "\n",
    "You will be working with the data file **data_TCI.json**. This file has information of different products provided by the Tokyo Chemical Industry. Information includes the product name, CAS number, price for different sizes, stock, properties, transportation details, etc. An example of a product can be found here -> https://www.tcichemicals.com/JP/en/p/D0529. \n",
    "\n",
    "The data is the raw output of a scraping algorithm (ie. ```BeautifulSoup```). We have to check the data before implementing it along with another project.\n",
    "\n",
    "Your goal is:\n",
    "\n",
    "1. Open the file, load the data and handle errors, timeouts, etc.\n",
    "2. Write a function that will add new entries to your database based on new data that is provided. The new data may have completely new information, so the database might need to change to accept this new information. Use **data_TCI_newdata.json** to test your function.\n",
    "\n",
    "The json files are split oriented (it will be useful to load them using ```orient ='records', compression = 'infer'```).\n",
    "\n",
    "The Best of Luck! 😉"
   ]
  }
 ],
 "metadata": {
  "kernelspec": {
   "display_name": "Python 3 (ipykernel)",
   "language": "python",
   "name": "python3"
  },
  "language_info": {
   "codemirror_mode": {
    "name": "ipython",
    "version": 3
   },
   "file_extension": ".py",
   "mimetype": "text/x-python",
   "name": "python",
   "nbconvert_exporter": "python",
   "pygments_lexer": "ipython3",
   "version": "3.8.12"
  },
  "toc": {
   "base_numbering": 1,
   "nav_menu": {},
   "number_sections": true,
   "sideBar": true,
   "skip_h1_title": false,
   "title_cell": "Table of Contents",
   "title_sidebar": "Contents",
   "toc_cell": false,
   "toc_position": {},
   "toc_section_display": true,
   "toc_window_display": false
  }
 },
 "nbformat": 4,
 "nbformat_minor": 5
}
