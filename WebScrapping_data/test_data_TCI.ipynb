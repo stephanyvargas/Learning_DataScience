{
 "cells": [
  {
   "cell_type": "code",
   "execution_count": 18,
   "id": "b7a226f6",
   "metadata": {},
   "outputs": [
    {
     "data": {
      "text/html": [
       "<div>\n",
       "<style scoped>\n",
       "    .dataframe tbody tr th:only-of-type {\n",
       "        vertical-align: middle;\n",
       "    }\n",
       "\n",
       "    .dataframe tbody tr th {\n",
       "        vertical-align: top;\n",
       "    }\n",
       "\n",
       "    .dataframe thead th {\n",
       "        text-align: right;\n",
       "    }\n",
       "</style>\n",
       "<table border=\"1\" class=\"dataframe\">\n",
       "  <thead>\n",
       "    <tr style=\"text-align: right;\">\n",
       "      <th></th>\n",
       "      <th>name</th>\n",
       "      <th>CAS</th>\n",
       "      <th>code</th>\n",
       "      <th>25G</th>\n",
       "      <th>500G</th>\n",
       "      <th>Product Number</th>\n",
       "      <th>Purity / Analysis Method</th>\n",
       "      <th>Physical State (20 deg.C)</th>\n",
       "      <th>Store Under Inert Gas</th>\n",
       "      <th>Condition to Avoid</th>\n",
       "      <th>...</th>\n",
       "      <th>Boiling Point</th>\n",
       "      <th>Flash point</th>\n",
       "      <th>Specific Gravity (20/20)</th>\n",
       "      <th>Refractive Index</th>\n",
       "      <th>Fire Defense Law</th>\n",
       "      <th>100G</th>\n",
       "      <th>PRTR Law (New Specific Chemical)</th>\n",
       "      <th>Product #</th>\n",
       "      <th>Purity / Analysis Method:</th>\n",
       "      <th>Chemistry</th>\n",
       "    </tr>\n",
       "  </thead>\n",
       "  <tbody>\n",
       "    <tr>\n",
       "      <th>A0001</th>\n",
       "      <td>Abietic Acid</td>\n",
       "      <td>514-10-3</td>\n",
       "      <td>A0001</td>\n",
       "      <td>{'price': '6,200', 'Saitama (Kawaguchi)': '19'...</td>\n",
       "      <td>{'price': '43,800', 'Saitama (Kawaguchi)': '14...</td>\n",
       "      <td>A0001</td>\n",
       "      <td>&gt;80.0%(GC)</td>\n",
       "      <td>Solid</td>\n",
       "      <td>Store under inert gas</td>\n",
       "      <td>Light Sensitive,Air Sensitive,Hygroscopic</td>\n",
       "      <td>...</td>\n",
       "      <td>None</td>\n",
       "      <td>None</td>\n",
       "      <td>NaN</td>\n",
       "      <td>NaN</td>\n",
       "      <td>None</td>\n",
       "      <td>None</td>\n",
       "      <td>None</td>\n",
       "      <td>None</td>\n",
       "      <td>None</td>\n",
       "      <td>None</td>\n",
       "    </tr>\n",
       "    <tr>\n",
       "      <th>A0002</th>\n",
       "      <td>Ethyl Abietate</td>\n",
       "      <td>631-71-0</td>\n",
       "      <td>A0002</td>\n",
       "      <td>{'price': '14,800', 'Saitama (Kawaguchi)': '20...</td>\n",
       "      <td>None</td>\n",
       "      <td>A0002</td>\n",
       "      <td>&gt;80.0%(GC)</td>\n",
       "      <td>Liquid</td>\n",
       "      <td>None</td>\n",
       "      <td>None</td>\n",
       "      <td>...</td>\n",
       "      <td>350 °C</td>\n",
       "      <td>178 °C</td>\n",
       "      <td>1.03</td>\n",
       "      <td>1.53</td>\n",
       "      <td>Group-4-3-III</td>\n",
       "      <td>None</td>\n",
       "      <td>None</td>\n",
       "      <td>None</td>\n",
       "      <td>None</td>\n",
       "      <td>None</td>\n",
       "    </tr>\n",
       "    <tr>\n",
       "      <th>A0003</th>\n",
       "      <td>Acenaphthene</td>\n",
       "      <td>83-32-9</td>\n",
       "      <td>A0003</td>\n",
       "      <td>{'price': '2,800', 'Saitama (Kawaguchi)': '20'...</td>\n",
       "      <td>{'price': '26,100', 'Saitama (Kawaguchi)': '14...</td>\n",
       "      <td>A0003</td>\n",
       "      <td>&gt;99.0%(GC)</td>\n",
       "      <td>Solid</td>\n",
       "      <td>None</td>\n",
       "      <td>None</td>\n",
       "      <td>...</td>\n",
       "      <td>279 °C</td>\n",
       "      <td>None</td>\n",
       "      <td>NaN</td>\n",
       "      <td>NaN</td>\n",
       "      <td>None</td>\n",
       "      <td>{'price': '8,200', 'Saitama (Kawaguchi)': 'Con...</td>\n",
       "      <td>Class 1 Designated Chemical Substances</td>\n",
       "      <td>A0135</td>\n",
       "      <td>&gt;99.5%(GC)</td>\n",
       "      <td>[[ Building Blocks,  Non-Heterocyclic Building...</td>\n",
       "    </tr>\n",
       "  </tbody>\n",
       "</table>\n",
       "<p>3 rows × 43 columns</p>\n",
       "</div>"
      ],
      "text/plain": [
       "                 name       CAS   code  \\\n",
       "A0001    Abietic Acid  514-10-3  A0001   \n",
       "A0002  Ethyl Abietate  631-71-0  A0002   \n",
       "A0003    Acenaphthene   83-32-9  A0003   \n",
       "\n",
       "                                                     25G  \\\n",
       "A0001  {'price': '6,200', 'Saitama (Kawaguchi)': '19'...   \n",
       "A0002  {'price': '14,800', 'Saitama (Kawaguchi)': '20...   \n",
       "A0003  {'price': '2,800', 'Saitama (Kawaguchi)': '20'...   \n",
       "\n",
       "                                                    500G Product Number  \\\n",
       "A0001  {'price': '43,800', 'Saitama (Kawaguchi)': '14...          A0001   \n",
       "A0002                                               None          A0002   \n",
       "A0003  {'price': '26,100', 'Saitama (Kawaguchi)': '14...          A0003   \n",
       "\n",
       "      Purity / Analysis Method Physical State (20 deg.C)  \\\n",
       "A0001               >80.0%(GC)                     Solid   \n",
       "A0002               >80.0%(GC)                    Liquid   \n",
       "A0003               >99.0%(GC)                     Solid   \n",
       "\n",
       "       Store Under Inert Gas                         Condition to Avoid  ...  \\\n",
       "A0001  Store under inert gas  Light Sensitive,Air Sensitive,Hygroscopic  ...   \n",
       "A0002                   None                                       None  ...   \n",
       "A0003                   None                                       None  ...   \n",
       "\n",
       "      Boiling Point  Flash point  Specific Gravity (20/20)  Refractive Index  \\\n",
       "A0001          None         None                       NaN               NaN   \n",
       "A0002        350 °C       178 °C                      1.03              1.53   \n",
       "A0003        279 °C         None                       NaN               NaN   \n",
       "\n",
       "       Fire Defense Law                                               100G  \\\n",
       "A0001              None                                               None   \n",
       "A0002     Group-4-3-III                                               None   \n",
       "A0003              None  {'price': '8,200', 'Saitama (Kawaguchi)': 'Con...   \n",
       "\n",
       "             PRTR Law (New Specific Chemical) Product #  \\\n",
       "A0001                                    None      None   \n",
       "A0002                                    None      None   \n",
       "A0003  Class 1 Designated Chemical Substances     A0135   \n",
       "\n",
       "      Purity / Analysis Method:  \\\n",
       "A0001                      None   \n",
       "A0002                      None   \n",
       "A0003                >99.5%(GC)   \n",
       "\n",
       "                                               Chemistry  \n",
       "A0001                                               None  \n",
       "A0002                                               None  \n",
       "A0003  [[ Building Blocks,  Non-Heterocyclic Building...  \n",
       "\n",
       "[3 rows x 43 columns]"
      ]
     },
     "execution_count": 18,
     "metadata": {},
     "output_type": "execute_result"
    }
   ],
   "source": [
    "import pandas as pd\n",
    "\n",
    "df = pd.read_json('data_TCI.json', orient ='split', compression = 'infer')\n",
    "df"
   ]
  },
  {
   "cell_type": "code",
   "execution_count": 14,
   "id": "10320e82",
   "metadata": {},
   "outputs": [
    {
     "data": {
      "text/plain": [
       "{'price': '6,200',\n",
       " 'Saitama (Kawaguchi)': '19',\n",
       " 'Hyogo (Amagasaki)': '20',\n",
       " 'Stock in other WH': '20'}"
      ]
     },
     "execution_count": 14,
     "metadata": {},
     "output_type": "execute_result"
    }
   ],
   "source": [
    "df['25G']['A0001']"
   ]
  },
  {
   "cell_type": "code",
   "execution_count": 15,
   "id": "04049f72",
   "metadata": {},
   "outputs": [
    {
     "data": {
      "text/plain": [
       "{'price': '43,800',\n",
       " 'Saitama (Kawaguchi)': '14',\n",
       " 'Hyogo (Amagasaki)': 'Contact Company',\n",
       " 'Stock in other WH': 'Contact Company'}"
      ]
     },
     "execution_count": 15,
     "metadata": {},
     "output_type": "execute_result"
    }
   ],
   "source": [
    "df['500G']['A0001']"
   ]
  },
  {
   "cell_type": "code",
   "execution_count": 16,
   "id": "9f6388f1",
   "metadata": {},
   "outputs": [
    {
     "data": {
      "text/plain": [
       "Index(['name', 'CAS', 'code', '25G', '500G', 'Product Number',\n",
       "       'Purity / Analysis Method', 'Physical State (20 deg.C)',\n",
       "       'Store Under Inert Gas', 'Condition to Avoid', 'CAS RN',\n",
       "       'Reaxys Registry Number', 'PubChem Substance ID',\n",
       "       'SDBS (AIST Spectral DB)', 'Merck Index (14)', 'MDL Number',\n",
       "       'Appearance', 'Purity(GC)', 'Melting point', 'Melting Point',\n",
       "       'Specific Rotation', 'Solubility in water', 'Solubility (soluble in)',\n",
       "       'Signal Word', 'RTECS#', 'UN Number', 'Class', 'Packing Group',\n",
       "       'Molecular Formula', 'Molecular Weight', 'Chemical Substance Law_No',\n",
       "       'Life Science', 'Shipment Information', 'Boiling Point', 'Flash point',\n",
       "       'Specific Gravity (20/20)', 'Refractive Index', 'Fire Defense Law',\n",
       "       '100G', 'PRTR Law (New Specific Chemical)', 'Product #',\n",
       "       'Purity / Analysis Method:', 'Chemistry'],\n",
       "      dtype='object')"
      ]
     },
     "execution_count": 16,
     "metadata": {},
     "output_type": "execute_result"
    }
   ],
   "source": [
    "df.keys()"
   ]
  },
  {
   "cell_type": "code",
   "execution_count": 19,
   "id": "dc393eed",
   "metadata": {},
   "outputs": [
    {
     "data": {
      "text/plain": [
       "A0001    Prompt shipment (for products) in Saitama/Hyog...\n",
       "A0002    Prompt shipment (for products) in Saitama/Hyog...\n",
       "A0003    Prompt shipment (for products) in Saitama/Hyog...\n",
       "Name: Shipment Information, dtype: object"
      ]
     },
     "execution_count": 19,
     "metadata": {},
     "output_type": "execute_result"
    }
   ],
   "source": [
    "df['Shipment Information']"
   ]
  },
  {
   "cell_type": "code",
   "execution_count": 21,
   "id": "0b2f178d",
   "metadata": {},
   "outputs": [
    {
     "name": "stdout",
     "output_type": "stream",
     "text": [
      "<class 'pandas.core.frame.DataFrame'>\n",
      "Index: 3 entries, A0001 to A0003\n",
      "Data columns (total 43 columns):\n",
      " #   Column                            Non-Null Count  Dtype  \n",
      "---  ------                            --------------  -----  \n",
      " 0   name                              3 non-null      object \n",
      " 1   CAS                               3 non-null      object \n",
      " 2   code                              3 non-null      object \n",
      " 3   25G                               3 non-null      object \n",
      " 4   500G                              2 non-null      object \n",
      " 5   Product Number                    3 non-null      object \n",
      " 6   Purity / Analysis Method          3 non-null      object \n",
      " 7   Physical State (20 deg.C)         3 non-null      object \n",
      " 8   Store Under Inert Gas             1 non-null      object \n",
      " 9   Condition to Avoid                1 non-null      object \n",
      " 10  CAS RN                            3 non-null      object \n",
      " 11  Reaxys Registry Number            2 non-null      float64\n",
      " 12  PubChem Substance ID              3 non-null      int64  \n",
      " 13  SDBS (AIST Spectral DB)           2 non-null      float64\n",
      " 14  Merck Index (14)                  2 non-null      float64\n",
      " 15  MDL Number                        3 non-null      object \n",
      " 16  Appearance                        3 non-null      object \n",
      " 17  Purity(GC)                        3 non-null      object \n",
      " 18  Melting point                     2 non-null      object \n",
      " 19  Melting Point                     2 non-null      object \n",
      " 20  Specific Rotation                 1 non-null      object \n",
      " 21  Solubility in water               1 non-null      object \n",
      " 22  Solubility (soluble in)           1 non-null      object \n",
      " 23  Signal Word                       1 non-null      object \n",
      " 24  RTECS#                            2 non-null      object \n",
      " 25  UN Number                         2 non-null      object \n",
      " 26  Class                             2 non-null      float64\n",
      " 27  Packing Group                     2 non-null      object \n",
      " 28  Molecular Formula                 3 non-null      object \n",
      " 29  Molecular Weight                  3 non-null      float64\n",
      " 30  Chemical Substance Law_No         2 non-null      object \n",
      " 31  Life Science                      2 non-null      object \n",
      " 32  Shipment Information              3 non-null      object \n",
      " 33  Boiling Point                     2 non-null      object \n",
      " 34  Flash point                       1 non-null      object \n",
      " 35  Specific Gravity (20/20)          1 non-null      float64\n",
      " 36  Refractive Index                  1 non-null      float64\n",
      " 37  Fire Defense Law                  1 non-null      object \n",
      " 38  100G                              1 non-null      object \n",
      " 39  PRTR Law (New Specific Chemical)  1 non-null      object \n",
      " 40  Product #                         1 non-null      object \n",
      " 41  Purity / Analysis Method:         1 non-null      object \n",
      " 42  Chemistry                         1 non-null      object \n",
      "dtypes: float64(7), int64(1), object(35)\n",
      "memory usage: 1.1+ KB\n"
     ]
    }
   ],
   "source": [
    "df.info()"
   ]
  },
  {
   "cell_type": "code",
   "execution_count": 23,
   "id": "769485b4",
   "metadata": {},
   "outputs": [
    {
     "data": {
      "text/html": [
       "<div>\n",
       "<style scoped>\n",
       "    .dataframe tbody tr th:only-of-type {\n",
       "        vertical-align: middle;\n",
       "    }\n",
       "\n",
       "    .dataframe tbody tr th {\n",
       "        vertical-align: top;\n",
       "    }\n",
       "\n",
       "    .dataframe thead th {\n",
       "        text-align: right;\n",
       "    }\n",
       "</style>\n",
       "<table border=\"1\" class=\"dataframe\">\n",
       "  <thead>\n",
       "    <tr style=\"text-align: right;\">\n",
       "      <th></th>\n",
       "      <th>name</th>\n",
       "      <th>Molecular Formula</th>\n",
       "    </tr>\n",
       "  </thead>\n",
       "  <tbody>\n",
       "    <tr>\n",
       "      <th>A0001</th>\n",
       "      <td>Abietic Acid</td>\n",
       "      <td>C__2__0H__3__0O__2</td>\n",
       "    </tr>\n",
       "    <tr>\n",
       "      <th>A0002</th>\n",
       "      <td>Ethyl Abietate</td>\n",
       "      <td>C__2__2H__3__4O__2</td>\n",
       "    </tr>\n",
       "    <tr>\n",
       "      <th>A0003</th>\n",
       "      <td>Acenaphthene</td>\n",
       "      <td>C__1__2H__1__0</td>\n",
       "    </tr>\n",
       "  </tbody>\n",
       "</table>\n",
       "</div>"
      ],
      "text/plain": [
       "                 name   Molecular Formula\n",
       "A0001    Abietic Acid  C__2__0H__3__0O__2\n",
       "A0002  Ethyl Abietate  C__2__2H__3__4O__2\n",
       "A0003    Acenaphthene      C__1__2H__1__0"
      ]
     },
     "execution_count": 23,
     "metadata": {},
     "output_type": "execute_result"
    }
   ],
   "source": [
    "df[['name','Molecular Formula']]"
   ]
  }
 ],
 "metadata": {
  "kernelspec": {
   "display_name": "Python 3 (ipykernel)",
   "language": "python",
   "name": "python3"
  },
  "language_info": {
   "codemirror_mode": {
    "name": "ipython",
    "version": 3
   },
   "file_extension": ".py",
   "mimetype": "text/x-python",
   "name": "python",
   "nbconvert_exporter": "python",
   "pygments_lexer": "ipython3",
   "version": "3.8.12"
  },
  "toc": {
   "base_numbering": 1,
   "nav_menu": {},
   "number_sections": true,
   "sideBar": true,
   "skip_h1_title": false,
   "title_cell": "Table of Contents",
   "title_sidebar": "Contents",
   "toc_cell": false,
   "toc_position": {},
   "toc_section_display": true,
   "toc_window_display": false
  }
 },
 "nbformat": 4,
 "nbformat_minor": 5
}
