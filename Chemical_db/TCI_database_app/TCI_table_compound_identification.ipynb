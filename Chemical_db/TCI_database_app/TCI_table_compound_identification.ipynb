{
 "cells": [
  {
   "cell_type": "markdown",
   "id": "55b99735",
   "metadata": {
    "slideshow": {
     "slide_type": "slide"
    }
   },
   "source": [
    "# Create a database of organic molecules based on TCI scraped data"
   ]
  },
  {
   "cell_type": "code",
   "execution_count": 94,
   "id": "0f8d602f",
   "metadata": {
    "slideshow": {
     "slide_type": "skip"
    }
   },
   "outputs": [],
   "source": [
    "## Imports"
   ]
  },
  {
   "cell_type": "code",
   "execution_count": 1,
   "id": "e17de011",
   "metadata": {
    "slideshow": {
     "slide_type": "skip"
    }
   },
   "outputs": [],
   "source": [
    "import pandas as pd\n",
    "import numpy as np\n",
    "from rdkit.Chem import AllChem as Chem\n",
    "from tqdm.notebook import tqdm\n",
    "from utils import *\n",
    "from config import host, port, database, user, password"
   ]
  },
  {
   "cell_type": "markdown",
   "id": "334c35c4",
   "metadata": {
    "slideshow": {
     "slide_type": "subslide"
    }
   },
   "source": [
    "# Load the data"
   ]
  },
  {
   "cell_type": "code",
   "execution_count": 2,
   "id": "a65f054d",
   "metadata": {
    "slideshow": {
     "slide_type": "fragment"
    }
   },
   "outputs": [
    {
     "name": "stdout",
     "output_type": "stream",
     "text": [
      "/home/stephy/Learning_DataScience/Chemical_db/TCI_database_app/data\n",
      "'TCI_available stock.json'\t\t TCI_properties.json\r\n",
      "'TCI_compound identifications.json'\t'TCI_Related Laws.json'\r\n",
      "'TCI_general information.json'\t\t TCI_specifications.json\r\n",
      "'TCI_GHS precautionary statement.json'\t'TCI_Transport information.json'\r\n",
      " TCI_Other.json\r\n"
     ]
    }
   ],
   "source": [
    "%cd data\n",
    "!ls "
   ]
  },
  {
   "cell_type": "markdown",
   "id": "e3fbb611",
   "metadata": {
    "slideshow": {
     "slide_type": "slide"
    }
   },
   "source": [
    "## Compound Identifications Data"
   ]
  },
  {
   "cell_type": "code",
   "execution_count": 3,
   "id": "9492232c",
   "metadata": {
    "slideshow": {
     "slide_type": "fragment"
    }
   },
   "outputs": [],
   "source": [
    "df = pd.read_json('TCI_compound identifications.json', orient ='records', compression = 'infer')"
   ]
  },
  {
   "cell_type": "markdown",
   "id": "161d8959",
   "metadata": {
    "slideshow": {
     "slide_type": "subslide"
    }
   },
   "source": [
    "### Convert smiles with RDKit and attach to the data"
   ]
  },
  {
   "cell_type": "code",
   "execution_count": 4,
   "id": "5c3e17c2",
   "metadata": {
    "slideshow": {
     "slide_type": "fragment"
    }
   },
   "outputs": [],
   "source": [
    "df['rdkit_smiles'] = df.SMILES_by_PubChem.apply(get_cansmi) # Chem.MolToSmiles(Chem.MolFromSmiles(smi), canonical=True)"
   ]
  },
  {
   "cell_type": "code",
   "execution_count": 6,
   "id": "e0d63793",
   "metadata": {
    "slideshow": {
     "slide_type": "fragment"
    }
   },
   "outputs": [
    {
     "data": {
      "text/html": [
       "<div>\n",
       "<style scoped>\n",
       "    .dataframe tbody tr th:only-of-type {\n",
       "        vertical-align: middle;\n",
       "    }\n",
       "\n",
       "    .dataframe tbody tr th {\n",
       "        vertical-align: top;\n",
       "    }\n",
       "\n",
       "    .dataframe thead th {\n",
       "        text-align: right;\n",
       "    }\n",
       "</style>\n",
       "<table border=\"1\" class=\"dataframe\">\n",
       "  <thead>\n",
       "    <tr style=\"text-align: right;\">\n",
       "      <th></th>\n",
       "      <th>SMILES_by_PubChem</th>\n",
       "      <th>rdkit_smiles</th>\n",
       "    </tr>\n",
       "  </thead>\n",
       "  <tbody>\n",
       "    <tr>\n",
       "      <th>1487</th>\n",
       "      <td>CC1=C(C=NC=C1)N</td>\n",
       "      <td>Cc1ccncc1N</td>\n",
       "    </tr>\n",
       "    <tr>\n",
       "      <th>1212</th>\n",
       "      <td>CCCCCC1=CC=NC=C1</td>\n",
       "      <td>CCCCCc1ccncc1</td>\n",
       "    </tr>\n",
       "    <tr>\n",
       "      <th>930</th>\n",
       "      <td>CC(=O)NC1CCNC1</td>\n",
       "      <td>CC(=O)NC1CCNC1</td>\n",
       "    </tr>\n",
       "    <tr>\n",
       "      <th>962</th>\n",
       "      <td>CC(=O)OC1=CN=CC=C1</td>\n",
       "      <td>CC(=O)Oc1cccnc1</td>\n",
       "    </tr>\n",
       "    <tr>\n",
       "      <th>1168</th>\n",
       "      <td>COC1=CC=CC(=C1)C(=O)NN</td>\n",
       "      <td>COc1cccc(C(=O)NN)c1</td>\n",
       "    </tr>\n",
       "    <tr>\n",
       "      <th>1440</th>\n",
       "      <td>CC(=O)NC1=CC(=C(C=C1)N)C(F)(F)F</td>\n",
       "      <td>CC(=O)Nc1ccc(N)c(C(F)(F)F)c1</td>\n",
       "    </tr>\n",
       "    <tr>\n",
       "      <th>375</th>\n",
       "      <td>CCCCCC(C(=O)C)C(=O)OCC</td>\n",
       "      <td>CCCCCC(C(C)=O)C(=O)OCC</td>\n",
       "    </tr>\n",
       "    <tr>\n",
       "      <th>1290</th>\n",
       "      <td>C1=CC(=NC=C1Br)N</td>\n",
       "      <td>Nc1ccc(Br)cn1</td>\n",
       "    </tr>\n",
       "    <tr>\n",
       "      <th>708</th>\n",
       "      <td>C1=CC(=C(C=C1N)C(=O)O)[N+](=O)[O-]</td>\n",
       "      <td>Nc1ccc([N+](=O)[O-])c(C(=O)O)c1</td>\n",
       "    </tr>\n",
       "    <tr>\n",
       "      <th>1225</th>\n",
       "      <td>C1=CC(=C(C(=C1)Cl)N)C(F)(F)F</td>\n",
       "      <td>Nc1c(Cl)cccc1C(F)(F)F</td>\n",
       "    </tr>\n",
       "  </tbody>\n",
       "</table>\n",
       "</div>"
      ],
      "text/plain": [
       "                       SMILES_by_PubChem                     rdkit_smiles\n",
       "1487                     CC1=C(C=NC=C1)N                       Cc1ccncc1N\n",
       "1212                    CCCCCC1=CC=NC=C1                    CCCCCc1ccncc1\n",
       "930                       CC(=O)NC1CCNC1                   CC(=O)NC1CCNC1\n",
       "962                   CC(=O)OC1=CN=CC=C1                  CC(=O)Oc1cccnc1\n",
       "1168              COC1=CC=CC(=C1)C(=O)NN              COc1cccc(C(=O)NN)c1\n",
       "1440     CC(=O)NC1=CC(=C(C=C1)N)C(F)(F)F     CC(=O)Nc1ccc(N)c(C(F)(F)F)c1\n",
       "375               CCCCCC(C(=O)C)C(=O)OCC           CCCCCC(C(C)=O)C(=O)OCC\n",
       "1290                    C1=CC(=NC=C1Br)N                    Nc1ccc(Br)cn1\n",
       "708   C1=CC(=C(C=C1N)C(=O)O)[N+](=O)[O-]  Nc1ccc([N+](=O)[O-])c(C(=O)O)c1\n",
       "1225        C1=CC(=C(C(=C1)Cl)N)C(F)(F)F            Nc1c(Cl)cccc1C(F)(F)F"
      ]
     },
     "execution_count": 6,
     "metadata": {},
     "output_type": "execute_result"
    }
   ],
   "source": [
    "df[['SMILES_by_PubChem', 'rdkit_smiles']].sample(10)"
   ]
  },
  {
   "cell_type": "code",
   "execution_count": 7,
   "id": "40e72876",
   "metadata": {
    "slideshow": {
     "slide_type": "skip"
    }
   },
   "outputs": [],
   "source": [
    "df.columns = ['name', 'cas', 'reaxys_registry_number', 'pubchem_id',\n",
    "       'sdbs_aist_spectral_db', 'merck_index', 'mdl_number',\n",
    "       'pubchem_smiles', 'id', 'grade', 'cas_rn', 'colour_index',\n",
    "       'enzyme_commission_number', 'rdkit_smiles']"
   ]
  },
  {
   "cell_type": "code",
   "execution_count": 8,
   "id": "eae0b6aa",
   "metadata": {
    "slideshow": {
     "slide_type": "subslide"
    }
   },
   "outputs": [
    {
     "data": {
      "text/html": [
       "<div>\n",
       "<style scoped>\n",
       "    .dataframe tbody tr th:only-of-type {\n",
       "        vertical-align: middle;\n",
       "    }\n",
       "\n",
       "    .dataframe tbody tr th {\n",
       "        vertical-align: top;\n",
       "    }\n",
       "\n",
       "    .dataframe thead th {\n",
       "        text-align: right;\n",
       "    }\n",
       "</style>\n",
       "<table border=\"1\" class=\"dataframe\">\n",
       "  <thead>\n",
       "    <tr style=\"text-align: right;\">\n",
       "      <th></th>\n",
       "      <th>name</th>\n",
       "      <th>cas</th>\n",
       "      <th>reaxys_registry_number</th>\n",
       "      <th>pubchem_id</th>\n",
       "      <th>sdbs_aist_spectral_db</th>\n",
       "      <th>merck_index</th>\n",
       "      <th>mdl_number</th>\n",
       "      <th>pubchem_smiles</th>\n",
       "      <th>id</th>\n",
       "      <th>grade</th>\n",
       "      <th>cas_rn</th>\n",
       "      <th>colour_index</th>\n",
       "      <th>enzyme_commission_number</th>\n",
       "      <th>rdkit_smiles</th>\n",
       "    </tr>\n",
       "  </thead>\n",
       "  <tbody>\n",
       "    <tr>\n",
       "      <th>1</th>\n",
       "      <td>Ethyl Abietate</td>\n",
       "      <td>631-71-0</td>\n",
       "      <td>NaN</td>\n",
       "      <td>87561708.0</td>\n",
       "      <td>NaN</td>\n",
       "      <td>NaN</td>\n",
       "      <td>mfcd00028860</td>\n",
       "      <td>CCOC(=O)C1(CCCC2(C1CC=C3C2CCC(=C3)C(C)C)C)C</td>\n",
       "      <td>A0002</td>\n",
       "      <td>None</td>\n",
       "      <td>None</td>\n",
       "      <td>NaN</td>\n",
       "      <td>None</td>\n",
       "      <td>CCOC(=O)C1(C)CCCC2(C)C3CCC(C(C)C)=CC3=CCC12</td>\n",
       "    </tr>\n",
       "    <tr>\n",
       "      <th>1106</th>\n",
       "      <td>(R)-(-)-2-Aminobutyric Acid</td>\n",
       "      <td>2623-91-8</td>\n",
       "      <td>1720934.0</td>\n",
       "      <td>87562832.0</td>\n",
       "      <td>NaN</td>\n",
       "      <td>NaN</td>\n",
       "      <td>mfcd00064414</td>\n",
       "      <td>CCC(C(=O)O)N</td>\n",
       "      <td>A1377</td>\n",
       "      <td>None</td>\n",
       "      <td>None</td>\n",
       "      <td>NaN</td>\n",
       "      <td>None</td>\n",
       "      <td>CCC(N)C(=O)O</td>\n",
       "    </tr>\n",
       "    <tr>\n",
       "      <th>24</th>\n",
       "      <td>tert-Butyl Acetate</td>\n",
       "      <td>540-88-5</td>\n",
       "      <td>1699506.0</td>\n",
       "      <td>87561729.0</td>\n",
       "      <td>583.0</td>\n",
       "      <td>1537.0</td>\n",
       "      <td>mfcd00008807</td>\n",
       "      <td>CC(=O)OC(C)(C)C</td>\n",
       "      <td>A0026</td>\n",
       "      <td>None</td>\n",
       "      <td>None</td>\n",
       "      <td>NaN</td>\n",
       "      <td>None</td>\n",
       "      <td>CC(=O)OC(C)(C)C</td>\n",
       "    </tr>\n",
       "    <tr>\n",
       "      <th>778</th>\n",
       "      <td>3-Amino-5-methylisoxazole</td>\n",
       "      <td>1072-67-9</td>\n",
       "      <td>108110.0</td>\n",
       "      <td>87562478.0</td>\n",
       "      <td>23830.0</td>\n",
       "      <td>NaN</td>\n",
       "      <td>mfcd00003155</td>\n",
       "      <td>CC1=CC(=NO1)N</td>\n",
       "      <td>A0980</td>\n",
       "      <td>None</td>\n",
       "      <td>None</td>\n",
       "      <td>NaN</td>\n",
       "      <td>None</td>\n",
       "      <td>Cc1cc(N)no1</td>\n",
       "    </tr>\n",
       "    <tr>\n",
       "      <th>265</th>\n",
       "      <td>Disodium Anthraquinone-2,6-disulfonate</td>\n",
       "      <td>853-68-9</td>\n",
       "      <td>3582949.0</td>\n",
       "      <td>87561961.0</td>\n",
       "      <td>7271.0</td>\n",
       "      <td>NaN</td>\n",
       "      <td>mfcd00001230</td>\n",
       "      <td>C1=CC2=C(C=C1S(=O)(=O)[O-])C(=O)C3=C(C2=O)C=C(...</td>\n",
       "      <td>A0308</td>\n",
       "      <td>None</td>\n",
       "      <td>None</td>\n",
       "      <td>NaN</td>\n",
       "      <td>None</td>\n",
       "      <td>O=C1c2ccc(S(=O)(=O)[O-])cc2C(=O)c2ccc(S(=O)(=O...</td>\n",
       "    </tr>\n",
       "  </tbody>\n",
       "</table>\n",
       "</div>"
      ],
      "text/plain": [
       "                                        name        cas  \\\n",
       "1                             Ethyl Abietate   631-71-0   \n",
       "1106             (R)-(-)-2-Aminobutyric Acid  2623-91-8   \n",
       "24                        tert-Butyl Acetate   540-88-5   \n",
       "778                3-Amino-5-methylisoxazole  1072-67-9   \n",
       "265   Disodium Anthraquinone-2,6-disulfonate   853-68-9   \n",
       "\n",
       "      reaxys_registry_number  pubchem_id  sdbs_aist_spectral_db  merck_index  \\\n",
       "1                        NaN  87561708.0                    NaN          NaN   \n",
       "1106               1720934.0  87562832.0                    NaN          NaN   \n",
       "24                 1699506.0  87561729.0                  583.0       1537.0   \n",
       "778                 108110.0  87562478.0                23830.0          NaN   \n",
       "265                3582949.0  87561961.0                 7271.0          NaN   \n",
       "\n",
       "        mdl_number                                     pubchem_smiles     id  \\\n",
       "1     mfcd00028860        CCOC(=O)C1(CCCC2(C1CC=C3C2CCC(=C3)C(C)C)C)C  A0002   \n",
       "1106  mfcd00064414                                       CCC(C(=O)O)N  A1377   \n",
       "24    mfcd00008807                                    CC(=O)OC(C)(C)C  A0026   \n",
       "778   mfcd00003155                                      CC1=CC(=NO1)N  A0980   \n",
       "265   mfcd00001230  C1=CC2=C(C=C1S(=O)(=O)[O-])C(=O)C3=C(C2=O)C=C(...  A0308   \n",
       "\n",
       "     grade cas_rn  colour_index enzyme_commission_number  \\\n",
       "1     None   None           NaN                     None   \n",
       "1106  None   None           NaN                     None   \n",
       "24    None   None           NaN                     None   \n",
       "778   None   None           NaN                     None   \n",
       "265   None   None           NaN                     None   \n",
       "\n",
       "                                           rdkit_smiles  \n",
       "1           CCOC(=O)C1(C)CCCC2(C)C3CCC(C(C)C)=CC3=CCC12  \n",
       "1106                                       CCC(N)C(=O)O  \n",
       "24                                      CC(=O)OC(C)(C)C  \n",
       "778                                         Cc1cc(N)no1  \n",
       "265   O=C1c2ccc(S(=O)(=O)[O-])cc2C(=O)c2ccc(S(=O)(=O...  "
      ]
     },
     "execution_count": 8,
     "metadata": {},
     "output_type": "execute_result"
    }
   ],
   "source": [
    "df.sample(5)"
   ]
  },
  {
   "cell_type": "markdown",
   "id": "fb029948",
   "metadata": {
    "slideshow": {
     "slide_type": "skip"
    }
   },
   "source": [
    "### Columns of the SQL table"
   ]
  },
  {
   "cell_type": "code",
   "execution_count": 9,
   "id": "20f54925",
   "metadata": {
    "slideshow": {
     "slide_type": "skip"
    }
   },
   "outputs": [
    {
     "name": "stdout",
     "output_type": "stream",
     "text": [
      "<class 'pandas.core.frame.DataFrame'>\n",
      "RangeIndex: 2000 entries, 0 to 1999\n",
      "Data columns (total 14 columns):\n",
      " #   Column                    Non-Null Count  Dtype  \n",
      "---  ------                    --------------  -----  \n",
      " 0   name                      2000 non-null   object \n",
      " 1   cas                       2000 non-null   object \n",
      " 2   reaxys_registry_number    1933 non-null   float64\n",
      " 3   pubchem_id                1943 non-null   float64\n",
      " 4   sdbs_aist_spectral_db     918 non-null    float64\n",
      " 5   merck_index               357 non-null    float64\n",
      " 6   mdl_number                1874 non-null   object \n",
      " 7   pubchem_smiles            1972 non-null   object \n",
      " 8   id                        2000 non-null   object \n",
      " 9   grade                     41 non-null     object \n",
      " 10  cas_rn                    51 non-null     object \n",
      " 11  colour_index              45 non-null     float64\n",
      " 12  enzyme_commission_number  9 non-null      object \n",
      " 13  rdkit_smiles              1972 non-null   object \n",
      "dtypes: float64(5), object(9)\n",
      "memory usage: 218.9+ KB\n"
     ]
    }
   ],
   "source": [
    "df.info()"
   ]
  },
  {
   "cell_type": "code",
   "execution_count": 17,
   "id": "45c4db8a",
   "metadata": {
    "slideshow": {
     "slide_type": "skip"
    }
   },
   "outputs": [],
   "source": [
    "columns = \\\n",
    "[('name', 'TEXT', '', 'Name of the compound'),\n",
    " ('cas', 'TEXT', '', 'CAS identification'),\n",
    " ('reaxys_registry_number', 'REAL', '', 'Identifier for chemical substance in Reaxys (Beilstein Registry Number)'),\n",
    " ('pubchem_id', 'REAL', '', 'Identifier from database of chemical molecules and their activities in biological assays PubChem ID'),\n",
    " ('sdbs_aist_spectral_db', 'REAL', '', 'Spectral Database for Organic Compounds'),\n",
    " ('merck_index', 'REAL', '', ' Merck Index for authoritative information on chemicals, drugs and biologicals'), \n",
    " ('mdl_number', 'TEXT', '', 'MLD unique identification number for each reaction and variation.'),\n",
    " ('pubchem_smiles', 'TEXT', '', 'SMILES identifier from Pubchem'),\n",
    " ('id', 'TEXT', 'PRIMARY KEY', 'TCI unique id'),\n",
    " ('grade', 'TEXT', '', 'Grade refering to the purity of the chemical'),\n",
    " ('cas_rn', 'TEXT', '', 'CAS RN unique identifier that provides an unambiguous means to distinguish chemical substances or molecular structures'), \n",
    " ('colour_index', 'REAL', '', 'Colour Index Generic Name describes a commercial product by its recognised usage class, its hue and a serial number'),\n",
    " ('enzyme_commission_number', 'TEXT', '', 'Enzyme Commission numerical classification scheme for enzymes, based on the chemical reactions they catalyze'),\n",
    " ('rdkit_smiles', 'TEXT', '', 'SMILES identifier from RDKit')\n",
    "]"
   ]
  },
  {
   "cell_type": "markdown",
   "id": "86c07cd4",
   "metadata": {
    "slideshow": {
     "slide_type": "subslide"
    }
   },
   "source": [
    "### Details\n",
    "\n",
    "| column name | data type | table constraint | description |\n",
    "| ---- | ---- | ---- | ---- |\n",
    "|name | TEXT | - | Name of the compound |\n",
    "|CAS|TEXT|-|CAS identification|\n",
    "|reaxys registry number|REAL|-|Identifier for chemical substance in Reaxys (Beilstein Registry Number)|\n",
    "|pubchem substance id|REAL|-|Identifier from database of chemical molecules and their activities in biological assays PubChem ID|\n",
    "|sdbs (aist spectral db)|REAL|-|Spectral Database for Organic Compounds|\n",
    "|merck index (14)|REAL|-| Merck Index for authoritative information on chemicals, drugs and biologicals| \n",
    "|mdl number|TEXT|-|MLD unique identification number for each reaction and variation.|\n",
    "|SMILES_by_PubChem|TEXT|-|SMILES identifier from Pubchem|\n",
    "|id|TEXT|PRIMARY KEY|TCI unique id|\n",
    "|grade|TEXT|-|Grade refering to the purity of the chemical|\n",
    "|related cas rn|TEXT|-|CAS RN unique identifier that provides an unambiguous means to distinguish chemical substances or molecular structures| \n",
    "|colour index|REAL|-|Colour Index Generic Name describes a commercial product by its recognised usage class, its hue and a serial number|\n",
    "|enzyme commission number|TEXT|-|Enzyme Commission numerical classification scheme for enzymes, based on the chemical reactions they catalyze|\n",
    "|rdkit_smiles | TEXT | - | SMILES identifier from RDKit |"
   ]
  },
  {
   "cell_type": "markdown",
   "id": "0215d73a",
   "metadata": {
    "slideshow": {
     "slide_type": "subslide"
    }
   },
   "source": [
    "### Create table and upload to server"
   ]
  },
  {
   "cell_type": "code",
   "execution_count": 11,
   "id": "07af93a1",
   "metadata": {
    "slideshow": {
     "slide_type": "fragment"
    }
   },
   "outputs": [],
   "source": [
    "from sqlalchemy import create_engine\n",
    "engine = create_engine(f'postgresql://{user}:{password}@{host}:{port}/{database}')\n",
    "df.to_sql('compound_identification', engine,  index=False)"
   ]
  },
  {
   "cell_type": "code",
   "execution_count": 12,
   "id": "f871097c",
   "metadata": {
    "slideshow": {
     "slide_type": "fragment"
    }
   },
   "outputs": [],
   "source": [
    "# define a primary Key\n",
    "with engine.connect() as con:\n",
    "    con.execute('ALTER TABLE compound_identification ADD PRIMARY KEY (\"id\");')"
   ]
  },
  {
   "cell_type": "code",
   "execution_count": 18,
   "id": "7524377d",
   "metadata": {
    "slideshow": {
     "slide_type": "fragment"
    }
   },
   "outputs": [],
   "source": [
    "#create an index\n",
    "with engine.connect() as con:\n",
    "    con.execute(f\"CREATE INDEX compound_identification_index ON compound_identification({','.join([col[0] for col in columns])});\")"
   ]
  },
  {
   "cell_type": "markdown",
   "id": "6f31e5f7",
   "metadata": {
    "slideshow": {
     "slide_type": "subslide"
    }
   },
   "source": [
    "### Test the connection"
   ]
  },
  {
   "cell_type": "code",
   "execution_count": 27,
   "id": "b46277b0",
   "metadata": {
    "slideshow": {
     "slide_type": "fragment"
    }
   },
   "outputs": [
    {
     "name": "stdout",
     "output_type": "stream",
     "text": [
      "CPU times: user 29.2 ms, sys: 3.39 ms, total: 32.6 ms\n",
      "Wall time: 26 s\n"
     ]
    }
   ],
   "source": [
    "%%time\n",
    "table_retrieved = engine.execute(\"SELECT * FROM compound_identification\").fetchall()"
   ]
  },
  {
   "cell_type": "code",
   "execution_count": 25,
   "id": "9100695d",
   "metadata": {
    "scrolled": true,
    "slideshow": {
     "slide_type": "fragment"
    }
   },
   "outputs": [
    {
     "name": "stdout",
     "output_type": "stream",
     "text": [
      "CPU times: user 33.3 ms, sys: 11.8 ms, total: 45.1 ms\n",
      "Wall time: 19.6 s\n"
     ]
    }
   ],
   "source": [
    "%%time\n",
    "df_retrieved = pd.read_sql(\"SELECT * FROM compound_identification\", engine)"
   ]
  },
  {
   "cell_type": "code",
   "execution_count": 26,
   "id": "e74d7aef",
   "metadata": {
    "slideshow": {
     "slide_type": "subslide"
    }
   },
   "outputs": [
    {
     "data": {
      "text/html": [
       "<div>\n",
       "<style scoped>\n",
       "    .dataframe tbody tr th:only-of-type {\n",
       "        vertical-align: middle;\n",
       "    }\n",
       "\n",
       "    .dataframe tbody tr th {\n",
       "        vertical-align: top;\n",
       "    }\n",
       "\n",
       "    .dataframe thead th {\n",
       "        text-align: right;\n",
       "    }\n",
       "</style>\n",
       "<table border=\"1\" class=\"dataframe\">\n",
       "  <thead>\n",
       "    <tr style=\"text-align: right;\">\n",
       "      <th></th>\n",
       "      <th>name</th>\n",
       "      <th>cas</th>\n",
       "      <th>reaxys_registry_number</th>\n",
       "      <th>pubchem_id</th>\n",
       "      <th>sdbs_aist_spectral_db</th>\n",
       "      <th>merck_index</th>\n",
       "      <th>mdl_number</th>\n",
       "      <th>pubchem_smiles</th>\n",
       "      <th>id</th>\n",
       "      <th>grade</th>\n",
       "      <th>cas_rn</th>\n",
       "      <th>colour_index</th>\n",
       "      <th>enzyme_commission_number</th>\n",
       "      <th>rdkit_smiles</th>\n",
       "    </tr>\n",
       "  </thead>\n",
       "  <tbody>\n",
       "    <tr>\n",
       "      <th>1794</th>\n",
       "      <td>Amino-5-chloro-3-methylbenzoic Acid</td>\n",
       "      <td>20776-67-4</td>\n",
       "      <td>3530413.0</td>\n",
       "      <td>160871357.0</td>\n",
       "      <td>NaN</td>\n",
       "      <td>NaN</td>\n",
       "      <td>mfcd02358895</td>\n",
       "      <td>CC1=CC(=CC(=C1N)C(=O)O)Cl</td>\n",
       "      <td>A2399</td>\n",
       "      <td>None</td>\n",
       "      <td>None</td>\n",
       "      <td>NaN</td>\n",
       "      <td>None</td>\n",
       "      <td>Cc1cc(Cl)cc(C(=O)O)c1N</td>\n",
       "    </tr>\n",
       "    <tr>\n",
       "      <th>296</th>\n",
       "      <td>Amino-1,5-naphthalenedisulfonic Acid Disodium ...</td>\n",
       "      <td>14170-43-5</td>\n",
       "      <td>4117152.0</td>\n",
       "      <td>87561990.0</td>\n",
       "      <td>NaN</td>\n",
       "      <td>NaN</td>\n",
       "      <td>mfcd00070487</td>\n",
       "      <td>C1=CC2=C(C=C(C=C2S(=O)(=O)[O-])N)C(=C1)S(=O)(=...</td>\n",
       "      <td>A0339</td>\n",
       "      <td>None</td>\n",
       "      <td>None</td>\n",
       "      <td>NaN</td>\n",
       "      <td>None</td>\n",
       "      <td>Nc1cc(S(=O)(=O)[O-])c2cccc(S(=O)(=O)[O-])c2c1....</td>\n",
       "    </tr>\n",
       "    <tr>\n",
       "      <th>1559</th>\n",
       "      <td>2-Amino-4,5-dimethylthiazole Hydrobromide</td>\n",
       "      <td>7170-76-5</td>\n",
       "      <td>3690705.0</td>\n",
       "      <td>87559841.0</td>\n",
       "      <td>52113.0</td>\n",
       "      <td>NaN</td>\n",
       "      <td>mfcd00035212</td>\n",
       "      <td>CC1=C(SC(=N1)N)C.Br</td>\n",
       "      <td>A2062</td>\n",
       "      <td>None</td>\n",
       "      <td>None</td>\n",
       "      <td>NaN</td>\n",
       "      <td>None</td>\n",
       "      <td>Br.Cc1nc(N)sc1C</td>\n",
       "    </tr>\n",
       "    <tr>\n",
       "      <th>1096</th>\n",
       "      <td>2-Amino-4,4,4-trifluorobutyric Acid Hydrochloride</td>\n",
       "      <td>15959-93-0</td>\n",
       "      <td>19545620.0</td>\n",
       "      <td>87562822.0</td>\n",
       "      <td>NaN</td>\n",
       "      <td>NaN</td>\n",
       "      <td>mfcd00671488</td>\n",
       "      <td>C(C(C(=O)O)N)C(F)(F)F</td>\n",
       "      <td>A1367</td>\n",
       "      <td>None</td>\n",
       "      <td>None</td>\n",
       "      <td>NaN</td>\n",
       "      <td>None</td>\n",
       "      <td>NC(CC(F)(F)F)C(=O)O</td>\n",
       "    </tr>\n",
       "    <tr>\n",
       "      <th>827</th>\n",
       "      <td>2-Amino-9-fluorenone</td>\n",
       "      <td>3096-57-9</td>\n",
       "      <td>2804184.0</td>\n",
       "      <td>87562532.0</td>\n",
       "      <td>12164.0</td>\n",
       "      <td>NaN</td>\n",
       "      <td>mfcd00001157</td>\n",
       "      <td>C1=CC=C2C(=C1)C3=C(C2=O)C=C(C=C3)N</td>\n",
       "      <td>A1040</td>\n",
       "      <td>None</td>\n",
       "      <td>None</td>\n",
       "      <td>NaN</td>\n",
       "      <td>None</td>\n",
       "      <td>Nc1ccc2c(c1)C(=O)c1ccccc1-2</td>\n",
       "    </tr>\n",
       "    <tr>\n",
       "      <th>1502</th>\n",
       "      <td>Amino-2-chlorophenol</td>\n",
       "      <td>6358-06-1</td>\n",
       "      <td>2081092.0</td>\n",
       "      <td>87559209.0</td>\n",
       "      <td>51618.0</td>\n",
       "      <td>NaN</td>\n",
       "      <td>mfcd01707858</td>\n",
       "      <td>C1=CC(=C(C=C1N)O)Cl</td>\n",
       "      <td>A1976</td>\n",
       "      <td>None</td>\n",
       "      <td>None</td>\n",
       "      <td>NaN</td>\n",
       "      <td>None</td>\n",
       "      <td>Nc1ccc(Cl)c(O)c1</td>\n",
       "    </tr>\n",
       "    <tr>\n",
       "      <th>1908</th>\n",
       "      <td>4-Amino-2-methoxypyridine</td>\n",
       "      <td>20265-39-8</td>\n",
       "      <td>115200.0</td>\n",
       "      <td>172089020.0</td>\n",
       "      <td>NaN</td>\n",
       "      <td>NaN</td>\n",
       "      <td>mfcd06738657</td>\n",
       "      <td>COC1=NC=CC(=C1)N</td>\n",
       "      <td>A2543</td>\n",
       "      <td>None</td>\n",
       "      <td>None</td>\n",
       "      <td>NaN</td>\n",
       "      <td>None</td>\n",
       "      <td>COc1cc(N)ccn1</td>\n",
       "    </tr>\n",
       "    <tr>\n",
       "      <th>1897</th>\n",
       "      <td>Amiodarone Hydrochloride</td>\n",
       "      <td>19774-82-4</td>\n",
       "      <td>4776323.0</td>\n",
       "      <td>172088928.0</td>\n",
       "      <td>NaN</td>\n",
       "      <td>482.0</td>\n",
       "      <td>mfcd00069204</td>\n",
       "      <td>CCCCC1=C(C2=CC=CC=C2O1)C(=O)C3=CC(=C(C(=C3)I)O...</td>\n",
       "      <td>A2530</td>\n",
       "      <td>None</td>\n",
       "      <td>1951-25-3</td>\n",
       "      <td>NaN</td>\n",
       "      <td>None</td>\n",
       "      <td>CCCCc1oc2ccccc2c1C(=O)c1cc(I)c(OCCN(CC)CC)c(I)...</td>\n",
       "    </tr>\n",
       "    <tr>\n",
       "      <th>502</th>\n",
       "      <td>2-Aminothiazole</td>\n",
       "      <td>96-50-4</td>\n",
       "      <td>105738.0</td>\n",
       "      <td>87562204.0</td>\n",
       "      <td>3370.0</td>\n",
       "      <td>479.0</td>\n",
       "      <td>mfcd00005325</td>\n",
       "      <td>C1=CSC(=N1)N</td>\n",
       "      <td>A0633</td>\n",
       "      <td>None</td>\n",
       "      <td>None</td>\n",
       "      <td>NaN</td>\n",
       "      <td>None</td>\n",
       "      <td>Nc1nccs1</td>\n",
       "    </tr>\n",
       "    <tr>\n",
       "      <th>1153</th>\n",
       "      <td>Sodium 4-Acetylbenzenesulfonate</td>\n",
       "      <td>61827-67-6</td>\n",
       "      <td>4218686.0</td>\n",
       "      <td>87562884.0</td>\n",
       "      <td>22400.0</td>\n",
       "      <td>NaN</td>\n",
       "      <td>mfcd00007510</td>\n",
       "      <td>CC(=O)C1=CC=C(C=C1)S(=O)(=O)[O-].[Na+]</td>\n",
       "      <td>A1430</td>\n",
       "      <td>None</td>\n",
       "      <td>None</td>\n",
       "      <td>NaN</td>\n",
       "      <td>None</td>\n",
       "      <td>CC(=O)c1ccc(S(=O)(=O)[O-])cc1.[Na+]</td>\n",
       "    </tr>\n",
       "  </tbody>\n",
       "</table>\n",
       "</div>"
      ],
      "text/plain": [
       "                                                   name         cas  \\\n",
       "1794                Amino-5-chloro-3-methylbenzoic Acid  20776-67-4   \n",
       "296   Amino-1,5-naphthalenedisulfonic Acid Disodium ...  14170-43-5   \n",
       "1559          2-Amino-4,5-dimethylthiazole Hydrobromide   7170-76-5   \n",
       "1096  2-Amino-4,4,4-trifluorobutyric Acid Hydrochloride  15959-93-0   \n",
       "827                                2-Amino-9-fluorenone   3096-57-9   \n",
       "1502                               Amino-2-chlorophenol   6358-06-1   \n",
       "1908                          4-Amino-2-methoxypyridine  20265-39-8   \n",
       "1897                           Amiodarone Hydrochloride  19774-82-4   \n",
       "502                                     2-Aminothiazole     96-50-4   \n",
       "1153                    Sodium 4-Acetylbenzenesulfonate  61827-67-6   \n",
       "\n",
       "      reaxys_registry_number   pubchem_id  sdbs_aist_spectral_db  merck_index  \\\n",
       "1794               3530413.0  160871357.0                    NaN          NaN   \n",
       "296                4117152.0   87561990.0                    NaN          NaN   \n",
       "1559               3690705.0   87559841.0                52113.0          NaN   \n",
       "1096              19545620.0   87562822.0                    NaN          NaN   \n",
       "827                2804184.0   87562532.0                12164.0          NaN   \n",
       "1502               2081092.0   87559209.0                51618.0          NaN   \n",
       "1908                115200.0  172089020.0                    NaN          NaN   \n",
       "1897               4776323.0  172088928.0                    NaN        482.0   \n",
       "502                 105738.0   87562204.0                 3370.0        479.0   \n",
       "1153               4218686.0   87562884.0                22400.0          NaN   \n",
       "\n",
       "        mdl_number                                     pubchem_smiles     id  \\\n",
       "1794  mfcd02358895                          CC1=CC(=CC(=C1N)C(=O)O)Cl  A2399   \n",
       "296   mfcd00070487  C1=CC2=C(C=C(C=C2S(=O)(=O)[O-])N)C(=C1)S(=O)(=...  A0339   \n",
       "1559  mfcd00035212                                CC1=C(SC(=N1)N)C.Br  A2062   \n",
       "1096  mfcd00671488                              C(C(C(=O)O)N)C(F)(F)F  A1367   \n",
       "827   mfcd00001157                 C1=CC=C2C(=C1)C3=C(C2=O)C=C(C=C3)N  A1040   \n",
       "1502  mfcd01707858                                C1=CC(=C(C=C1N)O)Cl  A1976   \n",
       "1908  mfcd06738657                                   COC1=NC=CC(=C1)N  A2543   \n",
       "1897  mfcd00069204  CCCCC1=C(C2=CC=CC=C2O1)C(=O)C3=CC(=C(C(=C3)I)O...  A2530   \n",
       "502   mfcd00005325                                       C1=CSC(=N1)N  A0633   \n",
       "1153  mfcd00007510             CC(=O)C1=CC=C(C=C1)S(=O)(=O)[O-].[Na+]  A1430   \n",
       "\n",
       "     grade     cas_rn  colour_index enzyme_commission_number  \\\n",
       "1794  None       None           NaN                     None   \n",
       "296   None       None           NaN                     None   \n",
       "1559  None       None           NaN                     None   \n",
       "1096  None       None           NaN                     None   \n",
       "827   None       None           NaN                     None   \n",
       "1502  None       None           NaN                     None   \n",
       "1908  None       None           NaN                     None   \n",
       "1897  None  1951-25-3           NaN                     None   \n",
       "502   None       None           NaN                     None   \n",
       "1153  None       None           NaN                     None   \n",
       "\n",
       "                                           rdkit_smiles  \n",
       "1794                             Cc1cc(Cl)cc(C(=O)O)c1N  \n",
       "296   Nc1cc(S(=O)(=O)[O-])c2cccc(S(=O)(=O)[O-])c2c1....  \n",
       "1559                                    Br.Cc1nc(N)sc1C  \n",
       "1096                                NC(CC(F)(F)F)C(=O)O  \n",
       "827                         Nc1ccc2c(c1)C(=O)c1ccccc1-2  \n",
       "1502                                   Nc1ccc(Cl)c(O)c1  \n",
       "1908                                      COc1cc(N)ccn1  \n",
       "1897  CCCCc1oc2ccccc2c1C(=O)c1cc(I)c(OCCN(CC)CC)c(I)...  \n",
       "502                                            Nc1nccs1  \n",
       "1153                CC(=O)c1ccc(S(=O)(=O)[O-])cc1.[Na+]  "
      ]
     },
     "execution_count": 26,
     "metadata": {},
     "output_type": "execute_result"
    }
   ],
   "source": [
    "df_retrieved.sample(10)"
   ]
  },
  {
   "cell_type": "markdown",
   "id": "69163a1c",
   "metadata": {
    "slideshow": {
     "slide_type": "subslide"
    }
   },
   "source": [
    "### Test different queries"
   ]
  },
  {
   "cell_type": "code",
   "execution_count": 31,
   "id": "fd46633a",
   "metadata": {
    "slideshow": {
     "slide_type": "fragment"
    }
   },
   "outputs": [],
   "source": [
    "test_smiles = engine.execute(\"SELECT * FROM compound_identification WHERE rdkit_smiles>'[n,o,s]1cccc1' \").fetchall()"
   ]
  },
  {
   "cell_type": "code",
   "execution_count": 32,
   "id": "6c0cb4d3",
   "metadata": {
    "slideshow": {
     "slide_type": "skip"
    }
   },
   "outputs": [],
   "source": [
    "df_test_smiles = pd.DataFrame(test_smiles)"
   ]
  },
  {
   "cell_type": "code",
   "execution_count": 95,
   "id": "3258a6bb",
   "metadata": {
    "slideshow": {
     "slide_type": "fragment"
    }
   },
   "outputs": [
    {
     "data": {
      "text/html": [
       "<div>\n",
       "<style scoped>\n",
       "    .dataframe tbody tr th:only-of-type {\n",
       "        vertical-align: middle;\n",
       "    }\n",
       "\n",
       "    .dataframe tbody tr th {\n",
       "        vertical-align: top;\n",
       "    }\n",
       "\n",
       "    .dataframe thead th {\n",
       "        text-align: right;\n",
       "    }\n",
       "</style>\n",
       "<table border=\"1\" class=\"dataframe\">\n",
       "  <thead>\n",
       "    <tr style=\"text-align: right;\">\n",
       "      <th></th>\n",
       "      <th>0</th>\n",
       "      <th>1</th>\n",
       "      <th>2</th>\n",
       "      <th>3</th>\n",
       "      <th>4</th>\n",
       "      <th>5</th>\n",
       "      <th>6</th>\n",
       "      <th>7</th>\n",
       "      <th>8</th>\n",
       "      <th>9</th>\n",
       "      <th>10</th>\n",
       "      <th>11</th>\n",
       "      <th>12</th>\n",
       "      <th>13</th>\n",
       "    </tr>\n",
       "  </thead>\n",
       "  <tbody>\n",
       "    <tr>\n",
       "      <th>121</th>\n",
       "      <td>9-Anthraceneboronic Acid</td>\n",
       "      <td>100622-34-2</td>\n",
       "      <td>3301031.0</td>\n",
       "      <td>135727333.0</td>\n",
       "      <td>NaN</td>\n",
       "      <td>NaN</td>\n",
       "      <td>mfcd03425925</td>\n",
       "      <td>B(C1=C2C=CC=CC2=CC3=CC=CC=C13)(O)O</td>\n",
       "      <td>A2328</td>\n",
       "      <td>None</td>\n",
       "      <td>None</td>\n",
       "      <td>NaN</td>\n",
       "      <td>None</td>\n",
       "      <td>OB(O)c1c2ccccc2cc2ccccc12</td>\n",
       "    </tr>\n",
       "    <tr>\n",
       "      <th>60</th>\n",
       "      <td>Dibenzyl Adipate</td>\n",
       "      <td>2451-84-5</td>\n",
       "      <td>1892058.0</td>\n",
       "      <td>87562191.0</td>\n",
       "      <td>7556.0</td>\n",
       "      <td>NaN</td>\n",
       "      <td>mfcd00059667</td>\n",
       "      <td>C1=CC=C(C=C1)COC(=O)CCCCC(=O)OCC2=CC=CC=C2</td>\n",
       "      <td>A0618</td>\n",
       "      <td>None</td>\n",
       "      <td>None</td>\n",
       "      <td>NaN</td>\n",
       "      <td>None</td>\n",
       "      <td>O=C(CCCCC(=O)OCc1ccccc1)OCc1ccccc1</td>\n",
       "    </tr>\n",
       "    <tr>\n",
       "      <th>91</th>\n",
       "      <td>4-(1-Adamantyl)phenol</td>\n",
       "      <td>29799-07-3</td>\n",
       "      <td>2054509.0</td>\n",
       "      <td>87562847.0</td>\n",
       "      <td>30018.0</td>\n",
       "      <td>NaN</td>\n",
       "      <td>mfcd00168143</td>\n",
       "      <td>C1C2CC3CC1CC(C2)(C3)C4=CC=C(C=C4)O</td>\n",
       "      <td>A1392</td>\n",
       "      <td>None</td>\n",
       "      <td>None</td>\n",
       "      <td>NaN</td>\n",
       "      <td>None</td>\n",
       "      <td>Oc1ccc(C23CC4CC(CC(C4)C2)C3)cc1</td>\n",
       "    </tr>\n",
       "    <tr>\n",
       "      <th>119</th>\n",
       "      <td>Ammonium Thioglycolate</td>\n",
       "      <td>5421-46-5</td>\n",
       "      <td>11213443.0</td>\n",
       "      <td>87561582.0</td>\n",
       "      <td>NaN</td>\n",
       "      <td>NaN</td>\n",
       "      <td>mfcd00137451</td>\n",
       "      <td>C(C(=O)[O-])S.[NH4+]</td>\n",
       "      <td>A2217</td>\n",
       "      <td>None</td>\n",
       "      <td>None</td>\n",
       "      <td>NaN</td>\n",
       "      <td>None</td>\n",
       "      <td>O=C([O-])CS.[NH4+]</td>\n",
       "    </tr>\n",
       "    <tr>\n",
       "      <th>110</th>\n",
       "      <td>,3-Anthracenedicarboxylic Anhydride</td>\n",
       "      <td>6812-14-2</td>\n",
       "      <td>206364.0</td>\n",
       "      <td>87558132.0</td>\n",
       "      <td>NaN</td>\n",
       "      <td>NaN</td>\n",
       "      <td>None</td>\n",
       "      <td>C1=CC=C2C=C3C=C4C(=CC3=CC2=C1)C(=O)OC4=O</td>\n",
       "      <td>A1834</td>\n",
       "      <td>None</td>\n",
       "      <td>None</td>\n",
       "      <td>NaN</td>\n",
       "      <td>None</td>\n",
       "      <td>O=C1OC(=O)c2cc3cc4ccccc4cc3cc21</td>\n",
       "    </tr>\n",
       "  </tbody>\n",
       "</table>\n",
       "</div>"
      ],
      "text/plain": [
       "                                      0            1           2   \\\n",
       "121             9-Anthraceneboronic Acid  100622-34-2   3301031.0   \n",
       "60                      Dibenzyl Adipate    2451-84-5   1892058.0   \n",
       "91                 4-(1-Adamantyl)phenol   29799-07-3   2054509.0   \n",
       "119               Ammonium Thioglycolate    5421-46-5  11213443.0   \n",
       "110  ,3-Anthracenedicarboxylic Anhydride    6812-14-2    206364.0   \n",
       "\n",
       "              3        4   5             6   \\\n",
       "121  135727333.0      NaN NaN  mfcd03425925   \n",
       "60    87562191.0   7556.0 NaN  mfcd00059667   \n",
       "91    87562847.0  30018.0 NaN  mfcd00168143   \n",
       "119   87561582.0      NaN NaN  mfcd00137451   \n",
       "110   87558132.0      NaN NaN          None   \n",
       "\n",
       "                                             7      8     9     10  11    12  \\\n",
       "121          B(C1=C2C=CC=CC2=CC3=CC=CC=C13)(O)O  A2328  None  None NaN  None   \n",
       "60   C1=CC=C(C=C1)COC(=O)CCCCC(=O)OCC2=CC=CC=C2  A0618  None  None NaN  None   \n",
       "91           C1C2CC3CC1CC(C2)(C3)C4=CC=C(C=C4)O  A1392  None  None NaN  None   \n",
       "119                        C(C(=O)[O-])S.[NH4+]  A2217  None  None NaN  None   \n",
       "110    C1=CC=C2C=C3C=C4C(=CC3=CC2=C1)C(=O)OC4=O  A1834  None  None NaN  None   \n",
       "\n",
       "                                     13  \n",
       "121           OB(O)c1c2ccccc2cc2ccccc12  \n",
       "60   O=C(CCCCC(=O)OCc1ccccc1)OCc1ccccc1  \n",
       "91      Oc1ccc(C23CC4CC(CC(C4)C2)C3)cc1  \n",
       "119                  O=C([O-])CS.[NH4+]  \n",
       "110     O=C1OC(=O)c2cc3cc4ccccc4cc3cc21  "
      ]
     },
     "execution_count": 95,
     "metadata": {},
     "output_type": "execute_result"
    }
   ],
   "source": [
    "df_test_smiles.sample(5)"
   ]
  },
  {
   "cell_type": "markdown",
   "id": "dd4df7fa",
   "metadata": {
    "slideshow": {
     "slide_type": "slide"
    }
   },
   "source": [
    "## Available Stock"
   ]
  },
  {
   "cell_type": "code",
   "execution_count": 34,
   "id": "a1b22926",
   "metadata": {
    "slideshow": {
     "slide_type": "fragment"
    }
   },
   "outputs": [],
   "source": [
    "df_2 = pd.read_json('TCI_available stock.json', orient ='records', compression = 'infer')"
   ]
  },
  {
   "cell_type": "code",
   "execution_count": 57,
   "id": "89ed59ca",
   "metadata": {},
   "outputs": [],
   "source": [
    "df_2.columns = ['id','Stock25G_price','Stock25G_Saitama_Kawaguchi','Stock25G_Hyogo_Amagasaki',\n",
    " 'Stock25G_Stock_in_other_WH','Stock500G_price','Stock500G_Saitama_Kawaguchi',\n",
    " 'Stock500G_Hyogo_Amagasaki','Stock500G_Stock_in_other_WH','Stock100G_price',\n",
    " 'Stock100G_Saitama_Kawaguchi','Stock100G_Hyogo_Amagasaki',\n",
    " 'Stock100G_Stock_in_other_WH','Stock1G_price','Stock1G_Saitama_Kawaguchi',\n",
    " 'Stock1G_Hyogo_Amagasaki','Stock1G_Stock_in_other_WH','Stock5G_price',\n",
    " 'Stock5G_Saitama_Kawaguchi','Stock5G_Hyogo_Amagasaki',\n",
    " 'Stock5G_Stock_in_other_WH','Stock250G_price','Stock250G_Saitama_Kawaguchi',\n",
    " 'Stock250G_Hyogo_Amagasaki','Stock250G_Stock_in_other_WH','Stock10G_price',\n",
    " 'Stock10G_Saitama_Kawaguchi','Stock10G_Hyogo_Amagasaki',\n",
    " 'Stock10G_Stock_in_other_WH','Stockprepared_after_order_item','Stock200G_price',\n",
    " 'Stock200G_Saitama_Kawaguchi','Stock200G_Hyogo_Amagasaki',\n",
    " 'Stock200G_Stock_in_other_WH','Stock300G_price','Stock300G_Saitama_Kawaguchi',\n",
    " 'Stock300G_Hyogo_Amagasaki','Stock300G_Stock_in_other_WH','Stock20G_price',\n",
    " 'Stock20G_Saitama_Kawaguchi','Stock20G_Hyogo_Amagasaki',\n",
    " 'Stock20G_Stock_in_other_WH','Stock50G_price','Stock50G_Saitama_Kawaguchi',\n",
    " 'Stock50G_Hyogo_Amagasaki','Stock50G_Stock_in_other_WH']"
   ]
  },
  {
   "cell_type": "code",
   "execution_count": 58,
   "id": "934fc1cf",
   "metadata": {
    "slideshow": {
     "slide_type": "subslide"
    }
   },
   "outputs": [
    {
     "data": {
      "text/html": [
       "<div>\n",
       "<style scoped>\n",
       "    .dataframe tbody tr th:only-of-type {\n",
       "        vertical-align: middle;\n",
       "    }\n",
       "\n",
       "    .dataframe tbody tr th {\n",
       "        vertical-align: top;\n",
       "    }\n",
       "\n",
       "    .dataframe thead th {\n",
       "        text-align: right;\n",
       "    }\n",
       "</style>\n",
       "<table border=\"1\" class=\"dataframe\">\n",
       "  <thead>\n",
       "    <tr style=\"text-align: right;\">\n",
       "      <th></th>\n",
       "      <th>id</th>\n",
       "      <th>Stock25G_price</th>\n",
       "      <th>Stock25G_Saitama_Kawaguchi</th>\n",
       "      <th>Stock25G_Hyogo_Amagasaki</th>\n",
       "      <th>Stock25G_Stock_in_other_WH</th>\n",
       "      <th>Stock500G_price</th>\n",
       "      <th>Stock500G_Saitama_Kawaguchi</th>\n",
       "      <th>Stock500G_Hyogo_Amagasaki</th>\n",
       "      <th>Stock500G_Stock_in_other_WH</th>\n",
       "      <th>Stock100G_price</th>\n",
       "      <th>...</th>\n",
       "      <th>Stock300G_Hyogo_Amagasaki</th>\n",
       "      <th>Stock300G_Stock_in_other_WH</th>\n",
       "      <th>Stock20G_price</th>\n",
       "      <th>Stock20G_Saitama_Kawaguchi</th>\n",
       "      <th>Stock20G_Hyogo_Amagasaki</th>\n",
       "      <th>Stock20G_Stock_in_other_WH</th>\n",
       "      <th>Stock50G_price</th>\n",
       "      <th>Stock50G_Saitama_Kawaguchi</th>\n",
       "      <th>Stock50G_Hyogo_Amagasaki</th>\n",
       "      <th>Stock50G_Stock_in_other_WH</th>\n",
       "    </tr>\n",
       "  </thead>\n",
       "  <tbody>\n",
       "    <tr>\n",
       "      <th>1501</th>\n",
       "      <td>A1975</td>\n",
       "      <td>None</td>\n",
       "      <td>None</td>\n",
       "      <td>None</td>\n",
       "      <td>None</td>\n",
       "      <td>None</td>\n",
       "      <td>None</td>\n",
       "      <td>None</td>\n",
       "      <td>None</td>\n",
       "      <td>None</td>\n",
       "      <td>...</td>\n",
       "      <td>None</td>\n",
       "      <td>None</td>\n",
       "      <td>None</td>\n",
       "      <td>NaN</td>\n",
       "      <td>None</td>\n",
       "      <td>None</td>\n",
       "      <td>None</td>\n",
       "      <td>NaN</td>\n",
       "      <td>None</td>\n",
       "      <td>None</td>\n",
       "    </tr>\n",
       "    <tr>\n",
       "      <th>1966</th>\n",
       "      <td>A2647</td>\n",
       "      <td>None</td>\n",
       "      <td>None</td>\n",
       "      <td>None</td>\n",
       "      <td>None</td>\n",
       "      <td>None</td>\n",
       "      <td>None</td>\n",
       "      <td>None</td>\n",
       "      <td>None</td>\n",
       "      <td>None</td>\n",
       "      <td>...</td>\n",
       "      <td>None</td>\n",
       "      <td>None</td>\n",
       "      <td>None</td>\n",
       "      <td>NaN</td>\n",
       "      <td>None</td>\n",
       "      <td>None</td>\n",
       "      <td>None</td>\n",
       "      <td>NaN</td>\n",
       "      <td>None</td>\n",
       "      <td>None</td>\n",
       "    </tr>\n",
       "    <tr>\n",
       "      <th>1036</th>\n",
       "      <td>A1301</td>\n",
       "      <td>None</td>\n",
       "      <td>None</td>\n",
       "      <td>None</td>\n",
       "      <td>None</td>\n",
       "      <td>None</td>\n",
       "      <td>None</td>\n",
       "      <td>None</td>\n",
       "      <td>None</td>\n",
       "      <td>None</td>\n",
       "      <td>...</td>\n",
       "      <td>None</td>\n",
       "      <td>None</td>\n",
       "      <td>None</td>\n",
       "      <td>NaN</td>\n",
       "      <td>None</td>\n",
       "      <td>None</td>\n",
       "      <td>None</td>\n",
       "      <td>NaN</td>\n",
       "      <td>None</td>\n",
       "      <td>None</td>\n",
       "    </tr>\n",
       "    <tr>\n",
       "      <th>915</th>\n",
       "      <td>A1153</td>\n",
       "      <td>None</td>\n",
       "      <td>None</td>\n",
       "      <td>None</td>\n",
       "      <td>None</td>\n",
       "      <td>None</td>\n",
       "      <td>None</td>\n",
       "      <td>None</td>\n",
       "      <td>None</td>\n",
       "      <td>3,100</td>\n",
       "      <td>...</td>\n",
       "      <td>None</td>\n",
       "      <td>None</td>\n",
       "      <td>None</td>\n",
       "      <td>NaN</td>\n",
       "      <td>None</td>\n",
       "      <td>None</td>\n",
       "      <td>None</td>\n",
       "      <td>NaN</td>\n",
       "      <td>None</td>\n",
       "      <td>None</td>\n",
       "    </tr>\n",
       "    <tr>\n",
       "      <th>1670</th>\n",
       "      <td>A2220</td>\n",
       "      <td>None</td>\n",
       "      <td>None</td>\n",
       "      <td>None</td>\n",
       "      <td>None</td>\n",
       "      <td>None</td>\n",
       "      <td>None</td>\n",
       "      <td>None</td>\n",
       "      <td>None</td>\n",
       "      <td>None</td>\n",
       "      <td>...</td>\n",
       "      <td>None</td>\n",
       "      <td>None</td>\n",
       "      <td>None</td>\n",
       "      <td>NaN</td>\n",
       "      <td>None</td>\n",
       "      <td>None</td>\n",
       "      <td>None</td>\n",
       "      <td>NaN</td>\n",
       "      <td>None</td>\n",
       "      <td>None</td>\n",
       "    </tr>\n",
       "  </tbody>\n",
       "</table>\n",
       "<p>5 rows × 46 columns</p>\n",
       "</div>"
      ],
      "text/plain": [
       "         id Stock25G_price Stock25G_Saitama_Kawaguchi  \\\n",
       "1501  A1975           None                       None   \n",
       "1966  A2647           None                       None   \n",
       "1036  A1301           None                       None   \n",
       "915   A1153           None                       None   \n",
       "1670  A2220           None                       None   \n",
       "\n",
       "     Stock25G_Hyogo_Amagasaki Stock25G_Stock_in_other_WH Stock500G_price  \\\n",
       "1501                     None                       None            None   \n",
       "1966                     None                       None            None   \n",
       "1036                     None                       None            None   \n",
       "915                      None                       None            None   \n",
       "1670                     None                       None            None   \n",
       "\n",
       "     Stock500G_Saitama_Kawaguchi Stock500G_Hyogo_Amagasaki  \\\n",
       "1501                        None                      None   \n",
       "1966                        None                      None   \n",
       "1036                        None                      None   \n",
       "915                         None                      None   \n",
       "1670                        None                      None   \n",
       "\n",
       "     Stock500G_Stock_in_other_WH Stock100G_price  ...  \\\n",
       "1501                        None            None  ...   \n",
       "1966                        None            None  ...   \n",
       "1036                        None            None  ...   \n",
       "915                         None           3,100  ...   \n",
       "1670                        None            None  ...   \n",
       "\n",
       "     Stock300G_Hyogo_Amagasaki Stock300G_Stock_in_other_WH Stock20G_price  \\\n",
       "1501                      None                        None           None   \n",
       "1966                      None                        None           None   \n",
       "1036                      None                        None           None   \n",
       "915                       None                        None           None   \n",
       "1670                      None                        None           None   \n",
       "\n",
       "     Stock20G_Saitama_Kawaguchi Stock20G_Hyogo_Amagasaki  \\\n",
       "1501                        NaN                     None   \n",
       "1966                        NaN                     None   \n",
       "1036                        NaN                     None   \n",
       "915                         NaN                     None   \n",
       "1670                        NaN                     None   \n",
       "\n",
       "     Stock20G_Stock_in_other_WH Stock50G_price Stock50G_Saitama_Kawaguchi  \\\n",
       "1501                       None           None                        NaN   \n",
       "1966                       None           None                        NaN   \n",
       "1036                       None           None                        NaN   \n",
       "915                        None           None                        NaN   \n",
       "1670                       None           None                        NaN   \n",
       "\n",
       "     Stock50G_Hyogo_Amagasaki Stock50G_Stock_in_other_WH  \n",
       "1501                     None                       None  \n",
       "1966                     None                       None  \n",
       "1036                     None                       None  \n",
       "915                      None                       None  \n",
       "1670                     None                       None  \n",
       "\n",
       "[5 rows x 46 columns]"
      ]
     },
     "execution_count": 58,
     "metadata": {},
     "output_type": "execute_result"
    }
   ],
   "source": [
    "df_2.sample(5)"
   ]
  },
  {
   "cell_type": "code",
   "execution_count": 59,
   "id": "b8bad60b",
   "metadata": {},
   "outputs": [
    {
     "name": "stdout",
     "output_type": "stream",
     "text": [
      "<class 'pandas.core.frame.DataFrame'>\n",
      "RangeIndex: 2000 entries, 0 to 1999\n",
      "Data columns (total 46 columns):\n",
      " #   Column                          Non-Null Count  Dtype  \n",
      "---  ------                          --------------  -----  \n",
      " 0   id                              2000 non-null   object \n",
      " 1   Stock25G_price                  1236 non-null   object \n",
      " 2   Stock25G_Saitama_Kawaguchi      1236 non-null   object \n",
      " 3   Stock25G_Hyogo_Amagasaki        1236 non-null   object \n",
      " 4   Stock25G_Stock_in_other_WH      1236 non-null   object \n",
      " 5   Stock500G_price                 369 non-null    object \n",
      " 6   Stock500G_Saitama_Kawaguchi     369 non-null    object \n",
      " 7   Stock500G_Hyogo_Amagasaki       369 non-null    object \n",
      " 8   Stock500G_Stock_in_other_WH     369 non-null    object \n",
      " 9   Stock100G_price                 217 non-null    object \n",
      " 10  Stock100G_Saitama_Kawaguchi     217 non-null    object \n",
      " 11  Stock100G_Hyogo_Amagasaki       217 non-null    object \n",
      " 12  Stock100G_Stock_in_other_WH     217 non-null    object \n",
      " 13  Stock1G_price                   566 non-null    object \n",
      " 14  Stock1G_Saitama_Kawaguchi       566 non-null    object \n",
      " 15  Stock1G_Hyogo_Amagasaki         566 non-null    object \n",
      " 16  Stock1G_Stock_in_other_WH       566 non-null    object \n",
      " 17  Stock5G_price                   982 non-null    object \n",
      " 18  Stock5G_Saitama_Kawaguchi       982 non-null    object \n",
      " 19  Stock5G_Hyogo_Amagasaki         982 non-null    object \n",
      " 20  Stock5G_Stock_in_other_WH       982 non-null    object \n",
      " 21  Stock250G_price                 63 non-null     object \n",
      " 22  Stock250G_Saitama_Kawaguchi     63 non-null     object \n",
      " 23  Stock250G_Hyogo_Amagasaki       63 non-null     object \n",
      " 24  Stock250G_Stock_in_other_WH     63 non-null     object \n",
      " 25  Stock10G_price                  55 non-null     object \n",
      " 26  Stock10G_Saitama_Kawaguchi      55 non-null     object \n",
      " 27  Stock10G_Hyogo_Amagasaki        55 non-null     object \n",
      " 28  Stock10G_Stock_in_other_WH      55 non-null     object \n",
      " 29  Stockprepared_after_order_item  4 non-null      object \n",
      " 30  Stock200G_price                 23 non-null     object \n",
      " 31  Stock200G_Saitama_Kawaguchi     23 non-null     object \n",
      " 32  Stock200G_Hyogo_Amagasaki       23 non-null     object \n",
      " 33  Stock200G_Stock_in_other_WH     23 non-null     object \n",
      " 34  Stock300G_price                 3 non-null      object \n",
      " 35  Stock300G_Saitama_Kawaguchi     3 non-null      object \n",
      " 36  Stock300G_Hyogo_Amagasaki       3 non-null      object \n",
      " 37  Stock300G_Stock_in_other_WH     3 non-null      object \n",
      " 38  Stock20G_price                  2 non-null      object \n",
      " 39  Stock20G_Saitama_Kawaguchi      2 non-null      float64\n",
      " 40  Stock20G_Hyogo_Amagasaki        2 non-null      object \n",
      " 41  Stock20G_Stock_in_other_WH      2 non-null      object \n",
      " 42  Stock50G_price                  2 non-null      object \n",
      " 43  Stock50G_Saitama_Kawaguchi      2 non-null      float64\n",
      " 44  Stock50G_Hyogo_Amagasaki        2 non-null      object \n",
      " 45  Stock50G_Stock_in_other_WH      2 non-null      object \n",
      "dtypes: float64(2), object(44)\n",
      "memory usage: 718.9+ KB\n"
     ]
    }
   ],
   "source": [
    "df_2.info()"
   ]
  },
  {
   "cell_type": "code",
   "execution_count": 60,
   "id": "9ad90213",
   "metadata": {},
   "outputs": [],
   "source": [
    "columns_2 = \\\n",
    "[('id', 'TEXT', 'PRIMARY KEY', 'TCI unique id'),\n",
    " ('Stock25G_price', 'TEXT', '', 'Price for the specified quatity of product'),\n",
    " ('Stock25G_Saitama_Kawaguchi','TEXT', '', 'Number of goods available in Saitama_Kawaguchi'),\n",
    " ('Stock25G_Hyogo_Amagasaki','TEXT', '', 'Number of goods available in Hyogo_Amagasaki'),\n",
    " ('Stock25G_Stock_in_other_WH', 'TEXT', ' Number of goods in other Warehouses'),\n",
    " ('Stock500G_price', 'TEXT', '', 'Price for the specified quatity of product'),\n",
    " ('Stock500G_Saitama_Kawaguchi','TEXT', '', 'Number of goods available in Saitama_Kawaguchi'),\n",
    " ('Stock500G_Hyogo_Amagasaki','TEXT', '', 'Number of goods available in Hyogo_Amagasaki'),\n",
    " ('Stock500G_Stock_in_other_WH', 'TEXT', ' Number of goods in other Warehouses'),\n",
    " ('Stock100G_price', 'TEXT', '', 'Price for the specified quatity of product'),\n",
    " ('Stock100G_Saitama_Kawaguchi','TEXT', '', 'Number of goods available in Saitama_Kawaguchi'),\n",
    " ('Stock100G_Hyogo_Amagasaki','TEXT', '', 'Number of goods available in Hyogo_Amagasaki'),\n",
    " ('Stock100G_Stock_in_other_WH', 'TEXT', ' Number of goods in other Warehouses'),\n",
    " ('Stock1G_price', 'TEXT', '', 'Price for the specified quatity of product'),\n",
    " ('Stock1G_Saitama_Kawaguchi','TEXT', '', 'Number of goods available in Saitama_Kawaguchi'),\n",
    " ('Stock1G_Hyogo_Amagasaki','TEXT', '', 'Number of goods available in Hyogo_Amagasaki'),\n",
    " ('Stock1G_Stock_in_other_WH', 'TEXT', ' Number of goods in other Warehouses'),\n",
    " ('Stock5G_price', 'TEXT', '', 'Price for the specified quatity of product'),\n",
    " ('Stock5G_Saitama_Kawaguchi','TEXT', '', 'Number of goods available in Saitama_Kawaguchi'),\n",
    " ('Stock5G_Hyogo_Amagasaki','TEXT', '', 'Number of goods available in Hyogo_Amagasaki'),\n",
    " ('Stock5G_Stock_in_other_WH', 'TEXT', ' Number of goods in other Warehouses'),\n",
    " ('Stock250G_price', 'TEXT', '', 'Price for the specified quatity of product'),\n",
    " ('Stock250G_Saitama_Kawaguchi','TEXT', '', 'Number of goods available in Saitama_Kawaguchi'),\n",
    " ('Stock250G_Hyogo_Amagasaki','TEXT', '', 'Number of goods available in Hyogo_Amagasaki'),\n",
    " ('Stock250G_Stock_in_other_WH', 'TEXT', ' Number of goods in other Warehouses'),\n",
    " ('Stock10G_price', 'TEXT', '', 'Price for the specified quatity of product'),\n",
    " ('Stock10G_Saitama_Kawaguchi','TEXT', '', 'Number of goods available in Saitama_Kawaguchi'),\n",
    " ('Stock10G_Hyogo_Amagasaki','TEXT', '', 'Number of goods available in Hyogo_Amagasaki'),\n",
    " ('Stock10G_Stock_in_other_WH', 'TEXT', ' Number of goods in other Warehouses'),\n",
    " ('Stockprepared_after_order_item', 'TEXT', '',  'Prepared after item'),\n",
    " ('Stock200G_price', 'TEXT', '', 'Price for the specified quatity of product'),\n",
    " ('Stock200G_Saitama_Kawaguchi','TEXT', '', 'Number of goods available in Saitama_Kawaguchi'),\n",
    " ('Stock200G_Hyogo_Amagasaki','TEXT', '', 'Number of goods available in Hyogo_Amagasaki'),\n",
    " ('Stock200G_Stock_in_other_WH', 'TEXT', ' Number of goods in other Warehouses'),\n",
    " ('Stock300G_price', 'TEXT', '', 'Price for the specified quatity of product'),\n",
    " ('Stock300G_Saitama_Kawaguchi','TEXT', '', 'Number of goods available in Saitama_Kawaguchi'),\n",
    " ('Stock300G_Hyogo_Amagasaki','TEXT', '', 'Number of goods available in Hyogo_Amagasaki'),\n",
    " ('Stock300G_Stock_in_other_WH', 'TEXT', ' Number of goods in other Warehouses'),\n",
    " ('Stock20G_price', 'TEXT', '', 'Price for the specified quatity of product'),\n",
    " ('Stock20G_Saitama_Kawaguchi','TEXT', '', 'Number of goods available in Saitama_Kawaguchi'),\n",
    " ('Stock20G_Hyogo_Amagasaki','TEXT', '', 'Number of goods available in Hyogo_Amagasaki'),\n",
    " ('Stock20G_Stock_in_other_WH', 'TEXT', ' Number of goods in other Warehouses'),\n",
    " ('Stock50G_price', 'TEXT', '', 'Price for the specified quatity of product'),\n",
    " ('Stock50G_Saitama_Kawaguchi','TEXT', '', 'Number of goods available in Saitama_Kawaguchi'),\n",
    " ('Stock50G_Hyogo_Amagasaki','TEXT', '', 'Number of goods available in Hyogo_Amagasaki'),\n",
    " ('Stock50G_Stock_in_other_WH', 'TEXT', ' Number of goods in other Warehouses')\n",
    "]"
   ]
  },
  {
   "cell_type": "markdown",
   "id": "78bd6279",
   "metadata": {
    "slideshow": {
     "slide_type": "fragment"
    }
   },
   "source": [
    "### Details\n",
    "\n",
    "| column name | data type | table constraint | description |\n",
    "| ---- | ---- | ---- | ---- |\n",
    "|id|TEXT|PRIMARY KEY|TCI unique id|\n",
    "|Stock25G_price|TEXT|-|Price for the specified quatity of product|\n",
    "|Stock25G_Saitama_Kawaguchi|TEXT|-|Number of goods available in Saitama_Kawaguchi|\n",
    "|Stock25G_Hyogo_Amagasaki|TEXT|-|Number of goods available in Hyogo_Amagasaki|\n",
    "|Stock25G_Stock_in_other_WH|TEXT|-| Number of goods in other Warehouses|"
   ]
  },
  {
   "cell_type": "code",
   "execution_count": 61,
   "id": "37e56f68",
   "metadata": {
    "slideshow": {
     "slide_type": "subslide"
    }
   },
   "outputs": [],
   "source": [
    "df_2.to_sql('available_stock', engine,  index=False)"
   ]
  },
  {
   "cell_type": "code",
   "execution_count": 62,
   "id": "dcf9fdb1",
   "metadata": {
    "slideshow": {
     "slide_type": "fragment"
    }
   },
   "outputs": [],
   "source": [
    "# define a primary Key\n",
    "with engine.connect() as con:\n",
    "    con.execute('ALTER TABLE available_stock ADD PRIMARY KEY (\"id\");')"
   ]
  },
  {
   "cell_type": "code",
   "execution_count": 64,
   "id": "a6bd72d4",
   "metadata": {
    "slideshow": {
     "slide_type": "fragment"
    }
   },
   "outputs": [
    {
     "name": "stdout",
     "output_type": "stream",
     "text": [
      "CPU times: user 226 ms, sys: 2.43 ms, total: 229 ms\n",
      "Wall time: 7.2 s\n"
     ]
    }
   ],
   "source": [
    "%%time\n",
    "table_retrieved_2 = engine.execute(\"SELECT * FROM available_stock\").fetchall()"
   ]
  },
  {
   "cell_type": "code",
   "execution_count": 89,
   "id": "c0261b7d",
   "metadata": {
    "slideshow": {
     "slide_type": "subslide"
    }
   },
   "outputs": [],
   "source": [
    "sql = \"SELECT *\\\n",
    "       FROM compound_identification\\\n",
    "       INNER JOIN available_stock ON compound_identification.id=available_stock.id\\\n",
    "       WHERE rdkit_smiles>'[n,o,s]1cccc1';\""
   ]
  },
  {
   "cell_type": "code",
   "execution_count": 90,
   "id": "eaaa770e",
   "metadata": {
    "slideshow": {
     "slide_type": "fragment"
    }
   },
   "outputs": [
    {
     "name": "stdout",
     "output_type": "stream",
     "text": [
      "CPU times: user 25.4 ms, sys: 2.98 ms, total: 28.4 ms\n",
      "Wall time: 1.83 s\n"
     ]
    }
   ],
   "source": [
    "%%time\n",
    "df_retrieved = pd.read_sql(sql, engine)"
   ]
  },
  {
   "cell_type": "code",
   "execution_count": 93,
   "id": "02c9dc67",
   "metadata": {
    "slideshow": {
     "slide_type": "fragment"
    }
   },
   "outputs": [
    {
     "data": {
      "text/html": [
       "<div>\n",
       "<style scoped>\n",
       "    .dataframe tbody tr th:only-of-type {\n",
       "        vertical-align: middle;\n",
       "    }\n",
       "\n",
       "    .dataframe tbody tr th {\n",
       "        vertical-align: top;\n",
       "    }\n",
       "\n",
       "    .dataframe thead th {\n",
       "        text-align: right;\n",
       "    }\n",
       "</style>\n",
       "<table border=\"1\" class=\"dataframe\">\n",
       "  <thead>\n",
       "    <tr style=\"text-align: right;\">\n",
       "      <th></th>\n",
       "      <th>name</th>\n",
       "      <th>cas</th>\n",
       "      <th>reaxys_registry_number</th>\n",
       "      <th>pubchem_id</th>\n",
       "      <th>mdl_number</th>\n",
       "      <th>pubchem_smiles</th>\n",
       "      <th>id</th>\n",
       "      <th>rdkit_smiles</th>\n",
       "      <th>id</th>\n",
       "      <th>Stock25G_price</th>\n",
       "      <th>Stock25G_Saitama_Kawaguchi</th>\n",
       "      <th>Stock25G_Hyogo_Amagasaki</th>\n",
       "      <th>Stock25G_Stock_in_other_WH</th>\n",
       "    </tr>\n",
       "  </thead>\n",
       "  <tbody>\n",
       "    <tr>\n",
       "      <th>129</th>\n",
       "      <td>Angelicin</td>\n",
       "      <td>523-50-2</td>\n",
       "      <td>153970.0</td>\n",
       "      <td>172089135.0</td>\n",
       "      <td>mfcd00064930</td>\n",
       "      <td>C1=CC2=C(C=CO2)C3=C1C=CC(=O)O3</td>\n",
       "      <td>A2573</td>\n",
       "      <td>O=c1ccc2ccc3occc3c2o1</td>\n",
       "      <td>A2573</td>\n",
       "      <td>47,200</td>\n",
       "      <td>Contact Company</td>\n",
       "      <td>8</td>\n",
       "      <td>Contact Company</td>\n",
       "    </tr>\n",
       "  </tbody>\n",
       "</table>\n",
       "</div>"
      ],
      "text/plain": [
       "          name       cas  reaxys_registry_number   pubchem_id    mdl_number  \\\n",
       "129  Angelicin  523-50-2                153970.0  172089135.0  mfcd00064930   \n",
       "\n",
       "                     pubchem_smiles     id           rdkit_smiles     id  \\\n",
       "129  C1=CC2=C(C=CO2)C3=C1C=CC(=O)O3  A2573  O=c1ccc2ccc3occc3c2o1  A2573   \n",
       "\n",
       "    Stock25G_price Stock25G_Saitama_Kawaguchi Stock25G_Hyogo_Amagasaki  \\\n",
       "129         47,200            Contact Company                        8   \n",
       "\n",
       "    Stock25G_Stock_in_other_WH  \n",
       "129            Contact Company  "
      ]
     },
     "execution_count": 93,
     "metadata": {},
     "output_type": "execute_result"
    }
   ],
   "source": [
    "df_sample = df_retrieved.sample()\n",
    "df_sample.dropna(axis=1)"
   ]
  },
  {
   "cell_type": "code",
   "execution_count": null,
   "id": "cb1daa81",
   "metadata": {},
   "outputs": [],
   "source": []
  }
 ],
 "metadata": {
  "celltoolbar": "Slideshow",
  "kernelspec": {
   "display_name": "Python 3 (ipykernel)",
   "language": "python",
   "name": "python3"
  },
  "language_info": {
   "codemirror_mode": {
    "name": "ipython",
    "version": 3
   },
   "file_extension": ".py",
   "mimetype": "text/x-python",
   "name": "python",
   "nbconvert_exporter": "python",
   "pygments_lexer": "ipython3",
   "version": "3.8.12"
  }
 },
 "nbformat": 4,
 "nbformat_minor": 5
}
