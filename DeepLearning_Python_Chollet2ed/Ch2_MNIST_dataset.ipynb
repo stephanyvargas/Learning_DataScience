{
 "cells": [
  {
   "cell_type": "markdown",
   "id": "7a68ace6",
   "metadata": {},
   "source": [
    "# Chapter 2: Working with the MNIST dataset"
   ]
  },
  {
   "cell_type": "code",
   "execution_count": 2,
   "id": "09cb7488",
   "metadata": {},
   "outputs": [],
   "source": [
    "#Load the MNIST dataset with Keras\n",
    "from tensorflow.keras.datasets import mnist\n",
    "(train_images, train_labels), (test_images, test_labels) = mnist.load_data()"
   ]
  },
  {
   "cell_type": "code",
   "execution_count": 3,
   "id": "a769e638",
   "metadata": {},
   "outputs": [
    {
     "data": {
      "image/png": "[encoded data removed]",
      "text/plain": [
       "<Figure size 432x288 with 1 Axes>"
      ]
     },
     "metadata": {
      "needs_background": "light"
     },
     "output_type": "display_data"
    }
   ],
   "source": [
    "import matplotlib.pyplot as plt\n",
    "plt.imshow(train_images[5], cmap=plt.cm.binary)\n",
    "plt.show()"
   ]
  },
  {
   "cell_type": "code",
   "execution_count": 4,
   "id": "1887f60a",
   "metadata": {},
   "outputs": [
    {
     "data": {
      "text/plain": [
       "(60000, 28, 28)"
      ]
     },
     "execution_count": 4,
     "metadata": {},
     "output_type": "execute_result"
    }
   ],
   "source": [
    "train_images.shape"
   ]
  },
  {
   "cell_type": "code",
   "execution_count": 5,
   "id": "dd0741db",
   "metadata": {},
   "outputs": [
    {
     "data": {
      "text/plain": [
       "array([5, 0, 4, ..., 5, 6, 8], dtype=uint8)"
      ]
     },
     "execution_count": 5,
     "metadata": {},
     "output_type": "execute_result"
    }
   ],
   "source": [
    "train_labels"
   ]
  },
  {
   "cell_type": "code",
   "execution_count": 6,
   "id": "b5bfb387",
   "metadata": {},
   "outputs": [
    {
     "data": {
      "text/plain": [
       "(10000, 28, 28)"
      ]
     },
     "execution_count": 6,
     "metadata": {},
     "output_type": "execute_result"
    }
   ],
   "source": [
    "test_images.shape"
   ]
  },
  {
   "cell_type": "code",
   "execution_count": 7,
   "id": "4c940013",
   "metadata": {},
   "outputs": [
    {
     "data": {
      "text/plain": [
       "array([7, 2, 1, ..., 4, 5, 6], dtype=uint8)"
      ]
     },
     "execution_count": 7,
     "metadata": {},
     "output_type": "execute_result"
    }
   ],
   "source": [
    "test_labels"
   ]
  },
  {
   "cell_type": "markdown",
   "id": "ca95da27",
   "metadata": {},
   "source": [
    "### A basic Neural Network scheme"
   ]
  },
  {
   "cell_type": "code",
   "execution_count": 8,
   "id": "b3413f32",
   "metadata": {},
   "outputs": [
    {
     "name": "stderr",
     "output_type": "stream",
     "text": [
      "2022-03-27 21:39:35.486038: W tensorflow/stream_executor/platform/default/dso_loader.cc:64] Could not load dynamic library 'libcuda.so.1'; dlerror: libcuda.so.1: cannot open shared object file: No such file or directory\n",
      "2022-03-27 21:39:35.486070: W tensorflow/stream_executor/cuda/cuda_driver.cc:326] failed call to cuInit: UNKNOWN ERROR (303)\n",
      "2022-03-27 21:39:35.486087: I tensorflow/stream_executor/cuda/cuda_diagnostics.cc:156] kernel driver does not appear to be running on this host (stephy-VivoBook): /proc/driver/nvidia/version does not exist\n",
      "2022-03-27 21:39:35.486367: I tensorflow/core/platform/cpu_feature_guard.cc:142] This TensorFlow binary is optimized with oneAPI Deep Neural Network Library (oneDNN) to use the following CPU instructions in performance-critical operations:  AVX2 FMA\n",
      "To enable them in other operations, rebuild TensorFlow with the appropriate compiler flags.\n"
     ]
    }
   ],
   "source": [
    "from tensorflow.keras import layers, Sequential\n",
    "\n",
    "model = Sequential([\n",
    "             layers.Dense(512, activation = 'relu'),\n",
    "             layers.Dense(10, activation = 'softmax')\n",
    "])"
   ]
  },
  {
   "cell_type": "markdown",
   "id": "751c8db1",
   "metadata": {},
   "source": [
    "### Define the \"learning\" of the model"
   ]
  },
  {
   "cell_type": "code",
   "execution_count": 9,
   "id": "030f5ca5",
   "metadata": {},
   "outputs": [],
   "source": [
    "model.compile(optimizer='rmsprop',\n",
    "             loss=\"sparse_categorical_crossentropy\",\n",
    "             metrics=[\"accuracy\"])"
   ]
  },
  {
   "cell_type": "markdown",
   "id": "fbf0fea5",
   "metadata": {},
   "source": [
    "### Preprocess the data by reshaping it and scaling it so that all the values are in the [0,1]\n",
    "This is a way to normalize and scale the data, sklearn.preprocessing could be used with \n",
    "MinMaxScaler, StandardScaler, RobustScaler, Normalizer"
   ]
  },
  {
   "cell_type": "code",
   "execution_count": 10,
   "id": "b6f4ca93",
   "metadata": {},
   "outputs": [
    {
     "data": {
      "text/plain": [
       "(60000, 784)"
      ]
     },
     "execution_count": 10,
     "metadata": {},
     "output_type": "execute_result"
    }
   ],
   "source": [
    "#avoid overwriting the input tensor\n",
    "train_images = train_images.copy()\n",
    "train_images = train_images.reshape((60000, 28* 28))\n",
    "train_images = train_images.astype(\"float32\") / 255\n",
    "train_images.shape"
   ]
  },
  {
   "cell_type": "code",
   "execution_count": 11,
   "id": "d34d2e9a",
   "metadata": {},
   "outputs": [
    {
     "data": {
      "text/plain": [
       "(10000, 784)"
      ]
     },
     "execution_count": 11,
     "metadata": {},
     "output_type": "execute_result"
    }
   ],
   "source": [
    "#avoid overwriting the input tensor\n",
    "test_images = test_images.copy()\n",
    "test_images = test_images.reshape((10000, 28* 28))\n",
    "test_images = test_images.astype(\"float32\") / 255\n",
    "test_images.shape"
   ]
  },
  {
   "cell_type": "markdown",
   "id": "1985389d",
   "metadata": {},
   "source": [
    "### Fit the model to the data\n",
    "The values displayed during training: the loss of the model over the training data and the accuracy"
   ]
  },
  {
   "cell_type": "code",
   "execution_count": 12,
   "id": "ea395a17",
   "metadata": {},
   "outputs": [
    {
     "name": "stderr",
     "output_type": "stream",
     "text": [
      "2022-03-27 21:39:36.291018: W tensorflow/core/framework/cpu_allocator_impl.cc:80] Allocation of 188160000 exceeds 10% of free system memory.\n",
      "2022-03-27 21:39:36.424873: I tensorflow/compiler/mlir/mlir_graph_optimization_pass.cc:176] None of the MLIR Optimization Passes are enabled (registered 2)\n",
      "2022-03-27 21:39:36.425374: I tensorflow/core/platform/profile_utils/cpu_utils.cc:114] CPU Frequency: 2099940000 Hz\n"
     ]
    },
    {
     "name": "stdout",
     "output_type": "stream",
     "text": [
      "Epoch 1/5\n",
      "469/469 [==============================] - 3s 6ms/step - loss: 0.2555 - accuracy: 0.9269\n",
      "Epoch 2/5\n",
      "469/469 [==============================] - 3s 6ms/step - loss: 0.1044 - accuracy: 0.9693\n",
      "Epoch 3/5\n",
      "469/469 [==============================] - 3s 6ms/step - loss: 0.0683 - accuracy: 0.9793\n",
      "Epoch 4/5\n",
      "469/469 [==============================] - 3s 6ms/step - loss: 0.0500 - accuracy: 0.9848\n",
      "Epoch 5/5\n",
      "469/469 [==============================] - 3s 6ms/step - loss: 0.0383 - accuracy: 0.9888\n"
     ]
    }
   ],
   "source": [
    "history = model.fit(train_images, train_labels, epochs=5, batch_size=128)"
   ]
  },
  {
   "cell_type": "markdown",
   "id": "270d05a6",
   "metadata": {},
   "source": [
    "### Predict the values"
   ]
  },
  {
   "cell_type": "code",
   "execution_count": 13,
   "id": "5414c908",
   "metadata": {},
   "outputs": [
    {
     "data": {
      "text/plain": [
       "array([[1.04976916e-09, 5.14532916e-10, 1.82810550e-06, 5.26725671e-06,\n",
       "        2.17788157e-12, 7.38392458e-09, 2.55098096e-15, 9.99992728e-01,\n",
       "        4.30470593e-09, 2.61416261e-07],\n",
       "       [2.23947833e-10, 1.45275942e-06, 9.99996543e-01, 1.96537894e-06,\n",
       "        7.71595949e-20, 7.17137993e-09, 1.22491586e-10, 2.64581805e-16,\n",
       "        6.81583234e-09, 1.75579091e-16],\n",
       "       [3.88773742e-08, 9.99856353e-01, 9.97912412e-06, 9.52266817e-07,\n",
       "        3.23677195e-05, 2.79789128e-06, 8.36730635e-07, 7.96009263e-05,\n",
       "        1.55174694e-05, 1.49573918e-06],\n",
       "       [9.99686241e-01, 2.67126898e-09, 2.26955279e-04, 3.99384874e-07,\n",
       "        4.15729424e-08, 1.41122666e-06, 2.57199758e-06, 5.63330432e-05,\n",
       "        6.57832189e-09, 2.61495970e-05],\n",
       "       [1.19412525e-05, 6.16695695e-10, 1.25169026e-05, 2.99993843e-07,\n",
       "        9.02450442e-01, 8.21178730e-07, 7.21510423e-06, 7.20012322e-05,\n",
       "        3.17342601e-05, 9.74130258e-02],\n",
       "       [3.63204578e-10, 9.99878407e-01, 4.80167195e-08, 1.78612733e-08,\n",
       "        1.15740340e-05, 7.56568053e-09, 2.39700393e-09, 1.09341338e-04,\n",
       "        2.86776896e-07, 3.56599514e-07],\n",
       "       [1.37818142e-11, 3.85965482e-09, 6.82277612e-09, 1.59846252e-07,\n",
       "        9.99035478e-01, 8.32708054e-07, 3.69065951e-08, 5.35880235e-06,\n",
       "        3.33500589e-04, 6.24777749e-04],\n",
       "       [2.27725838e-10, 1.25087320e-06, 1.35610185e-06, 4.88981546e-04,\n",
       "        1.06495572e-04, 1.72013042e-05, 2.11922008e-10, 1.95397606e-05,\n",
       "        1.68566260e-06, 9.99363482e-01],\n",
       "       [4.74959794e-10, 4.46864795e-10, 3.95437892e-05, 2.79648589e-08,\n",
       "        2.48522501e-05, 9.86306071e-01, 1.14872754e-02, 1.08607467e-09,\n",
       "        4.89996106e-04, 1.65227242e-03],\n",
       "       [1.29826727e-12, 8.39808691e-13, 5.60424580e-12, 8.36273486e-08,\n",
       "        2.99311330e-04, 2.32011577e-10, 7.06465865e-13, 4.42854303e-04,\n",
       "        2.51159759e-06, 9.99255240e-01]], dtype=float32)"
      ]
     },
     "execution_count": 13,
     "metadata": {},
     "output_type": "execute_result"
    }
   ],
   "source": [
    "#Chack the very first 10 data values\n",
    "test_digits = test_images[0:10]\n",
    "predictions = model.predict(test_digits)\n",
    "predictions"
   ]
  },
  {
   "cell_type": "code",
   "execution_count": 14,
   "id": "9c84de46",
   "metadata": {},
   "outputs": [
    {
     "data": {
      "text/plain": [
       "array([1.0497692e-09, 5.1453292e-10, 1.8281055e-06, 5.2672567e-06,\n",
       "       2.1778816e-12, 7.3839246e-09, 2.5509810e-15, 9.9999273e-01,\n",
       "       4.3047059e-09, 2.6141626e-07], dtype=float32)"
      ]
     },
     "execution_count": 14,
     "metadata": {},
     "output_type": "execute_result"
    }
   ],
   "source": [
    "predictions[0]"
   ]
  },
  {
   "cell_type": "code",
   "execution_count": 15,
   "id": "fdbb30d7",
   "metadata": {},
   "outputs": [
    {
     "data": {
      "text/plain": [
       "7"
      ]
     },
     "execution_count": 15,
     "metadata": {},
     "output_type": "execute_result"
    }
   ],
   "source": [
    "predictions[0].argmax()"
   ]
  },
  {
   "cell_type": "code",
   "execution_count": 16,
   "id": "63adbd4c",
   "metadata": {},
   "outputs": [
    {
     "data": {
      "image/png": "[encoded data removed]",
      "text/plain": [
       "<Figure size 432x288 with 1 Axes>"
      ]
     },
     "metadata": {
      "needs_background": "light"
     },
     "output_type": "display_data"
    }
   ],
   "source": [
    "plt.imshow(test_images[0].reshape(28,28), cmap=plt.cm.binary)\n",
    "plt.show()"
   ]
  },
  {
   "cell_type": "code",
   "execution_count": 17,
   "id": "aa5d8f93",
   "metadata": {},
   "outputs": [
    {
     "data": {
      "text/plain": [
       "0.9999927"
      ]
     },
     "execution_count": 17,
     "metadata": {},
     "output_type": "execute_result"
    }
   ],
   "source": [
    "predictions[0][7]"
   ]
  },
  {
   "cell_type": "code",
   "execution_count": 18,
   "id": "bcef171b",
   "metadata": {},
   "outputs": [
    {
     "data": {
      "text/plain": [
       "7"
      ]
     },
     "execution_count": 18,
     "metadata": {},
     "output_type": "execute_result"
    }
   ],
   "source": [
    "test_labels[0]"
   ]
  },
  {
   "cell_type": "markdown",
   "id": "f88e006c",
   "metadata": {},
   "source": [
    "### Evaluate the model on new data\n",
    "The gap between the trainig accuracy and test accuracy is an example of overfitting."
   ]
  },
  {
   "cell_type": "code",
   "execution_count": 19,
   "id": "6698baa6",
   "metadata": {},
   "outputs": [
    {
     "name": "stdout",
     "output_type": "stream",
     "text": [
      "313/313 [==============================] - 1s 1ms/step - loss: 0.0700 - accuracy: 0.9788\n"
     ]
    },
    {
     "data": {
      "text/plain": [
       "0.9787999987602234"
      ]
     },
     "execution_count": 19,
     "metadata": {},
     "output_type": "execute_result"
    }
   ],
   "source": [
    "test_loss, test_accuracy = model.evaluate(test_images, test_labels)\n",
    "test_accuracy"
   ]
  },
  {
   "cell_type": "code",
   "execution_count": 20,
   "id": "4ab4d6d3",
   "metadata": {},
   "outputs": [
    {
     "data": {
      "text/plain": [
       "0.969813346862793"
      ]
     },
     "execution_count": 20,
     "metadata": {},
     "output_type": "execute_result"
    }
   ],
   "source": [
    "import numpy as np\n",
    "np.mean(history.history['accuracy'])"
   ]
  },
  {
   "cell_type": "markdown",
   "id": "6f650685",
   "metadata": {},
   "source": [
    "### Check the time that takes to do train"
   ]
  },
  {
   "cell_type": "code",
   "execution_count": 21,
   "id": "290443c8",
   "metadata": {},
   "outputs": [
    {
     "name": "stdout",
     "output_type": "stream",
     "text": [
      "Epoch 1/5\n",
      " 17/469 [>.............................] - ETA: 3s - loss: 0.0333 - accuracy: 0.9908"
     ]
    },
    {
     "name": "stderr",
     "output_type": "stream",
     "text": [
      "2022-03-27 21:39:51.695701: W tensorflow/core/framework/cpu_allocator_impl.cc:80] Allocation of 188160000 exceeds 10% of free system memory.\n"
     ]
    },
    {
     "name": "stdout",
     "output_type": "stream",
     "text": [
      "469/469 [==============================] - 3s 6ms/step - loss: 0.0291 - accuracy: 0.9915\n",
      "Epoch 2/5\n",
      "469/469 [==============================] - 3s 6ms/step - loss: 0.0225 - accuracy: 0.9934\n",
      "Epoch 3/5\n",
      "469/469 [==============================] - 3s 6ms/step - loss: 0.0172 - accuracy: 0.9947\n",
      "Epoch 4/5\n",
      "469/469 [==============================] - 3s 6ms/step - loss: 0.0132 - accuracy: 0.9961\n",
      "Epoch 5/5\n",
      "469/469 [==============================] - 3s 6ms/step - loss: 0.0107 - accuracy: 0.9968\n"
     ]
    },
    {
     "data": {
      "text/plain": [
       "14.736417531967163"
      ]
     },
     "execution_count": 21,
     "metadata": {},
     "output_type": "execute_result"
    }
   ],
   "source": [
    "import time \n",
    "\n",
    "time0 = time.time()\n",
    "history = model.fit(train_images, train_labels, epochs=5, batch_size=128)\n",
    "time.time() - time0 #in seconds"
   ]
  },
  {
   "cell_type": "markdown",
   "id": "3e8c7d0c",
   "metadata": {},
   "source": [
    "### Optimizers can be defined using the optimizers package"
   ]
  },
  {
   "cell_type": "code",
   "execution_count": 25,
   "id": "7ed5d855",
   "metadata": {},
   "outputs": [],
   "source": [
    "from tensorflow.keras import optimizers\n",
    "\n",
    "optimizer_SGD = optimizers.SGD(learning_rate=1e-3)"
   ]
  },
  {
   "cell_type": "code",
   "execution_count": 27,
   "id": "42da8ca3",
   "metadata": {},
   "outputs": [],
   "source": [
    "model.compile(optimizer=optimizer_SGD,\n",
    "             loss=\"sparse_categorical_crossentropy\",\n",
    "             metrics=[\"accuracy\"])"
   ]
  },
  {
   "cell_type": "code",
   "execution_count": 32,
   "id": "059ec2ac",
   "metadata": {},
   "outputs": [
    {
     "name": "stdout",
     "output_type": "stream",
     "text": [
      "Epoch 1/5\n",
      " 44/469 [=>............................] - ETA: 1s - loss: 0.0056 - accuracy: 0.9982"
     ]
    },
    {
     "name": "stderr",
     "output_type": "stream",
     "text": [
      "2022-03-27 21:45:07.523017: W tensorflow/core/framework/cpu_allocator_impl.cc:80] Allocation of 188160000 exceeds 10% of free system memory.\n"
     ]
    },
    {
     "name": "stdout",
     "output_type": "stream",
     "text": [
      "469/469 [==============================] - 2s 4ms/step - loss: 0.0057 - accuracy: 0.9986\n",
      "Epoch 2/5\n",
      "469/469 [==============================] - 2s 4ms/step - loss: 0.0055 - accuracy: 0.9988\n",
      "Epoch 3/5\n",
      "469/469 [==============================] - 2s 4ms/step - loss: 0.0053 - accuracy: 0.9989\n",
      "Epoch 4/5\n",
      "469/469 [==============================] - 2s 4ms/step - loss: 0.0051 - accuracy: 0.9989\n",
      "Epoch 5/5\n",
      "469/469 [==============================] - 2s 4ms/step - loss: 0.0050 - accuracy: 0.9990\n"
     ]
    },
    {
     "data": {
      "text/plain": [
       "9.141441345214844"
      ]
     },
     "execution_count": 32,
     "metadata": {},
     "output_type": "execute_result"
    }
   ],
   "source": [
    "time0_SGD = time.time()\n",
    "history_SGD = model.fit(train_images, train_labels, epochs=5, batch_size=128)\n",
    "time.time() - time0_SGD"
   ]
  },
  {
   "cell_type": "code",
   "execution_count": 30,
   "id": "476d709b",
   "metadata": {},
   "outputs": [
    {
     "data": {
      "text/plain": [
       "7"
      ]
     },
     "execution_count": 30,
     "metadata": {},
     "output_type": "execute_result"
    }
   ],
   "source": [
    "predictions = model.predict(test_digits)\n",
    "predictions[0].argmax()"
   ]
  },
  {
   "cell_type": "code",
   "execution_count": 31,
   "id": "b4518558",
   "metadata": {},
   "outputs": [
    {
     "data": {
      "text/plain": [
       "0.9999999"
      ]
     },
     "execution_count": 31,
     "metadata": {},
     "output_type": "execute_result"
    }
   ],
   "source": [
    "predictions[0][7]"
   ]
  },
  {
   "cell_type": "code",
   "execution_count": 33,
   "id": "70b1c53a",
   "metadata": {},
   "outputs": [
    {
     "name": "stdout",
     "output_type": "stream",
     "text": [
      "313/313 [==============================] - 1s 1ms/step - loss: 0.0663 - accuracy: 0.9820\n"
     ]
    },
    {
     "data": {
      "text/plain": [
       "0.9819999933242798"
      ]
     },
     "execution_count": 33,
     "metadata": {},
     "output_type": "execute_result"
    }
   ],
   "source": [
    "test_loss, test_accuracy = model.evaluate(test_images, test_labels)\n",
    "test_accuracy"
   ]
  },
  {
   "cell_type": "code",
   "execution_count": null,
   "id": "bf84166a",
   "metadata": {},
   "outputs": [],
   "source": []
  },
  {
   "cell_type": "code",
   "execution_count": null,
   "id": "ffcf7b38",
   "metadata": {},
   "outputs": [],
   "source": []
  },
  {
   "cell_type": "code",
   "execution_count": null,
   "id": "5ee21e9f",
   "metadata": {},
   "outputs": [],
   "source": []
  }
 ],
 "metadata": {
  "kernelspec": {
   "display_name": "Python 3 (ipykernel)",
   "language": "python",
   "name": "python3"
  },
  "language_info": {
   "codemirror_mode": {
    "name": "ipython",
    "version": 3
   },
   "file_extension": ".py",
   "mimetype": "text/x-python",
   "name": "python",
   "nbconvert_exporter": "python",
   "pygments_lexer": "ipython3",
   "version": "3.8.12"
  },
  "toc": {
   "base_numbering": 1,
   "nav_menu": {},
   "number_sections": true,
   "sideBar": true,
   "skip_h1_title": false,
   "title_cell": "Table of Contents",
   "title_sidebar": "Contents",
   "toc_cell": false,
   "toc_position": {},
   "toc_section_display": true,
   "toc_window_display": false
  }
 },
 "nbformat": 4,
 "nbformat_minor": 5
}
