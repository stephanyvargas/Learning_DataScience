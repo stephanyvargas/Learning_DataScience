{
 "cells": [
  {
   "cell_type": "markdown",
   "id": "7a68ace6",
   "metadata": {},
   "source": [
    "# Chapter 2: Working with the MNIST dataset"
   ]
  },
  {
   "cell_type": "code",
   "execution_count": 19,
   "id": "0df4a390",
   "metadata": {},
   "outputs": [],
   "source": [
    "#Load the MNIST dataset with Keras\n",
    "from tensorflow.keras.datasets import mnist\n",
    "(train_images, train_labels), (test_images, test_labels) = mnist.load_data()"
   ]
  },
  {
   "cell_type": "code",
   "execution_count": 24,
   "id": "8045ed32",
   "metadata": {},
   "outputs": [
    {
     "data": {
      "text/plain": [
       "<matplotlib.image.AxesImage at 0x7f1f07fc2c10>"
      ]
     },
     "execution_count": 24,
     "metadata": {},
     "output_type": "execute_result"
    },
    {
     "data": {
      "image/png": "[encoded data removed]",
      "text/plain": [
       "<Figure size 432x288 with 1 Axes>"
      ]
     },
     "metadata": {
      "needs_background": "light"
     },
     "output_type": "display_data"
    }
   ],
   "source": [
    "import matplotlib.pyplot as plt\n",
    "plt.imshow(train_images[5])"
   ]
  },
  {
   "cell_type": "code",
   "execution_count": 25,
   "id": "1887f60a",
   "metadata": {},
   "outputs": [
    {
     "data": {
      "text/plain": [
       "(60000, 28, 28)"
      ]
     },
     "execution_count": 25,
     "metadata": {},
     "output_type": "execute_result"
    }
   ],
   "source": [
    "train_images.shape"
   ]
  },
  {
   "cell_type": "code",
   "execution_count": 26,
   "id": "dd0741db",
   "metadata": {},
   "outputs": [
    {
     "data": {
      "text/plain": [
       "array([5, 0, 4, ..., 5, 6, 8], dtype=uint8)"
      ]
     },
     "execution_count": 26,
     "metadata": {},
     "output_type": "execute_result"
    }
   ],
   "source": [
    "train_labels"
   ]
  },
  {
   "cell_type": "code",
   "execution_count": 27,
   "id": "b5bfb387",
   "metadata": {},
   "outputs": [
    {
     "data": {
      "text/plain": [
       "(10000, 28, 28)"
      ]
     },
     "execution_count": 27,
     "metadata": {},
     "output_type": "execute_result"
    }
   ],
   "source": [
    "test_images.shape"
   ]
  },
  {
   "cell_type": "code",
   "execution_count": 28,
   "id": "4c940013",
   "metadata": {},
   "outputs": [
    {
     "data": {
      "text/plain": [
       "array([7, 2, 1, ..., 4, 5, 6], dtype=uint8)"
      ]
     },
     "execution_count": 28,
     "metadata": {},
     "output_type": "execute_result"
    }
   ],
   "source": [
    "test_labels"
   ]
  },
  {
   "cell_type": "markdown",
   "id": "a5b0aa52",
   "metadata": {},
   "source": [
    "### A basic Neural Network scheme"
   ]
  },
  {
   "cell_type": "code",
   "execution_count": 29,
   "id": "e8fd8c55",
   "metadata": {},
   "outputs": [],
   "source": [
    "from tensorflow.keras import layers, Sequential\n",
    "\n",
    "model = Sequential([\n",
    "             layers.Dense(512, activation = 'relu'),\n",
    "             layers.Dense(10, activation = 'softmax')\n",
    "])"
   ]
  },
  {
   "cell_type": "markdown",
   "id": "44b34d37",
   "metadata": {},
   "source": [
    "### Define the \"learning\" of the model"
   ]
  },
  {
   "cell_type": "code",
   "execution_count": null,
   "id": "ca6c8169",
   "metadata": {},
   "outputs": [],
   "source": [
    "model.compile(optimizer='rmsprop',\n",
    "             loss=\"sparse_categorical_crossentropy\",\n",
    "             metrics=[\"accuracy\"])"
   ]
  },
  {
   "cell_type": "markdown",
   "id": "0ce45c42",
   "metadata": {},
   "source": [
    "### Preprocess the data by reshaping it and scaling it so that all the values are in the [0,1]\n",
    "This is a way to normalize and scale the data, sklearn.preprocessing could be used with \n",
    "MinMaxScaler, StandardScaler, RobustScaler, Normalizer"
   ]
  },
  {
   "cell_type": "code",
   "execution_count": 31,
   "id": "5e4c664a",
   "metadata": {},
   "outputs": [
    {
     "data": {
      "text/plain": [
       "(60000, 784)"
      ]
     },
     "execution_count": 31,
     "metadata": {},
     "output_type": "execute_result"
    }
   ],
   "source": [
    "train_images = train_images.reshape((60000, 28* 28))\n",
    "train_images = train_images.astype(\"float32\") / 255\n",
    "train_images.shape"
   ]
  },
  {
   "cell_type": "code",
   "execution_count": 32,
   "id": "7098ee27",
   "metadata": {},
   "outputs": [
    {
     "data": {
      "text/plain": [
       "(10000, 784)"
      ]
     },
     "execution_count": 32,
     "metadata": {},
     "output_type": "execute_result"
    }
   ],
   "source": [
    "test_images = test_images.reshape((10000, 28* 28))\n",
    "test_images = test_images.astype(\"float32\") / 255\n",
    "test_images.shape"
   ]
  },
  {
   "cell_type": "markdown",
   "id": "86d6b57a",
   "metadata": {},
   "source": [
    "### Fit the model to the data\n",
    "The values displayed during training: the loss of the model over the training data and the accuracy"
   ]
  },
  {
   "cell_type": "code",
   "execution_count": 51,
   "id": "72d7248e",
   "metadata": {},
   "outputs": [
    {
     "name": "stdout",
     "output_type": "stream",
     "text": [
      "Epoch 1/5\n",
      " 19/469 [>.............................] - ETA: 2s - loss: 0.0232 - accuracy: 0.9930"
     ]
    },
    {
     "name": "stderr",
     "output_type": "stream",
     "text": [
      "2022-03-27 18:47:05.807666: W tensorflow/core/framework/cpu_allocator_impl.cc:80] Allocation of 188160000 exceeds 10% of free system memory.\n"
     ]
    },
    {
     "name": "stdout",
     "output_type": "stream",
     "text": [
      "469/469 [==============================] - 3s 7ms/step - loss: 0.0284 - accuracy: 0.9918\n",
      "Epoch 2/5\n",
      "469/469 [==============================] - 3s 7ms/step - loss: 0.0225 - accuracy: 0.9936\n",
      "Epoch 3/5\n",
      "469/469 [==============================] - 3s 6ms/step - loss: 0.0166 - accuracy: 0.9952\n",
      "Epoch 4/5\n",
      "469/469 [==============================] - 4s 8ms/step - loss: 0.0129 - accuracy: 0.9964\n",
      "Epoch 5/5\n",
      "469/469 [==============================] - 3s 7ms/step - loss: 0.0104 - accuracy: 0.9973\n"
     ]
    }
   ],
   "source": [
    "history = model.fit(train_images, train_labels, epochs=5, batch_size=128)"
   ]
  },
  {
   "cell_type": "markdown",
   "id": "09aac7bd",
   "metadata": {},
   "source": [
    "### Predict the values"
   ]
  },
  {
   "cell_type": "code",
   "execution_count": 40,
   "id": "6ab95563",
   "metadata": {},
   "outputs": [
    {
     "data": {
      "text/plain": [
       "array([[8.81905304e-09, 4.84088991e-10, 9.85993574e-06, 2.16290835e-04,\n",
       "        3.33816134e-12, 4.04328631e-07, 1.10268267e-13, 9.99772131e-01,\n",
       "        6.09127184e-08, 1.28838712e-06],\n",
       "       [1.48029006e-10, 8.59295596e-07, 9.99998808e-01, 3.50706614e-07,\n",
       "        3.79538770e-19, 5.17595522e-09, 5.54279331e-11, 3.27426521e-18,\n",
       "        7.56977758e-10, 8.82933115e-17],\n",
       "       [3.53114835e-08, 9.99020100e-01, 1.88295508e-05, 6.72055830e-06,\n",
       "        2.90213102e-05, 7.32553463e-06, 6.13883594e-06, 8.04038020e-04,\n",
       "        1.06943655e-04, 6.60192825e-07],\n",
       "       [9.99674439e-01, 1.92300648e-10, 2.02622090e-04, 1.28510820e-07,\n",
       "        1.04390074e-06, 2.97121233e-07, 1.25052102e-05, 1.06145068e-04,\n",
       "        8.46264114e-10, 2.86736031e-06],\n",
       "       [7.57575947e-07, 1.99958550e-10, 1.31490015e-05, 3.11361212e-08,\n",
       "        9.97804701e-01, 1.04684403e-07, 2.58788219e-07, 4.55259469e-05,\n",
       "        4.34629555e-07, 2.13500508e-03],\n",
       "       [5.18099508e-10, 9.98583674e-01, 9.05434518e-08, 3.78173212e-07,\n",
       "        1.23122181e-05, 2.72889356e-08, 1.62741589e-08, 1.39961357e-03,\n",
       "        3.87743421e-06, 9.50811199e-08],\n",
       "       [5.83156440e-12, 1.57525779e-08, 1.90479721e-08, 1.36417970e-08,\n",
       "        9.99848366e-01, 1.32727951e-06, 2.07621333e-08, 2.85257158e-07,\n",
       "        1.08233995e-04, 4.16831354e-05],\n",
       "       [3.69964059e-10, 1.26224006e-06, 9.38873291e-06, 2.98572425e-03,\n",
       "        2.21242692e-04, 2.25906315e-05, 9.65032165e-10, 1.45308033e-04,\n",
       "        2.06636059e-06, 9.96612489e-01],\n",
       "       [2.78786705e-09, 5.36588274e-11, 3.88901208e-05, 5.39508811e-08,\n",
       "        4.99609087e-05, 8.62456381e-01, 1.36251748e-01, 3.23897065e-09,\n",
       "        1.19845697e-03, 4.47460525e-06],\n",
       "       [1.22398727e-12, 1.32365215e-13, 1.92622793e-11, 6.57985169e-08,\n",
       "        5.61788074e-05, 5.26520320e-11, 4.07574195e-14, 5.97573890e-05,\n",
       "        2.41825802e-07, 9.99883771e-01]], dtype=float32)"
      ]
     },
     "execution_count": 40,
     "metadata": {},
     "output_type": "execute_result"
    }
   ],
   "source": [
    "#Chack the very first 10 data values\n",
    "test_digits = test_images[0:10]\n",
    "predictions = model.predict(test_digits)\n",
    "predictions"
   ]
  },
  {
   "cell_type": "code",
   "execution_count": 36,
   "id": "dac5b589",
   "metadata": {},
   "outputs": [
    {
     "data": {
      "text/plain": [
       "array([8.8190530e-09, 4.8408899e-10, 9.8599357e-06, 2.1629083e-04,\n",
       "       3.3381613e-12, 4.0432863e-07, 1.1026827e-13, 9.9977213e-01,\n",
       "       6.0912718e-08, 1.2883871e-06], dtype=float32)"
      ]
     },
     "execution_count": 36,
     "metadata": {},
     "output_type": "execute_result"
    }
   ],
   "source": [
    "predictions[0]"
   ]
  },
  {
   "cell_type": "code",
   "execution_count": 37,
   "id": "4232262b",
   "metadata": {},
   "outputs": [
    {
     "data": {
      "text/plain": [
       "7"
      ]
     },
     "execution_count": 37,
     "metadata": {},
     "output_type": "execute_result"
    }
   ],
   "source": [
    "predictions[0].argmax()"
   ]
  },
  {
   "cell_type": "code",
   "execution_count": 38,
   "id": "bd272574",
   "metadata": {},
   "outputs": [
    {
     "data": {
      "text/plain": [
       "0.99977213"
      ]
     },
     "execution_count": 38,
     "metadata": {},
     "output_type": "execute_result"
    }
   ],
   "source": [
    "predictions[0][7]"
   ]
  },
  {
   "cell_type": "code",
   "execution_count": 39,
   "id": "d29d7739",
   "metadata": {},
   "outputs": [
    {
     "data": {
      "text/plain": [
       "7"
      ]
     },
     "execution_count": 39,
     "metadata": {},
     "output_type": "execute_result"
    }
   ],
   "source": [
    "test_labels[0]"
   ]
  },
  {
   "cell_type": "markdown",
   "id": "e199af1e",
   "metadata": {},
   "source": [
    "### Evaluate the model on new data\n",
    "The gap between the trainig accuracy and test accuracy is an example of overfitting."
   ]
  },
  {
   "cell_type": "code",
   "execution_count": 41,
   "id": "349011e2",
   "metadata": {},
   "outputs": [
    {
     "name": "stdout",
     "output_type": "stream",
     "text": [
      "313/313 [==============================] - 1s 1ms/step - loss: 0.0673 - accuracy: 0.9792\n"
     ]
    },
    {
     "data": {
      "text/plain": [
       "0.979200005531311"
      ]
     },
     "execution_count": 41,
     "metadata": {},
     "output_type": "execute_result"
    }
   ],
   "source": [
    "test_loss, test_accuracy = model.evaluate(test_images, test_labels)\n",
    "test_accuracy"
   ]
  },
  {
   "cell_type": "code",
   "execution_count": 55,
   "id": "48bff144",
   "metadata": {},
   "outputs": [
    {
     "data": {
      "text/plain": [
       "0.9948466539382934"
      ]
     },
     "execution_count": 55,
     "metadata": {},
     "output_type": "execute_result"
    }
   ],
   "source": [
    "import numpy as np\n",
    "np.mean(history.history['accuracy'])"
   ]
  },
  {
   "cell_type": "code",
   "execution_count": null,
   "id": "3574e6f5",
   "metadata": {},
   "outputs": [],
   "source": []
  }
 ],
 "metadata": {
  "kernelspec": {
   "display_name": "Python 3 (ipykernel)",
   "language": "python",
   "name": "python3"
  },
  "language_info": {
   "codemirror_mode": {
    "name": "ipython",
    "version": 3
   },
   "file_extension": ".py",
   "mimetype": "text/x-python",
   "name": "python",
   "nbconvert_exporter": "python",
   "pygments_lexer": "ipython3",
   "version": "3.8.12"
  },
  "toc": {
   "base_numbering": 1,
   "nav_menu": {},
   "number_sections": true,
   "sideBar": true,
   "skip_h1_title": false,
   "title_cell": "Table of Contents",
   "title_sidebar": "Contents",
   "toc_cell": false,
   "toc_position": {},
   "toc_section_display": true,
   "toc_window_display": false
  }
 },
 "nbformat": 4,
 "nbformat_minor": 5
}
