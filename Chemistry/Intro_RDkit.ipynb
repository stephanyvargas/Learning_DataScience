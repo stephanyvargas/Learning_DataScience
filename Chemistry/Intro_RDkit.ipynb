{
 "cells": [
  {
   "cell_type": "markdown",
   "id": "3896a27f",
   "metadata": {},
   "source": [
    "# Reading and Writing Molecules\n",
    "```Python\n",
    "m = Chem.MolFromSmiles('Cc1ccccc1')\n",
    "m = Chem.MolFromMolFile('data/input.mol')\n",
    "stringWithMolData=open('data/input.mol','r').read()\n",
    "m = Chem.MolFromMolBlock(stringWithMolData)\n",
    "```"
   ]
  },
  {
   "cell_type": "code",
   "execution_count": 1,
   "id": "0852da11",
   "metadata": {},
   "outputs": [],
   "source": [
    "from rdkit import Chem"
   ]
  },
  {
   "cell_type": "code",
   "execution_count": 5,
   "id": "618f8ffc",
   "metadata": {},
   "outputs": [
    {
     "data": {
      "image/png": "[encoded data removed]",
      "text/plain": [
       "<rdkit.Chem.rdchem.Mol at 0x7f5edbcfa280>"
      ]
     },
     "execution_count": 5,
     "metadata": {},
     "output_type": "execute_result"
    }
   ],
   "source": [
    "m = Chem.MolFromSmiles('Cc1ccccc1')\n",
    "m"
   ]
  },
  {
   "cell_type": "code",
   "execution_count": 7,
   "id": "349065dd",
   "metadata": {},
   "outputs": [
    {
     "name": "stderr",
     "output_type": "stream",
     "text": [
      "[22:20:49] Can't kekulize mol.  Unkekulized atoms: 0 1 2\n"
     ]
    }
   ],
   "source": [
    "m1 = Chem.MolFromSmiles('c1cc1')"
   ]
  },
  {
   "cell_type": "code",
   "execution_count": 9,
   "id": "262809a7",
   "metadata": {},
   "outputs": [
    {
     "data": {
      "image/png": "[encoded data removed]",
      "text/plain": [
       "<rdkit.Chem.rdchem.Mol at 0x7f5edbcfaa60>"
      ]
     },
     "execution_count": 9,
     "metadata": {},
     "output_type": "execute_result"
    }
   ],
   "source": [
    "m2 = Chem.MolFromSmiles('C1CCC1')\n",
    "m2"
   ]
  },
  {
   "cell_type": "code",
   "execution_count": 10,
   "id": "0aa33920",
   "metadata": {},
   "outputs": [
    {
     "name": "stdout",
     "output_type": "stream",
     "text": [
      "\n",
      "     RDKit          2D\n",
      "\n",
      "  4  4  0  0  0  0  0  0  0  0999 V2000\n",
      "    1.0607    0.0000    0.0000 C   0  0  0  0  0  0  0  0  0  0  0  0\n",
      "   -0.0000   -1.0607    0.0000 C   0  0  0  0  0  0  0  0  0  0  0  0\n",
      "   -1.0607    0.0000    0.0000 C   0  0  0  0  0  0  0  0  0  0  0  0\n",
      "    0.0000    1.0607    0.0000 C   0  0  0  0  0  0  0  0  0  0  0  0\n",
      "  1  2  1  0\n",
      "  2  3  1  0\n",
      "  3  4  1  0\n",
      "  4  1  1  0\n",
      "M  END\n",
      "\n"
     ]
    }
   ],
   "source": [
    "print(Chem.MolToMolBlock(m2))"
   ]
  },
  {
   "cell_type": "code",
   "execution_count": 13,
   "id": "b78e8bb3",
   "metadata": {},
   "outputs": [
    {
     "name": "stdout",
     "output_type": "stream",
     "text": [
      "cyclobutane\n",
      "     RDKit          2D\n",
      "\n",
      "  4  4  0  0  0  0  0  0  0  0999 V2000\n",
      "    1.0607    0.0000    0.0000 C   0  0  0  0  0  0  0  0  0  0  0  0\n",
      "   -0.0000   -1.0607    0.0000 C   0  0  0  0  0  0  0  0  0  0  0  0\n",
      "   -1.0607    0.0000    0.0000 C   0  0  0  0  0  0  0  0  0  0  0  0\n",
      "    0.0000    1.0607    0.0000 C   0  0  0  0  0  0  0  0  0  0  0  0\n",
      "  1  2  1  0\n",
      "  2  3  1  0\n",
      "  3  4  1  0\n",
      "  4  1  1  0\n",
      "M  END\n",
      "\n"
     ]
    }
   ],
   "source": [
    "m2.SetProp(\"_Name\",\"cyclobutane\")\n",
    "print(Chem.MolToMolBlock(m2)) "
   ]
  },
  {
   "cell_type": "code",
   "execution_count": 14,
   "id": "57fd93a1",
   "metadata": {},
   "outputs": [
    {
     "data": {
      "text/plain": [
       "0"
      ]
     },
     "execution_count": 14,
     "metadata": {},
     "output_type": "execute_result"
    }
   ],
   "source": [
    "from rdkit.Chem import AllChem\n",
    "AllChem.Compute2DCoords(m2)"
   ]
  },
  {
   "cell_type": "code",
   "execution_count": 16,
   "id": "92221a35",
   "metadata": {},
   "outputs": [
    {
     "name": "stdout",
     "output_type": "stream",
     "text": [
      "cyclobutane\n",
      "     RDKit          2D\n",
      "\n",
      "  4  4  0  0  0  0  0  0  0  0999 V2000\n",
      "    1.0607   -0.0000    0.0000 C   0  0  0  0  0  0  0  0  0  0  0  0\n",
      "   -0.0000   -1.0607    0.0000 C   0  0  0  0  0  0  0  0  0  0  0  0\n",
      "   -1.0607    0.0000    0.0000 C   0  0  0  0  0  0  0  0  0  0  0  0\n",
      "    0.0000    1.0607    0.0000 C   0  0  0  0  0  0  0  0  0  0  0  0\n",
      "  1  2  1  0\n",
      "  2  3  1  0\n",
      "  3  4  1  0\n",
      "  4  1  1  0\n",
      "M  END\n",
      "\n"
     ]
    }
   ],
   "source": [
    "print(Chem.MolToMolBlock(m2)) #I don't see any changes..."
   ]
  },
  {
   "cell_type": "code",
   "execution_count": 18,
   "id": "aa819326",
   "metadata": {},
   "outputs": [
    {
     "data": {
      "text/plain": [
       "0"
      ]
     },
     "execution_count": 18,
     "metadata": {},
     "output_type": "execute_result"
    }
   ],
   "source": [
    "## Add 3D coordinates\n",
    "m3 = Chem.AddHs(m2)\n",
    "AllChem.EmbedMolecule(m3,randomSeed=0xf00d)"
   ]
  },
  {
   "cell_type": "code",
   "execution_count": 19,
   "id": "cc3598d6",
   "metadata": {},
   "outputs": [
    {
     "name": "stdout",
     "output_type": "stream",
     "text": [
      "cyclobutane\n",
      "     RDKit          3D\n",
      "\n",
      " 12 12  0  0  0  0  0  0  0  0999 V2000\n",
      "    1.0256    0.2491   -0.0964 C   0  0  0  0  0  0  0  0  0  0  0  0\n",
      "   -0.2041    0.9236    0.4320 C   0  0  0  0  0  0  0  0  0  0  0  0\n",
      "   -1.0435   -0.2466   -0.0266 C   0  0  0  0  0  0  0  0  0  0  0  0\n",
      "    0.2104   -0.9922   -0.3417 C   0  0  0  0  0  0  0  0  0  0  0  0\n",
      "    1.4182    0.7667   -0.9782 H   0  0  0  0  0  0  0  0  0  0  0  0\n",
      "    1.8181    0.1486    0.6820 H   0  0  0  0  0  0  0  0  0  0  0  0\n",
      "   -0.1697    1.0826    1.5236 H   0  0  0  0  0  0  0  0  0  0  0  0\n",
      "   -0.5336    1.8391   -0.1051 H   0  0  0  0  0  0  0  0  0  0  0  0\n",
      "   -1.6809   -0.0600   -0.8987 H   0  0  0  0  0  0  0  0  0  0  0  0\n",
      "   -1.6501   -0.6194    0.8220 H   0  0  0  0  0  0  0  0  0  0  0  0\n",
      "    0.4659   -1.7768    0.3858 H   0  0  0  0  0  0  0  0  0  0  0  0\n",
      "    0.3439   -1.3147   -1.3988 H   0  0  0  0  0  0  0  0  0  0  0  0\n",
      "  1  2  1  0\n",
      "  2  3  1  0\n",
      "  3  4  1  0\n",
      "  4  1  1  0\n",
      "  1  5  1  0\n",
      "  1  6  1  0\n",
      "  2  7  1  0\n",
      "  2  8  1  0\n",
      "  3  9  1  0\n",
      "  3 10  1  0\n",
      "  4 11  1  0\n",
      "  4 12  1  0\n",
      "M  END\n",
      "\n"
     ]
    }
   ],
   "source": [
    "print(Chem.MolToMolBlock(m3)) "
   ]
  },
  {
   "cell_type": "code",
   "execution_count": 21,
   "id": "c08645f4",
   "metadata": {},
   "outputs": [
    {
     "name": "stdout",
     "output_type": "stream",
     "text": [
      "cyclobutane\n",
      "     RDKit          3D\n",
      "\n",
      "  4  4  0  0  0  0  0  0  0  0999 V2000\n",
      "    1.0256    0.2491   -0.0964 C   0  0  0  0  0  0  0  0  0  0  0  0\n",
      "   -0.2041    0.9236    0.4320 C   0  0  0  0  0  0  0  0  0  0  0  0\n",
      "   -1.0435   -0.2466   -0.0266 C   0  0  0  0  0  0  0  0  0  0  0  0\n",
      "    0.2104   -0.9922   -0.3417 C   0  0  0  0  0  0  0  0  0  0  0  0\n",
      "  1  2  1  0\n",
      "  2  3  1  0\n",
      "  3  4  1  0\n",
      "  4  1  1  0\n",
      "M  END\n",
      "\n"
     ]
    }
   ],
   "source": [
    "m3 = Chem.RemoveHs(m3)\n",
    "print(Chem.MolToMolBlock(m3))"
   ]
  },
  {
   "cell_type": "markdown",
   "id": "1339dbfa",
   "metadata": {},
   "source": [
    "# Looping over atoms and bonds"
   ]
  },
  {
   "cell_type": "code",
   "execution_count": 22,
   "id": "dd7df17a",
   "metadata": {},
   "outputs": [],
   "source": [
    "m = Chem.MolFromSmiles('C1OC1')"
   ]
  },
  {
   "cell_type": "code",
   "execution_count": null,
   "id": "becec2f8",
   "metadata": {},
   "outputs": [],
   "source": []
  }
 ],
 "metadata": {
  "kernelspec": {
   "display_name": "Python 3 (ipykernel)",
   "language": "python",
   "name": "python3"
  },
  "language_info": {
   "codemirror_mode": {
    "name": "ipython",
    "version": 3
   },
   "file_extension": ".py",
   "mimetype": "text/x-python",
   "name": "python",
   "nbconvert_exporter": "python",
   "pygments_lexer": "ipython3",
   "version": "3.8.12"
  },
  "toc": {
   "base_numbering": 1,
   "nav_menu": {},
   "number_sections": true,
   "sideBar": true,
   "skip_h1_title": false,
   "title_cell": "Table of Contents",
   "title_sidebar": "Contents",
   "toc_cell": false,
   "toc_position": {},
   "toc_section_display": true,
   "toc_window_display": false
  }
 },
 "nbformat": 4,
 "nbformat_minor": 5
}
