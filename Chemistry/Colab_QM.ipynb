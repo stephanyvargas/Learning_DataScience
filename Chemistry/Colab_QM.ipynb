{
 "cells": [
  {
   "cell_type": "markdown",
   "metadata": {
    "id": "rc1eplS5eCXh"
   },
   "source": [
    "# Chemistry in the cloud: leveraging Google Colab for quantum chemistry\n",
    "\n",
    "Welcome! \n",
    "\n",
    "In this workshop I show examples of how [RDKit](https://www.rdkit.org/docs/GettingStartedInPython.html) can be used to automate QM calculations.\n",
    "\n",
    "The open source QM program [xTB](https://xtb-docs.readthedocs.io/en/latest/contents.html) is used as an example \n",
    "\n",
    "We use Google Colab as the programming environment\n",
    "\n",
    "For similar approaches see [PsiKit](https://github.com/Mishima-syk/psikit) and [ASE](https://wiki.fysik.dtu.dk/ase/).\n",
    "___\n",
    "\n",
    "Feel free to make a copy of this notebook and play around with it. Go to File > Save a copy in Drive\n",
    "\n",
    "Here's a brief [intro video](https://youtu.be/_5Df0wfdH2U) to coding in Colab\n",
    "\n",
    "Here's a brief [intro video](https://youtu.be/ERvUf_lNopo) to RDKit"
   ]
  },
  {
   "cell_type": "markdown",
   "metadata": {
    "id": "3lsbYLsv1Ltm"
   },
   "source": [
    "# Installation and imports"
   ]
  },
  {
   "cell_type": "code",
   "execution_count": 1,
   "metadata": {
    "id": "GD8_kXDfd9ri"
   },
   "outputs": [
    {
     "ename": "CalledProcessError",
     "evalue": "Command 'b'# Install RDKit and xTB. Takes 2-3 minutes\\npip install rdkit-pypi\\npip install py3Dmol\\nwget -c https://repo.continuum.io/miniconda/Miniconda3-latest-Linux-x86_64.sh\\nchmod +x Miniconda3-latest-Linux-x86_64.sh\\nbash ./Miniconda3-latest-Linux-x86_64.sh -b -f -p /usr/local\\n#conda install -q -y -c conda-forge python=3.7\\n#conda install -q -y -c conda-forge rdkit=2020.09.2\\nconda install -q -y -c conda-forge xtb\\n'' returned non-zero exit status 127.",
     "output_type": "error",
     "traceback": [
      "\u001b[0;31m---------------------------------------------------------------------------\u001b[0m",
      "\u001b[0;31mCalledProcessError\u001b[0m                        Traceback (most recent call last)",
      "\u001b[0;32m/tmp/ipykernel_18530/4026711551.py\u001b[0m in \u001b[0;36m<module>\u001b[0;34m\u001b[0m\n\u001b[0;32m----> 1\u001b[0;31m \u001b[0mget_ipython\u001b[0m\u001b[0;34m(\u001b[0m\u001b[0;34m)\u001b[0m\u001b[0;34m.\u001b[0m\u001b[0mrun_cell_magic\u001b[0m\u001b[0;34m(\u001b[0m\u001b[0;34m'bash'\u001b[0m\u001b[0;34m,\u001b[0m \u001b[0;34m''\u001b[0m\u001b[0;34m,\u001b[0m \u001b[0;34m'# Install RDKit and xTB. Takes 2-3 minutes\\npip install rdkit-pypi\\npip install py3Dmol\\nwget -c https://repo.continuum.io/miniconda/Miniconda3-latest-Linux-x86_64.sh\\nchmod +x Miniconda3-latest-Linux-x86_64.sh\\nbash ./Miniconda3-latest-Linux-x86_64.sh -b -f -p /usr/local\\n#conda install -q -y -c conda-forge python=3.7\\n#conda install -q -y -c conda-forge rdkit=2020.09.2\\nconda install -q -y -c conda-forge xtb\\n'\u001b[0m\u001b[0;34m)\u001b[0m\u001b[0;34m\u001b[0m\u001b[0;34m\u001b[0m\u001b[0m\n\u001b[0m",
      "\u001b[0;32m~/.pyenv/versions/3.8.12/envs/lewagon/lib/python3.8/site-packages/IPython/core/interactiveshell.py\u001b[0m in \u001b[0;36mrun_cell_magic\u001b[0;34m(self, magic_name, line, cell)\u001b[0m\n\u001b[1;32m   2404\u001b[0m             \u001b[0;32mwith\u001b[0m \u001b[0mself\u001b[0m\u001b[0;34m.\u001b[0m\u001b[0mbuiltin_trap\u001b[0m\u001b[0;34m:\u001b[0m\u001b[0;34m\u001b[0m\u001b[0;34m\u001b[0m\u001b[0m\n\u001b[1;32m   2405\u001b[0m                 \u001b[0margs\u001b[0m \u001b[0;34m=\u001b[0m \u001b[0;34m(\u001b[0m\u001b[0mmagic_arg_s\u001b[0m\u001b[0;34m,\u001b[0m \u001b[0mcell\u001b[0m\u001b[0;34m)\u001b[0m\u001b[0;34m\u001b[0m\u001b[0;34m\u001b[0m\u001b[0m\n\u001b[0;32m-> 2406\u001b[0;31m                 \u001b[0mresult\u001b[0m \u001b[0;34m=\u001b[0m \u001b[0mfn\u001b[0m\u001b[0;34m(\u001b[0m\u001b[0;34m*\u001b[0m\u001b[0margs\u001b[0m\u001b[0;34m,\u001b[0m \u001b[0;34m**\u001b[0m\u001b[0mkwargs\u001b[0m\u001b[0;34m)\u001b[0m\u001b[0;34m\u001b[0m\u001b[0;34m\u001b[0m\u001b[0m\n\u001b[0m\u001b[1;32m   2407\u001b[0m             \u001b[0;32mreturn\u001b[0m \u001b[0mresult\u001b[0m\u001b[0;34m\u001b[0m\u001b[0;34m\u001b[0m\u001b[0m\n\u001b[1;32m   2408\u001b[0m \u001b[0;34m\u001b[0m\u001b[0m\n",
      "\u001b[0;32m~/.pyenv/versions/3.8.12/envs/lewagon/lib/python3.8/site-packages/IPython/core/magics/script.py\u001b[0m in \u001b[0;36mnamed_script_magic\u001b[0;34m(line, cell)\u001b[0m\n\u001b[1;32m    140\u001b[0m             \u001b[0;32melse\u001b[0m\u001b[0;34m:\u001b[0m\u001b[0;34m\u001b[0m\u001b[0;34m\u001b[0m\u001b[0m\n\u001b[1;32m    141\u001b[0m                 \u001b[0mline\u001b[0m \u001b[0;34m=\u001b[0m \u001b[0mscript\u001b[0m\u001b[0;34m\u001b[0m\u001b[0;34m\u001b[0m\u001b[0m\n\u001b[0;32m--> 142\u001b[0;31m             \u001b[0;32mreturn\u001b[0m \u001b[0mself\u001b[0m\u001b[0;34m.\u001b[0m\u001b[0mshebang\u001b[0m\u001b[0;34m(\u001b[0m\u001b[0mline\u001b[0m\u001b[0;34m,\u001b[0m \u001b[0mcell\u001b[0m\u001b[0;34m)\u001b[0m\u001b[0;34m\u001b[0m\u001b[0;34m\u001b[0m\u001b[0m\n\u001b[0m\u001b[1;32m    143\u001b[0m \u001b[0;34m\u001b[0m\u001b[0m\n\u001b[1;32m    144\u001b[0m         \u001b[0;31m# write a basic docstring:\u001b[0m\u001b[0;34m\u001b[0m\u001b[0;34m\u001b[0m\u001b[0;34m\u001b[0m\u001b[0m\n",
      "\u001b[0;32m~/.pyenv/versions/3.8.12/envs/lewagon/lib/python3.8/site-packages/decorator.py\u001b[0m in \u001b[0;36mfun\u001b[0;34m(*args, **kw)\u001b[0m\n\u001b[1;32m    230\u001b[0m             \u001b[0;32mif\u001b[0m \u001b[0;32mnot\u001b[0m \u001b[0mkwsyntax\u001b[0m\u001b[0;34m:\u001b[0m\u001b[0;34m\u001b[0m\u001b[0;34m\u001b[0m\u001b[0m\n\u001b[1;32m    231\u001b[0m                 \u001b[0margs\u001b[0m\u001b[0;34m,\u001b[0m \u001b[0mkw\u001b[0m \u001b[0;34m=\u001b[0m \u001b[0mfix\u001b[0m\u001b[0;34m(\u001b[0m\u001b[0margs\u001b[0m\u001b[0;34m,\u001b[0m \u001b[0mkw\u001b[0m\u001b[0;34m,\u001b[0m \u001b[0msig\u001b[0m\u001b[0;34m)\u001b[0m\u001b[0;34m\u001b[0m\u001b[0;34m\u001b[0m\u001b[0m\n\u001b[0;32m--> 232\u001b[0;31m             \u001b[0;32mreturn\u001b[0m \u001b[0mcaller\u001b[0m\u001b[0;34m(\u001b[0m\u001b[0mfunc\u001b[0m\u001b[0;34m,\u001b[0m \u001b[0;34m*\u001b[0m\u001b[0;34m(\u001b[0m\u001b[0mextras\u001b[0m \u001b[0;34m+\u001b[0m \u001b[0margs\u001b[0m\u001b[0;34m)\u001b[0m\u001b[0;34m,\u001b[0m \u001b[0;34m**\u001b[0m\u001b[0mkw\u001b[0m\u001b[0;34m)\u001b[0m\u001b[0;34m\u001b[0m\u001b[0;34m\u001b[0m\u001b[0m\n\u001b[0m\u001b[1;32m    233\u001b[0m     \u001b[0mfun\u001b[0m\u001b[0;34m.\u001b[0m\u001b[0m__name__\u001b[0m \u001b[0;34m=\u001b[0m \u001b[0mfunc\u001b[0m\u001b[0;34m.\u001b[0m\u001b[0m__name__\u001b[0m\u001b[0;34m\u001b[0m\u001b[0;34m\u001b[0m\u001b[0m\n\u001b[1;32m    234\u001b[0m     \u001b[0mfun\u001b[0m\u001b[0;34m.\u001b[0m\u001b[0m__doc__\u001b[0m \u001b[0;34m=\u001b[0m \u001b[0mfunc\u001b[0m\u001b[0;34m.\u001b[0m\u001b[0m__doc__\u001b[0m\u001b[0;34m\u001b[0m\u001b[0;34m\u001b[0m\u001b[0m\n",
      "\u001b[0;32m~/.pyenv/versions/3.8.12/envs/lewagon/lib/python3.8/site-packages/IPython/core/magic.py\u001b[0m in \u001b[0;36m<lambda>\u001b[0;34m(f, *a, **k)\u001b[0m\n\u001b[1;32m    185\u001b[0m     \u001b[0;31m# but it's overkill for just that one bit of state.\u001b[0m\u001b[0;34m\u001b[0m\u001b[0;34m\u001b[0m\u001b[0;34m\u001b[0m\u001b[0m\n\u001b[1;32m    186\u001b[0m     \u001b[0;32mdef\u001b[0m \u001b[0mmagic_deco\u001b[0m\u001b[0;34m(\u001b[0m\u001b[0marg\u001b[0m\u001b[0;34m)\u001b[0m\u001b[0;34m:\u001b[0m\u001b[0;34m\u001b[0m\u001b[0;34m\u001b[0m\u001b[0m\n\u001b[0;32m--> 187\u001b[0;31m         \u001b[0mcall\u001b[0m \u001b[0;34m=\u001b[0m \u001b[0;32mlambda\u001b[0m \u001b[0mf\u001b[0m\u001b[0;34m,\u001b[0m \u001b[0;34m*\u001b[0m\u001b[0ma\u001b[0m\u001b[0;34m,\u001b[0m \u001b[0;34m**\u001b[0m\u001b[0mk\u001b[0m\u001b[0;34m:\u001b[0m \u001b[0mf\u001b[0m\u001b[0;34m(\u001b[0m\u001b[0;34m*\u001b[0m\u001b[0ma\u001b[0m\u001b[0;34m,\u001b[0m \u001b[0;34m**\u001b[0m\u001b[0mk\u001b[0m\u001b[0;34m)\u001b[0m\u001b[0;34m\u001b[0m\u001b[0;34m\u001b[0m\u001b[0m\n\u001b[0m\u001b[1;32m    188\u001b[0m \u001b[0;34m\u001b[0m\u001b[0m\n\u001b[1;32m    189\u001b[0m         \u001b[0;32mif\u001b[0m \u001b[0mcallable\u001b[0m\u001b[0;34m(\u001b[0m\u001b[0marg\u001b[0m\u001b[0;34m)\u001b[0m\u001b[0;34m:\u001b[0m\u001b[0;34m\u001b[0m\u001b[0;34m\u001b[0m\u001b[0m\n",
      "\u001b[0;32m~/.pyenv/versions/3.8.12/envs/lewagon/lib/python3.8/site-packages/IPython/core/magics/script.py\u001b[0m in \u001b[0;36mshebang\u001b[0;34m(self, line, cell)\u001b[0m\n\u001b[1;32m    243\u001b[0m             \u001b[0msys\u001b[0m\u001b[0;34m.\u001b[0m\u001b[0mstderr\u001b[0m\u001b[0;34m.\u001b[0m\u001b[0mflush\u001b[0m\u001b[0;34m(\u001b[0m\u001b[0;34m)\u001b[0m\u001b[0;34m\u001b[0m\u001b[0;34m\u001b[0m\u001b[0m\n\u001b[1;32m    244\u001b[0m         \u001b[0;32mif\u001b[0m \u001b[0margs\u001b[0m\u001b[0;34m.\u001b[0m\u001b[0mraise_error\u001b[0m \u001b[0;32mand\u001b[0m \u001b[0mp\u001b[0m\u001b[0;34m.\u001b[0m\u001b[0mreturncode\u001b[0m\u001b[0;34m!=\u001b[0m\u001b[0;36m0\u001b[0m\u001b[0;34m:\u001b[0m\u001b[0;34m\u001b[0m\u001b[0;34m\u001b[0m\u001b[0m\n\u001b[0;32m--> 245\u001b[0;31m             \u001b[0;32mraise\u001b[0m \u001b[0mCalledProcessError\u001b[0m\u001b[0;34m(\u001b[0m\u001b[0mp\u001b[0m\u001b[0;34m.\u001b[0m\u001b[0mreturncode\u001b[0m\u001b[0;34m,\u001b[0m \u001b[0mcell\u001b[0m\u001b[0;34m,\u001b[0m \u001b[0moutput\u001b[0m\u001b[0;34m=\u001b[0m\u001b[0mout\u001b[0m\u001b[0;34m,\u001b[0m \u001b[0mstderr\u001b[0m\u001b[0;34m=\u001b[0m\u001b[0merr\u001b[0m\u001b[0;34m)\u001b[0m\u001b[0;34m\u001b[0m\u001b[0;34m\u001b[0m\u001b[0m\n\u001b[0m\u001b[1;32m    246\u001b[0m \u001b[0;34m\u001b[0m\u001b[0m\n\u001b[1;32m    247\u001b[0m     \u001b[0;32mdef\u001b[0m \u001b[0m_run_script\u001b[0m\u001b[0;34m(\u001b[0m\u001b[0mself\u001b[0m\u001b[0;34m,\u001b[0m \u001b[0mp\u001b[0m\u001b[0;34m,\u001b[0m \u001b[0mcell\u001b[0m\u001b[0;34m,\u001b[0m \u001b[0mto_close\u001b[0m\u001b[0;34m)\u001b[0m\u001b[0;34m:\u001b[0m\u001b[0;34m\u001b[0m\u001b[0;34m\u001b[0m\u001b[0m\n",
      "\u001b[0;31mCalledProcessError\u001b[0m: Command 'b'# Install RDKit and xTB. Takes 2-3 minutes\\npip install rdkit-pypi\\npip install py3Dmol\\nwget -c https://repo.continuum.io/miniconda/Miniconda3-latest-Linux-x86_64.sh\\nchmod +x Miniconda3-latest-Linux-x86_64.sh\\nbash ./Miniconda3-latest-Linux-x86_64.sh -b -f -p /usr/local\\n#conda install -q -y -c conda-forge python=3.7\\n#conda install -q -y -c conda-forge rdkit=2020.09.2\\nconda install -q -y -c conda-forge xtb\\n'' returned non-zero exit status 127."
     ]
    }
   ],
   "source": [
    "%%capture\n",
    "%%bash\n",
    "# Install RDKit and xTB. Takes 2-3 minutes\n",
    "pip install rdkit-pypi\n",
    "pip install py3Dmol\n",
    "wget -c https://repo.continuum.io/miniconda/Miniconda3-latest-Linux-x86_64.sh\n",
    "chmod +x Miniconda3-latest-Linux-x86_64.sh\n",
    "bash ./Miniconda3-latest-Linux-x86_64.sh -b -f -p /usr/local\n",
    "#conda install -q -y -c conda-forge python=3.7\n",
    "#conda install -q -y -c conda-forge rdkit=2020.09.2\n",
    "conda install -q -y -c conda-forge xtb"
   ]
  },
  {
   "cell_type": "code",
   "execution_count": null,
   "metadata": {
    "id": "I3kWToSp7RMk"
   },
   "outputs": [],
   "source": [
    "# Much faster RDKit install if you don't need xTB\n",
    "#%%capture\n",
    "#!pip install kora\n",
    "#import kora.install.rdkit as rdkit\n",
    "#!pip install py3Dmol"
   ]
  },
  {
   "cell_type": "code",
   "execution_count": 2,
   "metadata": {
    "id": "d2jZ4Lkm1Tzz"
   },
   "outputs": [],
   "source": [
    "import sys\n",
    "sys.path.append('/usr/local/lib/python3.7/site-packages/')\n",
    "\n",
    "from rdkit import Chem\n",
    "from rdkit.Chem import AllChem\n",
    "from collections import defaultdict\n",
    "from rdkit.Chem import rdFMCS\n",
    "from rdkit.Chem import Draw\n",
    "from rdkit.Chem.Draw import IPythonConsole\n",
    "from rdkit.Chem import rdDistGeom\n",
    "IPythonConsole.ipython_3d = True\n",
    "\n",
    "import py3Dmol\n",
    "import matplotlib.pyplot as plt\n",
    "import subprocess"
   ]
  },
  {
   "cell_type": "markdown",
   "metadata": {
    "id": "y0KcrgnP1Z3f"
   },
   "source": [
    "#Functions\n",
    "\n",
    "These functions are also available [here](https://github.com/jensengroup/rdkit_qm_utilities)"
   ]
  },
  {
   "cell_type": "markdown",
   "metadata": {
    "id": "YIqJtAmtdBKA"
   },
   "source": [
    "##write_xyz"
   ]
  },
  {
   "cell_type": "code",
   "execution_count": 3,
   "metadata": {
    "id": "J6YyOLY01f4w"
   },
   "outputs": [],
   "source": [
    "def write_xyz(mol, file_name='temp.xyz'):\n",
    "  number_of_atoms = mol.GetNumAtoms()\n",
    "  symbols = [a.GetSymbol() for a in mol.GetAtoms()] \n",
    "  with open(file_name, \"w\") as file:\n",
    "    file.write(str(number_of_atoms)+\"\\n\")\n",
    "    file.write(\"title\\n\")\n",
    "    conf = mol.GetConformers()[0]\n",
    "    for atom,symbol in enumerate(symbols):\n",
    "      p = conf.GetAtomPosition(atom)\n",
    "      line = \" \".join((symbol,str(p.x),str(p.y),str(p.z),\"\\n\"))\n",
    "      file.write(line)"
   ]
  },
  {
   "cell_type": "markdown",
   "metadata": {
    "id": "rn3r455LdE-F"
   },
   "source": [
    "##show_mol"
   ]
  },
  {
   "cell_type": "code",
   "execution_count": 4,
   "metadata": {
    "id": "hn9YU4YQ1oTW"
   },
   "outputs": [],
   "source": [
    "def show_mol(file_name, animate=False):\n",
    "  xyz=open(file_name, 'r').read()\n",
    "  p = py3Dmol.view(width=400,height=400)\n",
    "  if animate:\n",
    "    p.addModelsAsFrames(xyz,'xyz')\n",
    "    p.animate({'loop': \"forward\",'reps': 5})\n",
    "    #p.animate({'loop': 'backAndForth'})\n",
    "  else:\n",
    "    p.addModel(xyz,'xyz')\n",
    "  p.setStyle({'stick':{}})\n",
    "  p.setBackgroundColor('0xeeeeee')\n",
    "  p.zoomTo()\n",
    "  p.show()"
   ]
  },
  {
   "cell_type": "markdown",
   "metadata": {
    "id": "2VHKt_SrdGYp"
   },
   "source": [
    "##get_best_structure"
   ]
  },
  {
   "cell_type": "code",
   "execution_count": 6,
   "metadata": {
    "id": "vsXpp_k71rQc"
   },
   "outputs": [],
   "source": [
    "def get_best_structure(mol,n_confs=10):\n",
    "  new_mol = Chem.Mol(mol)\n",
    "\n",
    "  AllChem.EmbedMultipleConfs(mol,numConfs=n_confs,useExpTorsionAnglePrefs=True,useBasicKnowledge=True)\n",
    "  energies = AllChem.MMFFOptimizeMoleculeConfs(mol,maxIters=2000, nonBondedThresh=100.0)\n",
    "\n",
    "  energies_list = [e[1] for e in energies]\n",
    "  min_e_index = energies_list.index(min(energies_list))\n",
    "\n",
    "  new_mol.AddConformer(mol.GetConformer(min_e_index))\n",
    "\n",
    "  return new_mol"
   ]
  },
  {
   "cell_type": "markdown",
   "metadata": {
    "id": "8IEZNjMAdKCe"
   },
   "source": [
    "##shell"
   ]
  },
  {
   "cell_type": "code",
   "execution_count": 7,
   "metadata": {
    "id": "h9Uk2l1I1ubf"
   },
   "outputs": [],
   "source": [
    "def shell(cmd, shell=False):\n",
    "  #Written by Jimmy Kromann\n",
    "  if shell:\n",
    "    p = subprocess.Popen(cmd, shell=True, stdin=subprocess.PIPE, stdout=subprocess.PIPE, stderr=subprocess.PIPE)\n",
    "  else:\n",
    "    cmd = cmd.split()\n",
    "    p = subprocess.Popen(cmd, stdin=subprocess.PIPE, stdout=subprocess.PIPE, stderr=subprocess.PIPE)\n",
    "\n",
    "  output, err = p.communicate()\n",
    "  return output"
   ]
  },
  {
   "cell_type": "markdown",
   "metadata": {
    "id": "F1oy6KeDdLGN"
   },
   "source": [
    "##run_xTB"
   ]
  },
  {
   "cell_type": "code",
   "execution_count": 8,
   "metadata": {
    "id": "o-1oAuT912lT"
   },
   "outputs": [],
   "source": [
    "def run_xTB(mol, command, file_name='temp.xyz', conf_search=False):\n",
    "  mol = Chem.AddHs(mol)\n",
    "  if conf_search:\n",
    "    mol = get_best_structure(mol)\n",
    "  else:\n",
    "    rdDistGeom.EmbedMolecule(mol)\n",
    "    AllChem.MMFFOptimizeMolecule(mol)\n",
    "  write_xyz(mol)\n",
    "  command = 'xtb ' + file_name + ' ' + command\n",
    "  output = shell(command)\n",
    "  output = str(output).replace('\\\\n','\\n')\n",
    "  \n",
    "  return output"
   ]
  },
  {
   "cell_type": "markdown",
   "metadata": {
    "id": "b6V7G0y7dNXO"
   },
   "source": [
    "##get_energy"
   ]
  },
  {
   "cell_type": "code",
   "execution_count": 9,
   "metadata": {
    "id": "40fYyw_v2EAn"
   },
   "outputs": [],
   "source": [
    "def get_energy(output):\n",
    "  output = str(output)\n",
    "  energy = float(output.split('TOTAL ENERGY')[1].split('Eh')[0])\n",
    "\n",
    "  return energy"
   ]
  },
  {
   "cell_type": "markdown",
   "metadata": {
    "id": "thdsgvqmdPIQ"
   },
   "source": [
    "##run_rxn"
   ]
  },
  {
   "cell_type": "code",
   "execution_count": 10,
   "metadata": {
    "id": "Z_N4MPmL2GTo"
   },
   "outputs": [],
   "source": [
    " def run_rxn(reactant, smarts): \n",
    "  rxn = AllChem.ReactionFromSmarts(smarts)\n",
    "  ps = rxn.RunReactants((reactant,))\n",
    "  product = ps[0][0]\n",
    "  Chem.SanitizeMol(product)\n",
    "  \n",
    "  return product"
   ]
  },
  {
   "cell_type": "markdown",
   "metadata": {
    "id": "f5wfGhwDdTKQ"
   },
   "source": [
    "##reorder_product"
   ]
  },
  {
   "cell_type": "code",
   "execution_count": 11,
   "metadata": {
    "id": "R-GIyVXi2Iov"
   },
   "outputs": [],
   "source": [
    "def reorder_product(product):\n",
    "  reorder_inverse = [int(atom.GetProp('react_atom_idx')) for atom in product.GetAtoms()]\n",
    "  reorder = len(reorder_inverse)*[0]\n",
    "\n",
    "  for i in range(len(reorder_inverse)):\n",
    "    reorder[reorder_inverse[i]] = i\n",
    "\n",
    "  product = Chem.RenumberAtoms(product, reorder)\n",
    "\n",
    "  return product"
   ]
  },
  {
   "cell_type": "markdown",
   "metadata": {
    "id": "qqLVCTTbdXVw"
   },
   "source": [
    "##label_atoms"
   ]
  },
  {
   "cell_type": "code",
   "execution_count": 12,
   "metadata": {
    "id": "Jg3msl542LGt"
   },
   "outputs": [],
   "source": [
    "def label_atoms(mol):\n",
    "  for i,atom in enumerate(mol.GetAtoms()):\n",
    "    atom.SetAtomMapNum(i+1)\n",
    "  \n",
    "  return mol"
   ]
  },
  {
   "cell_type": "markdown",
   "metadata": {
    "id": "F_i0Yte7dZTN"
   },
   "source": [
    "##plot_PES"
   ]
  },
  {
   "cell_type": "code",
   "execution_count": null,
   "metadata": {
    "id": "LUcFXuo6dbCh"
   },
   "outputs": [],
   "source": []
  },
  {
   "cell_type": "code",
   "execution_count": 13,
   "metadata": {
    "id": "7wg2qtDE2N3n"
   },
   "outputs": [],
   "source": [
    "def plot_PES():\n",
    "  output = shell('grep energy xtbpath.xyz')\n",
    "  energies = []\n",
    "  for line in str(output).split('\\\\n'):\n",
    "    if 'energy:' in line:\n",
    "      energies.append(float(line.split('energy:')[1].split('xtb:')[0]))\n",
    "\n",
    "  plt.plot(energies,'bo')\n",
    "  plt.ylabel('Relative energy (kcal/mol)')\n",
    "  plt.xlabel('Interpolation step')"
   ]
  },
  {
   "cell_type": "markdown",
   "metadata": {
    "id": "gz3oleWpZhsF"
   },
   "source": [
    "##offset"
   ]
  },
  {
   "cell_type": "code",
   "execution_count": 14,
   "metadata": {
    "id": "CvV2Q7_9ZgYt"
   },
   "outputs": [],
   "source": [
    "def offset(mol, offset=5):\n",
    "  smiles = Chem.MolToSmiles(mol, allHsExplicit=True)\n",
    "  smilesA = smiles.split('.')[0]\n",
    "  molA_idx = mol.GetSubstructMatch(Chem.MolFromSmiles(smilesA, sanitize=False))\n",
    "  conf = mol.GetConformer()\n",
    "  for i in range(mol.GetNumAtoms()):\n",
    "    p = conf.GetAtomPosition(i)\n",
    "    if i in molA_idx:\n",
    "      conf.SetAtomPosition(i,(p.x,p.y,p.z+offset))\n",
    "\n",
    "  return mol"
   ]
  },
  {
   "cell_type": "markdown",
   "metadata": {
    "id": "30FFGoP72TEd"
   },
   "source": [
    "#Some basics: geometry optimisation and getting the energy from the output"
   ]
  },
  {
   "cell_type": "markdown",
   "metadata": {
    "id": "DMXbfUEn2XDi"
   },
   "source": [
    "## Geometry optimisation\n",
    "\n",
    "[PubChem Sketcher](https://pubchem.ncbi.nlm.nih.gov/edit3/index.html): a GUI for SMILES generation\n",
    "\n",
    "Getting SMILES from [ChemDraw](https://youtu.be/A_gwCZrYIXY)"
   ]
  },
  {
   "cell_type": "code",
   "execution_count": 27,
   "metadata": {
    "colab": {
     "base_uri": "https://localhost:8080/"
    },
    "id": "9V52nFbF7AQC",
    "outputId": "822e2f8e-af41-4718-b7d5-fe03345cf93a"
   },
   "outputs": [
    {
     "data": {
      "application/3dmoljs_load.v0": "<div id=\"3dmolviewer_16533979073599677\"  style=\"position: relative; width: 400px; height: 400px\">\n        <p id=\"3dmolwarning_16533979073599677\" style=\"background-color:#ffcccc;color:black\">You appear to be running in JupyterLab (or JavaScript failed to load for some other reason).  You need to install the 3dmol extension: <br>\n        <tt>jupyter labextension install jupyterlab_3dmol</tt></p>\n        </div>\n<script>\n\nvar loadScriptAsync = function(uri){\n  return new Promise((resolve, reject) => {\n    var tag = document.createElement('script');\n    tag.src = uri;\n    tag.async = true;\n    tag.onload = () => {\n      resolve();\n    };\n  var firstScriptTag = document.getElementsByTagName('script')[0];\n  firstScriptTag.parentNode.insertBefore(tag, firstScriptTag);\n});\n};\n\nif(typeof $3Dmolpromise === 'undefined') {\n$3Dmolpromise = null;\n  $3Dmolpromise = loadScriptAsync('https://3dmol.org/build/3Dmol.js');\n}\n\nvar viewer_16533979073599677 = null;\nvar warn = document.getElementById(\"3dmolwarning_16533979073599677\");\nif(warn) {\n    warn.parentNode.removeChild(warn);\n}\n$3Dmolpromise.then(function() {\nviewer_16533979073599677 = $3Dmol.createViewer($(\"#3dmolviewer_16533979073599677\"),{backgroundColor:\"white\"});\nviewer_16533979073599677.zoomTo();\n\tviewer_16533979073599677.removeAllModels();\n\tviewer_16533979073599677.addModel(\"\\n     RDKit          3D\\n\\n 10  9  0  0  0  0  0  0  0  0999 V2000\\n    0.9470   -0.4518   -0.4542 N   0  0  0  0  0  4  0  0  0  0  0  0\\n   -0.0211    0.6505   -0.0816 C   0  0  0  0  0  0  0  0  0  0  0  0\\n   -1.2258    0.0337    0.6669 C   0  0  0  0  0  0  0  0  0  0  0  0\\n   -2.1244    0.8097    1.0482 O   0  0  0  0  0  0  0  0  0  0  0  0\\n   -1.0612   -1.2287    0.7575 O   0  0  0  0  0  1  0  0  0  0  0  0\\n    0.4338   -1.2826   -0.0540 H   0  0  0  0  0  0  0  0  0  0  0  0\\n    1.0215   -0.6122   -1.4578 H   0  0  0  0  0  0  0  0  0  0  0  0\\n    1.8393   -0.3984    0.0350 H   0  0  0  0  0  0  0  0  0  0  0  0\\n    0.5248    1.3522    0.5537 H   0  0  0  0  0  0  0  0  0  0  0  0\\n   -0.3340    1.1276   -1.0136 H   0  0  0  0  0  0  0  0  0  0  0  0\\n  1  2  1  0\\n  2  3  1  0\\n  3  4  2  0\\n  3  5  1  0\\n  1  6  1  0\\n  1  7  1  0\\n  1  8  1  0\\n  2  9  1  0\\n  2 10  1  0\\nM  CHG  2   1   1   5  -1\\nM  END\\n\",\"sdf\");\n\tviewer_16533979073599677.setStyle({\"stick\": {}});\n\tviewer_16533979073599677.setBackgroundColor(\"0xeeeeee\");\n\tviewer_16533979073599677.zoomTo();\nviewer_16533979073599677.render();\n});\n</script>",
      "text/html": [
       "<div id=\"3dmolviewer_16533979073599677\"  style=\"position: relative; width: 400px; height: 400px\">\n",
       "        <p id=\"3dmolwarning_16533979073599677\" style=\"background-color:#ffcccc;color:black\">You appear to be running in JupyterLab (or JavaScript failed to load for some other reason).  You need to install the 3dmol extension: <br>\n",
       "        <tt>jupyter labextension install jupyterlab_3dmol</tt></p>\n",
       "        </div>\n",
       "<script>\n",
       "\n",
       "var loadScriptAsync = function(uri){\n",
       "  return new Promise((resolve, reject) => {\n",
       "    var tag = document.createElement('script');\n",
       "    tag.src = uri;\n",
       "    tag.async = true;\n",
       "    tag.onload = () => {\n",
       "      resolve();\n",
       "    };\n",
       "  var firstScriptTag = document.getElementsByTagName('script')[0];\n",
       "  firstScriptTag.parentNode.insertBefore(tag, firstScriptTag);\n",
       "});\n",
       "};\n",
       "\n",
       "if(typeof $3Dmolpromise === 'undefined') {\n",
       "$3Dmolpromise = null;\n",
       "  $3Dmolpromise = loadScriptAsync('https://3dmol.org/build/3Dmol.js');\n",
       "}\n",
       "\n",
       "var viewer_16533979073599677 = null;\n",
       "var warn = document.getElementById(\"3dmolwarning_16533979073599677\");\n",
       "if(warn) {\n",
       "    warn.parentNode.removeChild(warn);\n",
       "}\n",
       "$3Dmolpromise.then(function() {\n",
       "viewer_16533979073599677 = $3Dmol.createViewer($(\"#3dmolviewer_16533979073599677\"),{backgroundColor:\"white\"});\n",
       "viewer_16533979073599677.zoomTo();\n",
       "\tviewer_16533979073599677.removeAllModels();\n",
       "\tviewer_16533979073599677.addModel(\"\\n     RDKit          3D\\n\\n 10  9  0  0  0  0  0  0  0  0999 V2000\\n    0.9470   -0.4518   -0.4542 N   0  0  0  0  0  4  0  0  0  0  0  0\\n   -0.0211    0.6505   -0.0816 C   0  0  0  0  0  0  0  0  0  0  0  0\\n   -1.2258    0.0337    0.6669 C   0  0  0  0  0  0  0  0  0  0  0  0\\n   -2.1244    0.8097    1.0482 O   0  0  0  0  0  0  0  0  0  0  0  0\\n   -1.0612   -1.2287    0.7575 O   0  0  0  0  0  1  0  0  0  0  0  0\\n    0.4338   -1.2826   -0.0540 H   0  0  0  0  0  0  0  0  0  0  0  0\\n    1.0215   -0.6122   -1.4578 H   0  0  0  0  0  0  0  0  0  0  0  0\\n    1.8393   -0.3984    0.0350 H   0  0  0  0  0  0  0  0  0  0  0  0\\n    0.5248    1.3522    0.5537 H   0  0  0  0  0  0  0  0  0  0  0  0\\n   -0.3340    1.1276   -1.0136 H   0  0  0  0  0  0  0  0  0  0  0  0\\n  1  2  1  0\\n  2  3  1  0\\n  3  4  2  0\\n  3  5  1  0\\n  1  6  1  0\\n  1  7  1  0\\n  1  8  1  0\\n  2  9  1  0\\n  2 10  1  0\\nM  CHG  2   1   1   5  -1\\nM  END\\n\",\"sdf\");\n",
       "\tviewer_16533979073599677.setStyle({\"stick\": {}});\n",
       "\tviewer_16533979073599677.setBackgroundColor(\"0xeeeeee\");\n",
       "\tviewer_16533979073599677.zoomTo();\n",
       "viewer_16533979073599677.render();\n",
       "});\n",
       "</script>"
      ]
     },
     "metadata": {},
     "output_type": "display_data"
    },
    {
     "data": {
      "image/png": "[encoded data removed]",
      "text/html": [],
      "text/plain": [
       "<rdkit.Chem.rdchem.Mol at 0x7f85204cf220>"
      ]
     },
     "execution_count": 27,
     "metadata": {},
     "output_type": "execute_result"
    }
   ],
   "source": [
    "#mol = Chem.MolFromSmiles('CCCC')\n",
    "mol = Chem.MolFromSmiles('[NH3+]CC(=O)[O-]')\n",
    "mol = Chem.AddHs(mol)\n",
    "AllChem.EmbedMolecule(mol)\n",
    "AllChem.MMFFOptimizeMolecule(mol)\n",
    "mol"
   ]
  },
  {
   "cell_type": "code",
   "execution_count": 24,
   "metadata": {
    "colab": {
     "base_uri": "https://localhost:8080/"
    },
    "id": "lGASje-n8erP",
    "outputId": "9e2f9be3-0119-43d7-f98d-055bb06a1185"
   },
   "outputs": [
    {
     "name": "stdout",
     "output_type": "stream",
     "text": [
      "zsh:1: command not found: xtb\r\n"
     ]
    }
   ],
   "source": [
    "write_xyz(mol, 'temp.xyz')\n",
    "!xtb temp.xyz --opt "
   ]
  },
  {
   "cell_type": "code",
   "execution_count": 23,
   "metadata": {
    "colab": {
     "base_uri": "https://localhost:8080/"
    },
    "id": "M2u2MXlB9iFf",
    "outputId": "753a8f6f-a881-450a-c987-a0206357e784"
   },
   "outputs": [
    {
     "ename": "FileNotFoundError",
     "evalue": "[Errno 2] No such file or directory: 'xtbopt.xyz'",
     "output_type": "error",
     "traceback": [
      "\u001b[0;31m---------------------------------------------------------------------------\u001b[0m",
      "\u001b[0;31mFileNotFoundError\u001b[0m                         Traceback (most recent call last)",
      "\u001b[0;32m/tmp/ipykernel_18530/4060957007.py\u001b[0m in \u001b[0;36m<module>\u001b[0;34m\u001b[0m\n\u001b[0;32m----> 1\u001b[0;31m \u001b[0mshow_mol\u001b[0m\u001b[0;34m(\u001b[0m\u001b[0;34m'xtbopt.xyz'\u001b[0m\u001b[0;34m)\u001b[0m\u001b[0;34m\u001b[0m\u001b[0;34m\u001b[0m\u001b[0m\n\u001b[0m",
      "\u001b[0;32m/tmp/ipykernel_18530/463697738.py\u001b[0m in \u001b[0;36mshow_mol\u001b[0;34m(file_name, animate)\u001b[0m\n\u001b[1;32m      1\u001b[0m \u001b[0;32mdef\u001b[0m \u001b[0mshow_mol\u001b[0m\u001b[0;34m(\u001b[0m\u001b[0mfile_name\u001b[0m\u001b[0;34m,\u001b[0m \u001b[0manimate\u001b[0m\u001b[0;34m=\u001b[0m\u001b[0;32mFalse\u001b[0m\u001b[0;34m)\u001b[0m\u001b[0;34m:\u001b[0m\u001b[0;34m\u001b[0m\u001b[0;34m\u001b[0m\u001b[0m\n\u001b[0;32m----> 2\u001b[0;31m   \u001b[0mxyz\u001b[0m\u001b[0;34m=\u001b[0m\u001b[0mopen\u001b[0m\u001b[0;34m(\u001b[0m\u001b[0mfile_name\u001b[0m\u001b[0;34m,\u001b[0m \u001b[0;34m'r'\u001b[0m\u001b[0;34m)\u001b[0m\u001b[0;34m.\u001b[0m\u001b[0mread\u001b[0m\u001b[0;34m(\u001b[0m\u001b[0;34m)\u001b[0m\u001b[0;34m\u001b[0m\u001b[0;34m\u001b[0m\u001b[0m\n\u001b[0m\u001b[1;32m      3\u001b[0m   \u001b[0mp\u001b[0m \u001b[0;34m=\u001b[0m \u001b[0mpy3Dmol\u001b[0m\u001b[0;34m.\u001b[0m\u001b[0mview\u001b[0m\u001b[0;34m(\u001b[0m\u001b[0mwidth\u001b[0m\u001b[0;34m=\u001b[0m\u001b[0;36m400\u001b[0m\u001b[0;34m,\u001b[0m\u001b[0mheight\u001b[0m\u001b[0;34m=\u001b[0m\u001b[0;36m400\u001b[0m\u001b[0;34m)\u001b[0m\u001b[0;34m\u001b[0m\u001b[0;34m\u001b[0m\u001b[0m\n\u001b[1;32m      4\u001b[0m   \u001b[0;32mif\u001b[0m \u001b[0manimate\u001b[0m\u001b[0;34m:\u001b[0m\u001b[0;34m\u001b[0m\u001b[0;34m\u001b[0m\u001b[0m\n\u001b[1;32m      5\u001b[0m     \u001b[0mp\u001b[0m\u001b[0;34m.\u001b[0m\u001b[0maddModelsAsFrames\u001b[0m\u001b[0;34m(\u001b[0m\u001b[0mxyz\u001b[0m\u001b[0;34m,\u001b[0m\u001b[0;34m'xyz'\u001b[0m\u001b[0;34m)\u001b[0m\u001b[0;34m\u001b[0m\u001b[0;34m\u001b[0m\u001b[0m\n",
      "\u001b[0;31mFileNotFoundError\u001b[0m: [Errno 2] No such file or directory: 'xtbopt.xyz'"
     ]
    }
   ],
   "source": [
    "show_mol('xtbopt.xyz')"
   ]
  },
  {
   "cell_type": "markdown",
   "metadata": {
    "id": "G3teCdVz2efZ"
   },
   "source": [
    "##Getting a mol object/smiles from an xyz file\n"
   ]
  },
  {
   "cell_type": "code",
   "execution_count": 18,
   "metadata": {
    "id": "ZrPCKJjq2kbC"
   },
   "outputs": [],
   "source": [
    "%%capture\n",
    "!git clone https://github.com/jensengroup/xyz2mol.git\n",
    "import xyz2mol.xyz2mol as xyz2mol"
   ]
  },
  {
   "cell_type": "code",
   "execution_count": 19,
   "metadata": {
    "id": "dMviM1VI2q-v"
   },
   "outputs": [
    {
     "ename": "FileNotFoundError",
     "evalue": "[Errno 2] No such file or directory: 'xtbopt.xyz'",
     "output_type": "error",
     "traceback": [
      "\u001b[0;31m---------------------------------------------------------------------------\u001b[0m",
      "\u001b[0;31mFileNotFoundError\u001b[0m                         Traceback (most recent call last)",
      "\u001b[0;32m/tmp/ipykernel_18530/2789886994.py\u001b[0m in \u001b[0;36m<module>\u001b[0;34m\u001b[0m\n\u001b[0;32m----> 1\u001b[0;31m \u001b[0matoms\u001b[0m\u001b[0;34m,\u001b[0m \u001b[0mcharge\u001b[0m\u001b[0;34m,\u001b[0m \u001b[0mxyz_coordinates\u001b[0m \u001b[0;34m=\u001b[0m \u001b[0mxyz2mol\u001b[0m\u001b[0;34m.\u001b[0m\u001b[0mread_xyz_file\u001b[0m\u001b[0;34m(\u001b[0m\u001b[0;34m'xtbopt.xyz'\u001b[0m\u001b[0;34m)\u001b[0m\u001b[0;34m\u001b[0m\u001b[0;34m\u001b[0m\u001b[0m\n\u001b[0m\u001b[1;32m      2\u001b[0m \u001b[0mmols\u001b[0m \u001b[0;34m=\u001b[0m \u001b[0mxyz2mol\u001b[0m\u001b[0;34m.\u001b[0m\u001b[0mxyz2mol\u001b[0m\u001b[0;34m(\u001b[0m\u001b[0matoms\u001b[0m\u001b[0;34m,\u001b[0m \u001b[0mxyz_coordinates\u001b[0m\u001b[0;34m,\u001b[0m \u001b[0mcharge\u001b[0m\u001b[0;34m=\u001b[0m\u001b[0mcharge\u001b[0m\u001b[0;34m)\u001b[0m\u001b[0;34m\u001b[0m\u001b[0;34m\u001b[0m\u001b[0m\n",
      "\u001b[0;32m~/Learning_DataScience/xyz2mol/xyz2mol.py\u001b[0m in \u001b[0;36mread_xyz_file\u001b[0;34m(filename, look_for_charge)\u001b[0m\n\u001b[1;32m    539\u001b[0m     \u001b[0mtitle\u001b[0m \u001b[0;34m=\u001b[0m \u001b[0;34m\"\"\u001b[0m\u001b[0;34m\u001b[0m\u001b[0;34m\u001b[0m\u001b[0m\n\u001b[1;32m    540\u001b[0m \u001b[0;34m\u001b[0m\u001b[0m\n\u001b[0;32m--> 541\u001b[0;31m     \u001b[0;32mwith\u001b[0m \u001b[0mopen\u001b[0m\u001b[0;34m(\u001b[0m\u001b[0mfilename\u001b[0m\u001b[0;34m,\u001b[0m \u001b[0;34m\"r\"\u001b[0m\u001b[0;34m)\u001b[0m \u001b[0;32mas\u001b[0m \u001b[0mfile\u001b[0m\u001b[0;34m:\u001b[0m\u001b[0;34m\u001b[0m\u001b[0;34m\u001b[0m\u001b[0m\n\u001b[0m\u001b[1;32m    542\u001b[0m         \u001b[0;32mfor\u001b[0m \u001b[0mline_number\u001b[0m\u001b[0;34m,\u001b[0m \u001b[0mline\u001b[0m \u001b[0;32min\u001b[0m \u001b[0menumerate\u001b[0m\u001b[0;34m(\u001b[0m\u001b[0mfile\u001b[0m\u001b[0;34m)\u001b[0m\u001b[0;34m:\u001b[0m\u001b[0;34m\u001b[0m\u001b[0;34m\u001b[0m\u001b[0m\n\u001b[1;32m    543\u001b[0m             \u001b[0;32mif\u001b[0m \u001b[0mline_number\u001b[0m \u001b[0;34m==\u001b[0m \u001b[0;36m0\u001b[0m\u001b[0;34m:\u001b[0m\u001b[0;34m\u001b[0m\u001b[0;34m\u001b[0m\u001b[0m\n",
      "\u001b[0;31mFileNotFoundError\u001b[0m: [Errno 2] No such file or directory: 'xtbopt.xyz'"
     ]
    }
   ],
   "source": [
    "atoms, charge, xyz_coordinates = xyz2mol.read_xyz_file('xtbopt.xyz')\n",
    "mols = xyz2mol.xyz2mol(atoms, xyz_coordinates, charge=charge)"
   ]
  },
  {
   "cell_type": "code",
   "execution_count": 20,
   "metadata": {
    "id": "vNDdhiXl-hfi"
   },
   "outputs": [
    {
     "ename": "NameError",
     "evalue": "name 'mols' is not defined",
     "output_type": "error",
     "traceback": [
      "\u001b[0;31m---------------------------------------------------------------------------\u001b[0m",
      "\u001b[0;31mNameError\u001b[0m                                 Traceback (most recent call last)",
      "\u001b[0;32m/tmp/ipykernel_18530/2215791344.py\u001b[0m in \u001b[0;36m<module>\u001b[0;34m\u001b[0m\n\u001b[0;32m----> 1\u001b[0;31m \u001b[0mmol\u001b[0m \u001b[0;34m=\u001b[0m \u001b[0mChem\u001b[0m\u001b[0;34m.\u001b[0m\u001b[0mRemoveHs\u001b[0m\u001b[0;34m(\u001b[0m\u001b[0mmols\u001b[0m\u001b[0;34m[\u001b[0m\u001b[0;36m0\u001b[0m\u001b[0;34m]\u001b[0m\u001b[0;34m)\u001b[0m\u001b[0;34m\u001b[0m\u001b[0;34m\u001b[0m\u001b[0m\n\u001b[0m\u001b[1;32m      2\u001b[0m \u001b[0mChem\u001b[0m\u001b[0;34m.\u001b[0m\u001b[0mMolToSmiles\u001b[0m\u001b[0;34m(\u001b[0m\u001b[0mmol\u001b[0m\u001b[0;34m)\u001b[0m\u001b[0;34m\u001b[0m\u001b[0;34m\u001b[0m\u001b[0m\n",
      "\u001b[0;31mNameError\u001b[0m: name 'mols' is not defined"
     ]
    }
   ],
   "source": [
    "mol = Chem.RemoveHs(mols[0])\n",
    "Chem.MolToSmiles(mol)"
   ]
  },
  {
   "cell_type": "markdown",
   "metadata": {
    "id": "jhHee5ui2lQt"
   },
   "source": [
    "## Getting the energy from the output\n",
    "\n",
    "The energy unit (Eh) is Hartree. 1 Hartree = 627.51 kcal/mol = 2625.08 kJ/mol"
   ]
  },
  {
   "cell_type": "code",
   "execution_count": 21,
   "metadata": {
    "id": "kgpOFkxY_PDV"
   },
   "outputs": [
    {
     "ename": "FileNotFoundError",
     "evalue": "[Errno 2] No such file or directory: 'xtb'",
     "output_type": "error",
     "traceback": [
      "\u001b[0;31m---------------------------------------------------------------------------\u001b[0m",
      "\u001b[0;31mFileNotFoundError\u001b[0m                         Traceback (most recent call last)",
      "\u001b[0;32m/tmp/ipykernel_18530/2908651666.py\u001b[0m in \u001b[0;36m<module>\u001b[0;34m\u001b[0m\n\u001b[0;32m----> 1\u001b[0;31m \u001b[0moutput\u001b[0m \u001b[0;34m=\u001b[0m \u001b[0mshell\u001b[0m\u001b[0;34m(\u001b[0m\u001b[0;34m'xtb temp.xyz --opt'\u001b[0m\u001b[0;34m)\u001b[0m\u001b[0;34m\u001b[0m\u001b[0;34m\u001b[0m\u001b[0m\n\u001b[0m\u001b[1;32m      2\u001b[0m \u001b[0moutput\u001b[0m \u001b[0;34m=\u001b[0m \u001b[0mstr\u001b[0m\u001b[0;34m(\u001b[0m\u001b[0moutput\u001b[0m\u001b[0;34m)\u001b[0m\u001b[0;34m\u001b[0m\u001b[0;34m\u001b[0m\u001b[0m\n\u001b[1;32m      3\u001b[0m \u001b[0mfloat\u001b[0m\u001b[0;34m(\u001b[0m\u001b[0moutput\u001b[0m\u001b[0;34m.\u001b[0m\u001b[0msplit\u001b[0m\u001b[0;34m(\u001b[0m\u001b[0;34m'TOTAL ENERGY'\u001b[0m\u001b[0;34m)\u001b[0m\u001b[0;34m[\u001b[0m\u001b[0;36m1\u001b[0m\u001b[0;34m]\u001b[0m\u001b[0;34m.\u001b[0m\u001b[0msplit\u001b[0m\u001b[0;34m(\u001b[0m\u001b[0;34m'Eh'\u001b[0m\u001b[0;34m)\u001b[0m\u001b[0;34m[\u001b[0m\u001b[0;36m0\u001b[0m\u001b[0;34m]\u001b[0m\u001b[0;34m)\u001b[0m\u001b[0;34m\u001b[0m\u001b[0;34m\u001b[0m\u001b[0m\n",
      "\u001b[0;32m/tmp/ipykernel_18530/3130976186.py\u001b[0m in \u001b[0;36mshell\u001b[0;34m(cmd, shell)\u001b[0m\n\u001b[1;32m      5\u001b[0m   \u001b[0;32melse\u001b[0m\u001b[0;34m:\u001b[0m\u001b[0;34m\u001b[0m\u001b[0;34m\u001b[0m\u001b[0m\n\u001b[1;32m      6\u001b[0m     \u001b[0mcmd\u001b[0m \u001b[0;34m=\u001b[0m \u001b[0mcmd\u001b[0m\u001b[0;34m.\u001b[0m\u001b[0msplit\u001b[0m\u001b[0;34m(\u001b[0m\u001b[0;34m)\u001b[0m\u001b[0;34m\u001b[0m\u001b[0;34m\u001b[0m\u001b[0m\n\u001b[0;32m----> 7\u001b[0;31m     \u001b[0mp\u001b[0m \u001b[0;34m=\u001b[0m \u001b[0msubprocess\u001b[0m\u001b[0;34m.\u001b[0m\u001b[0mPopen\u001b[0m\u001b[0;34m(\u001b[0m\u001b[0mcmd\u001b[0m\u001b[0;34m,\u001b[0m \u001b[0mstdin\u001b[0m\u001b[0;34m=\u001b[0m\u001b[0msubprocess\u001b[0m\u001b[0;34m.\u001b[0m\u001b[0mPIPE\u001b[0m\u001b[0;34m,\u001b[0m \u001b[0mstdout\u001b[0m\u001b[0;34m=\u001b[0m\u001b[0msubprocess\u001b[0m\u001b[0;34m.\u001b[0m\u001b[0mPIPE\u001b[0m\u001b[0;34m,\u001b[0m \u001b[0mstderr\u001b[0m\u001b[0;34m=\u001b[0m\u001b[0msubprocess\u001b[0m\u001b[0;34m.\u001b[0m\u001b[0mPIPE\u001b[0m\u001b[0;34m)\u001b[0m\u001b[0;34m\u001b[0m\u001b[0;34m\u001b[0m\u001b[0m\n\u001b[0m\u001b[1;32m      8\u001b[0m \u001b[0;34m\u001b[0m\u001b[0m\n\u001b[1;32m      9\u001b[0m   \u001b[0moutput\u001b[0m\u001b[0;34m,\u001b[0m \u001b[0merr\u001b[0m \u001b[0;34m=\u001b[0m \u001b[0mp\u001b[0m\u001b[0;34m.\u001b[0m\u001b[0mcommunicate\u001b[0m\u001b[0;34m(\u001b[0m\u001b[0;34m)\u001b[0m\u001b[0;34m\u001b[0m\u001b[0;34m\u001b[0m\u001b[0m\n",
      "\u001b[0;32m~/.pyenv/versions/3.8.12/lib/python3.8/subprocess.py\u001b[0m in \u001b[0;36m__init__\u001b[0;34m(self, args, bufsize, executable, stdin, stdout, stderr, preexec_fn, close_fds, shell, cwd, env, universal_newlines, startupinfo, creationflags, restore_signals, start_new_session, pass_fds, encoding, errors, text)\u001b[0m\n\u001b[1;32m    856\u001b[0m                             encoding=encoding, errors=errors)\n\u001b[1;32m    857\u001b[0m \u001b[0;34m\u001b[0m\u001b[0m\n\u001b[0;32m--> 858\u001b[0;31m             self._execute_child(args, executable, preexec_fn, close_fds,\n\u001b[0m\u001b[1;32m    859\u001b[0m                                 \u001b[0mpass_fds\u001b[0m\u001b[0;34m,\u001b[0m \u001b[0mcwd\u001b[0m\u001b[0;34m,\u001b[0m \u001b[0menv\u001b[0m\u001b[0;34m,\u001b[0m\u001b[0;34m\u001b[0m\u001b[0;34m\u001b[0m\u001b[0m\n\u001b[1;32m    860\u001b[0m                                 \u001b[0mstartupinfo\u001b[0m\u001b[0;34m,\u001b[0m \u001b[0mcreationflags\u001b[0m\u001b[0;34m,\u001b[0m \u001b[0mshell\u001b[0m\u001b[0;34m,\u001b[0m\u001b[0;34m\u001b[0m\u001b[0;34m\u001b[0m\u001b[0m\n",
      "\u001b[0;32m~/.pyenv/versions/3.8.12/lib/python3.8/subprocess.py\u001b[0m in \u001b[0;36m_execute_child\u001b[0;34m(self, args, executable, preexec_fn, close_fds, pass_fds, cwd, env, startupinfo, creationflags, shell, p2cread, p2cwrite, c2pread, c2pwrite, errread, errwrite, restore_signals, start_new_session)\u001b[0m\n\u001b[1;32m   1702\u001b[0m                     \u001b[0;32mif\u001b[0m \u001b[0merrno_num\u001b[0m \u001b[0;34m!=\u001b[0m \u001b[0;36m0\u001b[0m\u001b[0;34m:\u001b[0m\u001b[0;34m\u001b[0m\u001b[0;34m\u001b[0m\u001b[0m\n\u001b[1;32m   1703\u001b[0m                         \u001b[0merr_msg\u001b[0m \u001b[0;34m=\u001b[0m \u001b[0mos\u001b[0m\u001b[0;34m.\u001b[0m\u001b[0mstrerror\u001b[0m\u001b[0;34m(\u001b[0m\u001b[0merrno_num\u001b[0m\u001b[0;34m)\u001b[0m\u001b[0;34m\u001b[0m\u001b[0;34m\u001b[0m\u001b[0m\n\u001b[0;32m-> 1704\u001b[0;31m                     \u001b[0;32mraise\u001b[0m \u001b[0mchild_exception_type\u001b[0m\u001b[0;34m(\u001b[0m\u001b[0merrno_num\u001b[0m\u001b[0;34m,\u001b[0m \u001b[0merr_msg\u001b[0m\u001b[0;34m,\u001b[0m \u001b[0merr_filename\u001b[0m\u001b[0;34m)\u001b[0m\u001b[0;34m\u001b[0m\u001b[0;34m\u001b[0m\u001b[0m\n\u001b[0m\u001b[1;32m   1705\u001b[0m                 \u001b[0;32mraise\u001b[0m \u001b[0mchild_exception_type\u001b[0m\u001b[0;34m(\u001b[0m\u001b[0merr_msg\u001b[0m\u001b[0;34m)\u001b[0m\u001b[0;34m\u001b[0m\u001b[0;34m\u001b[0m\u001b[0m\n\u001b[1;32m   1706\u001b[0m \u001b[0;34m\u001b[0m\u001b[0m\n",
      "\u001b[0;31mFileNotFoundError\u001b[0m: [Errno 2] No such file or directory: 'xtb'"
     ]
    }
   ],
   "source": [
    "output = shell('xtb temp.xyz --opt')\n",
    "output = str(output)\n",
    "float(output.split('TOTAL ENERGY')[1].split('Eh')[0])"
   ]
  },
  {
   "cell_type": "code",
   "execution_count": 28,
   "metadata": {
    "id": "YEcZjmd6_40u"
   },
   "outputs": [
    {
     "ename": "FileNotFoundError",
     "evalue": "[Errno 2] No such file or directory: 'xtb'",
     "output_type": "error",
     "traceback": [
      "\u001b[0;31m---------------------------------------------------------------------------\u001b[0m",
      "\u001b[0;31mFileNotFoundError\u001b[0m                         Traceback (most recent call last)",
      "\u001b[0;32m/tmp/ipykernel_18530/56134279.py\u001b[0m in \u001b[0;36m<module>\u001b[0;34m\u001b[0m\n\u001b[1;32m      1\u001b[0m \u001b[0mmol\u001b[0m \u001b[0;34m=\u001b[0m \u001b[0mChem\u001b[0m\u001b[0;34m.\u001b[0m\u001b[0mMolFromSmiles\u001b[0m\u001b[0;34m(\u001b[0m\u001b[0;34m'[NH3+]CC(=O)[O-]'\u001b[0m\u001b[0;34m)\u001b[0m\u001b[0;34m\u001b[0m\u001b[0;34m\u001b[0m\u001b[0m\n\u001b[0;32m----> 2\u001b[0;31m \u001b[0moutput\u001b[0m \u001b[0;34m=\u001b[0m \u001b[0mrun_xTB\u001b[0m\u001b[0;34m(\u001b[0m\u001b[0mmol\u001b[0m\u001b[0;34m,\u001b[0m \u001b[0;34m'--opt'\u001b[0m\u001b[0;34m)\u001b[0m\u001b[0;34m\u001b[0m\u001b[0;34m\u001b[0m\u001b[0m\n\u001b[0m\u001b[1;32m      3\u001b[0m \u001b[0menergy\u001b[0m \u001b[0;34m=\u001b[0m \u001b[0mget_energy\u001b[0m\u001b[0;34m(\u001b[0m\u001b[0moutput\u001b[0m\u001b[0;34m)\u001b[0m\u001b[0;34m\u001b[0m\u001b[0;34m\u001b[0m\u001b[0m\n\u001b[1;32m      4\u001b[0m \u001b[0menergy\u001b[0m\u001b[0;34m\u001b[0m\u001b[0;34m\u001b[0m\u001b[0m\n",
      "\u001b[0;32m/tmp/ipykernel_18530/3394237178.py\u001b[0m in \u001b[0;36mrun_xTB\u001b[0;34m(mol, command, file_name, conf_search)\u001b[0m\n\u001b[1;32m      8\u001b[0m   \u001b[0mwrite_xyz\u001b[0m\u001b[0;34m(\u001b[0m\u001b[0mmol\u001b[0m\u001b[0;34m)\u001b[0m\u001b[0;34m\u001b[0m\u001b[0;34m\u001b[0m\u001b[0m\n\u001b[1;32m      9\u001b[0m   \u001b[0mcommand\u001b[0m \u001b[0;34m=\u001b[0m \u001b[0;34m'xtb '\u001b[0m \u001b[0;34m+\u001b[0m \u001b[0mfile_name\u001b[0m \u001b[0;34m+\u001b[0m \u001b[0;34m' '\u001b[0m \u001b[0;34m+\u001b[0m \u001b[0mcommand\u001b[0m\u001b[0;34m\u001b[0m\u001b[0;34m\u001b[0m\u001b[0m\n\u001b[0;32m---> 10\u001b[0;31m   \u001b[0moutput\u001b[0m \u001b[0;34m=\u001b[0m \u001b[0mshell\u001b[0m\u001b[0;34m(\u001b[0m\u001b[0mcommand\u001b[0m\u001b[0;34m)\u001b[0m\u001b[0;34m\u001b[0m\u001b[0;34m\u001b[0m\u001b[0m\n\u001b[0m\u001b[1;32m     11\u001b[0m   \u001b[0moutput\u001b[0m \u001b[0;34m=\u001b[0m \u001b[0mstr\u001b[0m\u001b[0;34m(\u001b[0m\u001b[0moutput\u001b[0m\u001b[0;34m)\u001b[0m\u001b[0;34m.\u001b[0m\u001b[0mreplace\u001b[0m\u001b[0;34m(\u001b[0m\u001b[0;34m'\\\\n'\u001b[0m\u001b[0;34m,\u001b[0m\u001b[0;34m'\\n'\u001b[0m\u001b[0;34m)\u001b[0m\u001b[0;34m\u001b[0m\u001b[0;34m\u001b[0m\u001b[0m\n\u001b[1;32m     12\u001b[0m \u001b[0;34m\u001b[0m\u001b[0m\n",
      "\u001b[0;32m/tmp/ipykernel_18530/3130976186.py\u001b[0m in \u001b[0;36mshell\u001b[0;34m(cmd, shell)\u001b[0m\n\u001b[1;32m      5\u001b[0m   \u001b[0;32melse\u001b[0m\u001b[0;34m:\u001b[0m\u001b[0;34m\u001b[0m\u001b[0;34m\u001b[0m\u001b[0m\n\u001b[1;32m      6\u001b[0m     \u001b[0mcmd\u001b[0m \u001b[0;34m=\u001b[0m \u001b[0mcmd\u001b[0m\u001b[0;34m.\u001b[0m\u001b[0msplit\u001b[0m\u001b[0;34m(\u001b[0m\u001b[0;34m)\u001b[0m\u001b[0;34m\u001b[0m\u001b[0;34m\u001b[0m\u001b[0m\n\u001b[0;32m----> 7\u001b[0;31m     \u001b[0mp\u001b[0m \u001b[0;34m=\u001b[0m \u001b[0msubprocess\u001b[0m\u001b[0;34m.\u001b[0m\u001b[0mPopen\u001b[0m\u001b[0;34m(\u001b[0m\u001b[0mcmd\u001b[0m\u001b[0;34m,\u001b[0m \u001b[0mstdin\u001b[0m\u001b[0;34m=\u001b[0m\u001b[0msubprocess\u001b[0m\u001b[0;34m.\u001b[0m\u001b[0mPIPE\u001b[0m\u001b[0;34m,\u001b[0m \u001b[0mstdout\u001b[0m\u001b[0;34m=\u001b[0m\u001b[0msubprocess\u001b[0m\u001b[0;34m.\u001b[0m\u001b[0mPIPE\u001b[0m\u001b[0;34m,\u001b[0m \u001b[0mstderr\u001b[0m\u001b[0;34m=\u001b[0m\u001b[0msubprocess\u001b[0m\u001b[0;34m.\u001b[0m\u001b[0mPIPE\u001b[0m\u001b[0;34m)\u001b[0m\u001b[0;34m\u001b[0m\u001b[0;34m\u001b[0m\u001b[0m\n\u001b[0m\u001b[1;32m      8\u001b[0m \u001b[0;34m\u001b[0m\u001b[0m\n\u001b[1;32m      9\u001b[0m   \u001b[0moutput\u001b[0m\u001b[0;34m,\u001b[0m \u001b[0merr\u001b[0m \u001b[0;34m=\u001b[0m \u001b[0mp\u001b[0m\u001b[0;34m.\u001b[0m\u001b[0mcommunicate\u001b[0m\u001b[0;34m(\u001b[0m\u001b[0;34m)\u001b[0m\u001b[0;34m\u001b[0m\u001b[0;34m\u001b[0m\u001b[0m\n",
      "\u001b[0;32m~/.pyenv/versions/3.8.12/lib/python3.8/subprocess.py\u001b[0m in \u001b[0;36m__init__\u001b[0;34m(self, args, bufsize, executable, stdin, stdout, stderr, preexec_fn, close_fds, shell, cwd, env, universal_newlines, startupinfo, creationflags, restore_signals, start_new_session, pass_fds, encoding, errors, text)\u001b[0m\n\u001b[1;32m    856\u001b[0m                             encoding=encoding, errors=errors)\n\u001b[1;32m    857\u001b[0m \u001b[0;34m\u001b[0m\u001b[0m\n\u001b[0;32m--> 858\u001b[0;31m             self._execute_child(args, executable, preexec_fn, close_fds,\n\u001b[0m\u001b[1;32m    859\u001b[0m                                 \u001b[0mpass_fds\u001b[0m\u001b[0;34m,\u001b[0m \u001b[0mcwd\u001b[0m\u001b[0;34m,\u001b[0m \u001b[0menv\u001b[0m\u001b[0;34m,\u001b[0m\u001b[0;34m\u001b[0m\u001b[0;34m\u001b[0m\u001b[0m\n\u001b[1;32m    860\u001b[0m                                 \u001b[0mstartupinfo\u001b[0m\u001b[0;34m,\u001b[0m \u001b[0mcreationflags\u001b[0m\u001b[0;34m,\u001b[0m \u001b[0mshell\u001b[0m\u001b[0;34m,\u001b[0m\u001b[0;34m\u001b[0m\u001b[0;34m\u001b[0m\u001b[0m\n",
      "\u001b[0;32m~/.pyenv/versions/3.8.12/lib/python3.8/subprocess.py\u001b[0m in \u001b[0;36m_execute_child\u001b[0;34m(self, args, executable, preexec_fn, close_fds, pass_fds, cwd, env, startupinfo, creationflags, shell, p2cread, p2cwrite, c2pread, c2pwrite, errread, errwrite, restore_signals, start_new_session)\u001b[0m\n\u001b[1;32m   1702\u001b[0m                     \u001b[0;32mif\u001b[0m \u001b[0merrno_num\u001b[0m \u001b[0;34m!=\u001b[0m \u001b[0;36m0\u001b[0m\u001b[0;34m:\u001b[0m\u001b[0;34m\u001b[0m\u001b[0;34m\u001b[0m\u001b[0m\n\u001b[1;32m   1703\u001b[0m                         \u001b[0merr_msg\u001b[0m \u001b[0;34m=\u001b[0m \u001b[0mos\u001b[0m\u001b[0;34m.\u001b[0m\u001b[0mstrerror\u001b[0m\u001b[0;34m(\u001b[0m\u001b[0merrno_num\u001b[0m\u001b[0;34m)\u001b[0m\u001b[0;34m\u001b[0m\u001b[0;34m\u001b[0m\u001b[0m\n\u001b[0;32m-> 1704\u001b[0;31m                     \u001b[0;32mraise\u001b[0m \u001b[0mchild_exception_type\u001b[0m\u001b[0;34m(\u001b[0m\u001b[0merrno_num\u001b[0m\u001b[0;34m,\u001b[0m \u001b[0merr_msg\u001b[0m\u001b[0;34m,\u001b[0m \u001b[0merr_filename\u001b[0m\u001b[0;34m)\u001b[0m\u001b[0;34m\u001b[0m\u001b[0;34m\u001b[0m\u001b[0m\n\u001b[0m\u001b[1;32m   1705\u001b[0m                 \u001b[0;32mraise\u001b[0m \u001b[0mchild_exception_type\u001b[0m\u001b[0;34m(\u001b[0m\u001b[0merr_msg\u001b[0m\u001b[0;34m)\u001b[0m\u001b[0;34m\u001b[0m\u001b[0;34m\u001b[0m\u001b[0m\n\u001b[1;32m   1706\u001b[0m \u001b[0;34m\u001b[0m\u001b[0m\n",
      "\u001b[0;31mFileNotFoundError\u001b[0m: [Errno 2] No such file or directory: 'xtb'"
     ]
    }
   ],
   "source": [
    "mol = Chem.MolFromSmiles('[NH3+]CC(=O)[O-]')\n",
    "output = run_xTB(mol, '--opt')\n",
    "energy = get_energy(output)\n",
    "energy"
   ]
  },
  {
   "cell_type": "markdown",
   "metadata": {
    "id": "I9NRfA8m23tp"
   },
   "source": [
    "#Reaction energies: pKa prediction\n",
    "\n",
    "$HA^+\\rightarrow A + H^+$  and $pK_a = \\frac{\\Delta G^\\circ}{RT\\ln(10)}$ but $\\Delta G^\\circ(H^+)=?$\n",
    "\n",
    "Instead: \n",
    "\n",
    "$HA^+ + A_{\\mathrm{ref}}\\rightarrow A + AH^+_{\\mathrm{ref}}$  and $\\Delta pK_a = \\frac{\\Delta G^\\circ}{RT\\ln(10)}$\n",
    "\n",
    "where $\\Delta G^\\circ \\approx \\Delta E$\n",
    "\n",
    "[Some pKa values](https://www.cambridgemedchemconsulting.com/resources/tuning_bases.html).  [Paper](https://dx.doi.org/10.1021/acs.jpca.6b10990)."
   ]
  },
  {
   "cell_type": "code",
   "execution_count": 29,
   "metadata": {
    "id": "i3EHnhiqBaA0"
   },
   "outputs": [
    {
     "data": {
      "image/png": "[encoded data removed]",
      "text/plain": [
       "<IPython.core.display.Image object>"
      ]
     },
     "execution_count": 29,
     "metadata": {},
     "output_type": "execute_result"
    }
   ],
   "source": [
    "HAref = Chem.MolFromSmiles('CC[NH3+]')\n",
    "Aref = Chem.MolFromSmiles('CCN')\n",
    "\n",
    "Draw.MolsToGridImage([HAref, Aref])"
   ]
  },
  {
   "cell_type": "code",
   "execution_count": 30,
   "metadata": {
    "id": "Gs4R4ivjBzcJ"
   },
   "outputs": [
    {
     "ename": "FileNotFoundError",
     "evalue": "[Errno 2] No such file or directory: 'xtb'",
     "output_type": "error",
     "traceback": [
      "\u001b[0;31m---------------------------------------------------------------------------\u001b[0m",
      "\u001b[0;31mFileNotFoundError\u001b[0m                         Traceback (most recent call last)",
      "\u001b[0;32m/tmp/ipykernel_18530/1697388000.py\u001b[0m in \u001b[0;36m<module>\u001b[0;34m\u001b[0m\n\u001b[0;32m----> 1\u001b[0;31m \u001b[0moutput\u001b[0m \u001b[0;34m=\u001b[0m \u001b[0mrun_xTB\u001b[0m\u001b[0;34m(\u001b[0m\u001b[0mHAref\u001b[0m\u001b[0;34m,\u001b[0m \u001b[0;34m'--opt --gbsa water --chrg +1'\u001b[0m\u001b[0;34m,\u001b[0m \u001b[0mconf_search\u001b[0m\u001b[0;34m=\u001b[0m\u001b[0;32mTrue\u001b[0m\u001b[0;34m)\u001b[0m\u001b[0;34m\u001b[0m\u001b[0;34m\u001b[0m\u001b[0m\n\u001b[0m\u001b[1;32m      2\u001b[0m \u001b[0mHAref_E\u001b[0m \u001b[0;34m=\u001b[0m \u001b[0mget_energy\u001b[0m\u001b[0;34m(\u001b[0m\u001b[0moutput\u001b[0m\u001b[0;34m)\u001b[0m\u001b[0;34m\u001b[0m\u001b[0;34m\u001b[0m\u001b[0m\n\u001b[1;32m      3\u001b[0m \u001b[0;34m\u001b[0m\u001b[0m\n\u001b[1;32m      4\u001b[0m \u001b[0moutput\u001b[0m \u001b[0;34m=\u001b[0m \u001b[0mrun_xTB\u001b[0m\u001b[0;34m(\u001b[0m\u001b[0mAref\u001b[0m\u001b[0;34m,\u001b[0m \u001b[0;34m'--opt --gbsa water'\u001b[0m\u001b[0;34m,\u001b[0m \u001b[0mconf_search\u001b[0m\u001b[0;34m=\u001b[0m\u001b[0;32mTrue\u001b[0m\u001b[0;34m)\u001b[0m\u001b[0;34m\u001b[0m\u001b[0;34m\u001b[0m\u001b[0m\n\u001b[1;32m      5\u001b[0m \u001b[0mAref_E\u001b[0m \u001b[0;34m=\u001b[0m \u001b[0mget_energy\u001b[0m\u001b[0;34m(\u001b[0m\u001b[0moutput\u001b[0m\u001b[0;34m)\u001b[0m\u001b[0;34m\u001b[0m\u001b[0;34m\u001b[0m\u001b[0m\n",
      "\u001b[0;32m/tmp/ipykernel_18530/3394237178.py\u001b[0m in \u001b[0;36mrun_xTB\u001b[0;34m(mol, command, file_name, conf_search)\u001b[0m\n\u001b[1;32m      8\u001b[0m   \u001b[0mwrite_xyz\u001b[0m\u001b[0;34m(\u001b[0m\u001b[0mmol\u001b[0m\u001b[0;34m)\u001b[0m\u001b[0;34m\u001b[0m\u001b[0;34m\u001b[0m\u001b[0m\n\u001b[1;32m      9\u001b[0m   \u001b[0mcommand\u001b[0m \u001b[0;34m=\u001b[0m \u001b[0;34m'xtb '\u001b[0m \u001b[0;34m+\u001b[0m \u001b[0mfile_name\u001b[0m \u001b[0;34m+\u001b[0m \u001b[0;34m' '\u001b[0m \u001b[0;34m+\u001b[0m \u001b[0mcommand\u001b[0m\u001b[0;34m\u001b[0m\u001b[0;34m\u001b[0m\u001b[0m\n\u001b[0;32m---> 10\u001b[0;31m   \u001b[0moutput\u001b[0m \u001b[0;34m=\u001b[0m \u001b[0mshell\u001b[0m\u001b[0;34m(\u001b[0m\u001b[0mcommand\u001b[0m\u001b[0;34m)\u001b[0m\u001b[0;34m\u001b[0m\u001b[0;34m\u001b[0m\u001b[0m\n\u001b[0m\u001b[1;32m     11\u001b[0m   \u001b[0moutput\u001b[0m \u001b[0;34m=\u001b[0m \u001b[0mstr\u001b[0m\u001b[0;34m(\u001b[0m\u001b[0moutput\u001b[0m\u001b[0;34m)\u001b[0m\u001b[0;34m.\u001b[0m\u001b[0mreplace\u001b[0m\u001b[0;34m(\u001b[0m\u001b[0;34m'\\\\n'\u001b[0m\u001b[0;34m,\u001b[0m\u001b[0;34m'\\n'\u001b[0m\u001b[0;34m)\u001b[0m\u001b[0;34m\u001b[0m\u001b[0;34m\u001b[0m\u001b[0m\n\u001b[1;32m     12\u001b[0m \u001b[0;34m\u001b[0m\u001b[0m\n",
      "\u001b[0;32m/tmp/ipykernel_18530/3130976186.py\u001b[0m in \u001b[0;36mshell\u001b[0;34m(cmd, shell)\u001b[0m\n\u001b[1;32m      5\u001b[0m   \u001b[0;32melse\u001b[0m\u001b[0;34m:\u001b[0m\u001b[0;34m\u001b[0m\u001b[0;34m\u001b[0m\u001b[0m\n\u001b[1;32m      6\u001b[0m     \u001b[0mcmd\u001b[0m \u001b[0;34m=\u001b[0m \u001b[0mcmd\u001b[0m\u001b[0;34m.\u001b[0m\u001b[0msplit\u001b[0m\u001b[0;34m(\u001b[0m\u001b[0;34m)\u001b[0m\u001b[0;34m\u001b[0m\u001b[0;34m\u001b[0m\u001b[0m\n\u001b[0;32m----> 7\u001b[0;31m     \u001b[0mp\u001b[0m \u001b[0;34m=\u001b[0m \u001b[0msubprocess\u001b[0m\u001b[0;34m.\u001b[0m\u001b[0mPopen\u001b[0m\u001b[0;34m(\u001b[0m\u001b[0mcmd\u001b[0m\u001b[0;34m,\u001b[0m \u001b[0mstdin\u001b[0m\u001b[0;34m=\u001b[0m\u001b[0msubprocess\u001b[0m\u001b[0;34m.\u001b[0m\u001b[0mPIPE\u001b[0m\u001b[0;34m,\u001b[0m \u001b[0mstdout\u001b[0m\u001b[0;34m=\u001b[0m\u001b[0msubprocess\u001b[0m\u001b[0;34m.\u001b[0m\u001b[0mPIPE\u001b[0m\u001b[0;34m,\u001b[0m \u001b[0mstderr\u001b[0m\u001b[0;34m=\u001b[0m\u001b[0msubprocess\u001b[0m\u001b[0;34m.\u001b[0m\u001b[0mPIPE\u001b[0m\u001b[0;34m)\u001b[0m\u001b[0;34m\u001b[0m\u001b[0;34m\u001b[0m\u001b[0m\n\u001b[0m\u001b[1;32m      8\u001b[0m \u001b[0;34m\u001b[0m\u001b[0m\n\u001b[1;32m      9\u001b[0m   \u001b[0moutput\u001b[0m\u001b[0;34m,\u001b[0m \u001b[0merr\u001b[0m \u001b[0;34m=\u001b[0m \u001b[0mp\u001b[0m\u001b[0;34m.\u001b[0m\u001b[0mcommunicate\u001b[0m\u001b[0;34m(\u001b[0m\u001b[0;34m)\u001b[0m\u001b[0;34m\u001b[0m\u001b[0;34m\u001b[0m\u001b[0m\n",
      "\u001b[0;32m~/.pyenv/versions/3.8.12/lib/python3.8/subprocess.py\u001b[0m in \u001b[0;36m__init__\u001b[0;34m(self, args, bufsize, executable, stdin, stdout, stderr, preexec_fn, close_fds, shell, cwd, env, universal_newlines, startupinfo, creationflags, restore_signals, start_new_session, pass_fds, encoding, errors, text)\u001b[0m\n\u001b[1;32m    856\u001b[0m                             encoding=encoding, errors=errors)\n\u001b[1;32m    857\u001b[0m \u001b[0;34m\u001b[0m\u001b[0m\n\u001b[0;32m--> 858\u001b[0;31m             self._execute_child(args, executable, preexec_fn, close_fds,\n\u001b[0m\u001b[1;32m    859\u001b[0m                                 \u001b[0mpass_fds\u001b[0m\u001b[0;34m,\u001b[0m \u001b[0mcwd\u001b[0m\u001b[0;34m,\u001b[0m \u001b[0menv\u001b[0m\u001b[0;34m,\u001b[0m\u001b[0;34m\u001b[0m\u001b[0;34m\u001b[0m\u001b[0m\n\u001b[1;32m    860\u001b[0m                                 \u001b[0mstartupinfo\u001b[0m\u001b[0;34m,\u001b[0m \u001b[0mcreationflags\u001b[0m\u001b[0;34m,\u001b[0m \u001b[0mshell\u001b[0m\u001b[0;34m,\u001b[0m\u001b[0;34m\u001b[0m\u001b[0;34m\u001b[0m\u001b[0m\n",
      "\u001b[0;32m~/.pyenv/versions/3.8.12/lib/python3.8/subprocess.py\u001b[0m in \u001b[0;36m_execute_child\u001b[0;34m(self, args, executable, preexec_fn, close_fds, pass_fds, cwd, env, startupinfo, creationflags, shell, p2cread, p2cwrite, c2pread, c2pwrite, errread, errwrite, restore_signals, start_new_session)\u001b[0m\n\u001b[1;32m   1702\u001b[0m                     \u001b[0;32mif\u001b[0m \u001b[0merrno_num\u001b[0m \u001b[0;34m!=\u001b[0m \u001b[0;36m0\u001b[0m\u001b[0;34m:\u001b[0m\u001b[0;34m\u001b[0m\u001b[0;34m\u001b[0m\u001b[0m\n\u001b[1;32m   1703\u001b[0m                         \u001b[0merr_msg\u001b[0m \u001b[0;34m=\u001b[0m \u001b[0mos\u001b[0m\u001b[0;34m.\u001b[0m\u001b[0mstrerror\u001b[0m\u001b[0;34m(\u001b[0m\u001b[0merrno_num\u001b[0m\u001b[0;34m)\u001b[0m\u001b[0;34m\u001b[0m\u001b[0;34m\u001b[0m\u001b[0m\n\u001b[0;32m-> 1704\u001b[0;31m                     \u001b[0;32mraise\u001b[0m \u001b[0mchild_exception_type\u001b[0m\u001b[0;34m(\u001b[0m\u001b[0merrno_num\u001b[0m\u001b[0;34m,\u001b[0m \u001b[0merr_msg\u001b[0m\u001b[0;34m,\u001b[0m \u001b[0merr_filename\u001b[0m\u001b[0;34m)\u001b[0m\u001b[0;34m\u001b[0m\u001b[0;34m\u001b[0m\u001b[0m\n\u001b[0m\u001b[1;32m   1705\u001b[0m                 \u001b[0;32mraise\u001b[0m \u001b[0mchild_exception_type\u001b[0m\u001b[0;34m(\u001b[0m\u001b[0merr_msg\u001b[0m\u001b[0;34m)\u001b[0m\u001b[0;34m\u001b[0m\u001b[0;34m\u001b[0m\u001b[0m\n\u001b[1;32m   1706\u001b[0m \u001b[0;34m\u001b[0m\u001b[0m\n",
      "\u001b[0;31mFileNotFoundError\u001b[0m: [Errno 2] No such file or directory: 'xtb'"
     ]
    }
   ],
   "source": [
    "output = run_xTB(HAref, '--opt --gbsa water --chrg +1', conf_search=True)\n",
    "HAref_E = get_energy(output)\n",
    "\n",
    "output = run_xTB(Aref, '--opt --gbsa water', conf_search=True)\n",
    "Aref_E = get_energy(output)\n",
    "\n",
    "DeltaE = (Aref_E - HAref_E)*627.51\n",
    "DeltaE, Aref_E, HAref_E"
   ]
  },
  {
   "cell_type": "code",
   "execution_count": 31,
   "metadata": {
    "id": "F2sWFH5TGjK1"
   },
   "outputs": [
    {
     "ename": "FileNotFoundError",
     "evalue": "[Errno 2] No such file or directory: 'xtb'",
     "output_type": "error",
     "traceback": [
      "\u001b[0;31m---------------------------------------------------------------------------\u001b[0m",
      "\u001b[0;31mFileNotFoundError\u001b[0m                         Traceback (most recent call last)",
      "\u001b[0;32m/tmp/ipykernel_18530/3849249396.py\u001b[0m in \u001b[0;36m<module>\u001b[0;34m\u001b[0m\n\u001b[1;32m      7\u001b[0m   \u001b[0mHA\u001b[0m \u001b[0;34m=\u001b[0m \u001b[0mrun_rxn\u001b[0m\u001b[0;34m(\u001b[0m\u001b[0mA\u001b[0m\u001b[0;34m,\u001b[0m \u001b[0mrxn\u001b[0m\u001b[0;34m)\u001b[0m\u001b[0;34m\u001b[0m\u001b[0;34m\u001b[0m\u001b[0m\n\u001b[1;32m      8\u001b[0m \u001b[0;34m\u001b[0m\u001b[0m\n\u001b[0;32m----> 9\u001b[0;31m   \u001b[0moutput\u001b[0m \u001b[0;34m=\u001b[0m \u001b[0mrun_xTB\u001b[0m\u001b[0;34m(\u001b[0m\u001b[0mHA\u001b[0m\u001b[0;34m,\u001b[0m \u001b[0;34m'--opt --gbsa water --chrg +1'\u001b[0m\u001b[0;34m,\u001b[0m \u001b[0mconf_search\u001b[0m\u001b[0;34m=\u001b[0m\u001b[0;32mTrue\u001b[0m\u001b[0;34m)\u001b[0m\u001b[0;34m\u001b[0m\u001b[0;34m\u001b[0m\u001b[0m\n\u001b[0m\u001b[1;32m     10\u001b[0m   \u001b[0mHA_E\u001b[0m \u001b[0;34m=\u001b[0m \u001b[0mget_energy\u001b[0m\u001b[0;34m(\u001b[0m\u001b[0moutput\u001b[0m\u001b[0;34m)\u001b[0m\u001b[0;34m\u001b[0m\u001b[0;34m\u001b[0m\u001b[0m\n\u001b[1;32m     11\u001b[0m \u001b[0;34m\u001b[0m\u001b[0m\n",
      "\u001b[0;32m/tmp/ipykernel_18530/3394237178.py\u001b[0m in \u001b[0;36mrun_xTB\u001b[0;34m(mol, command, file_name, conf_search)\u001b[0m\n\u001b[1;32m      8\u001b[0m   \u001b[0mwrite_xyz\u001b[0m\u001b[0;34m(\u001b[0m\u001b[0mmol\u001b[0m\u001b[0;34m)\u001b[0m\u001b[0;34m\u001b[0m\u001b[0;34m\u001b[0m\u001b[0m\n\u001b[1;32m      9\u001b[0m   \u001b[0mcommand\u001b[0m \u001b[0;34m=\u001b[0m \u001b[0;34m'xtb '\u001b[0m \u001b[0;34m+\u001b[0m \u001b[0mfile_name\u001b[0m \u001b[0;34m+\u001b[0m \u001b[0;34m' '\u001b[0m \u001b[0;34m+\u001b[0m \u001b[0mcommand\u001b[0m\u001b[0;34m\u001b[0m\u001b[0;34m\u001b[0m\u001b[0m\n\u001b[0;32m---> 10\u001b[0;31m   \u001b[0moutput\u001b[0m \u001b[0;34m=\u001b[0m \u001b[0mshell\u001b[0m\u001b[0;34m(\u001b[0m\u001b[0mcommand\u001b[0m\u001b[0;34m)\u001b[0m\u001b[0;34m\u001b[0m\u001b[0;34m\u001b[0m\u001b[0m\n\u001b[0m\u001b[1;32m     11\u001b[0m   \u001b[0moutput\u001b[0m \u001b[0;34m=\u001b[0m \u001b[0mstr\u001b[0m\u001b[0;34m(\u001b[0m\u001b[0moutput\u001b[0m\u001b[0;34m)\u001b[0m\u001b[0;34m.\u001b[0m\u001b[0mreplace\u001b[0m\u001b[0;34m(\u001b[0m\u001b[0;34m'\\\\n'\u001b[0m\u001b[0;34m,\u001b[0m\u001b[0;34m'\\n'\u001b[0m\u001b[0;34m)\u001b[0m\u001b[0;34m\u001b[0m\u001b[0;34m\u001b[0m\u001b[0m\n\u001b[1;32m     12\u001b[0m \u001b[0;34m\u001b[0m\u001b[0m\n",
      "\u001b[0;32m/tmp/ipykernel_18530/3130976186.py\u001b[0m in \u001b[0;36mshell\u001b[0;34m(cmd, shell)\u001b[0m\n\u001b[1;32m      5\u001b[0m   \u001b[0;32melse\u001b[0m\u001b[0;34m:\u001b[0m\u001b[0;34m\u001b[0m\u001b[0;34m\u001b[0m\u001b[0m\n\u001b[1;32m      6\u001b[0m     \u001b[0mcmd\u001b[0m \u001b[0;34m=\u001b[0m \u001b[0mcmd\u001b[0m\u001b[0;34m.\u001b[0m\u001b[0msplit\u001b[0m\u001b[0;34m(\u001b[0m\u001b[0;34m)\u001b[0m\u001b[0;34m\u001b[0m\u001b[0;34m\u001b[0m\u001b[0m\n\u001b[0;32m----> 7\u001b[0;31m     \u001b[0mp\u001b[0m \u001b[0;34m=\u001b[0m \u001b[0msubprocess\u001b[0m\u001b[0;34m.\u001b[0m\u001b[0mPopen\u001b[0m\u001b[0;34m(\u001b[0m\u001b[0mcmd\u001b[0m\u001b[0;34m,\u001b[0m \u001b[0mstdin\u001b[0m\u001b[0;34m=\u001b[0m\u001b[0msubprocess\u001b[0m\u001b[0;34m.\u001b[0m\u001b[0mPIPE\u001b[0m\u001b[0;34m,\u001b[0m \u001b[0mstdout\u001b[0m\u001b[0;34m=\u001b[0m\u001b[0msubprocess\u001b[0m\u001b[0;34m.\u001b[0m\u001b[0mPIPE\u001b[0m\u001b[0;34m,\u001b[0m \u001b[0mstderr\u001b[0m\u001b[0;34m=\u001b[0m\u001b[0msubprocess\u001b[0m\u001b[0;34m.\u001b[0m\u001b[0mPIPE\u001b[0m\u001b[0;34m)\u001b[0m\u001b[0;34m\u001b[0m\u001b[0;34m\u001b[0m\u001b[0m\n\u001b[0m\u001b[1;32m      8\u001b[0m \u001b[0;34m\u001b[0m\u001b[0m\n\u001b[1;32m      9\u001b[0m   \u001b[0moutput\u001b[0m\u001b[0;34m,\u001b[0m \u001b[0merr\u001b[0m \u001b[0;34m=\u001b[0m \u001b[0mp\u001b[0m\u001b[0;34m.\u001b[0m\u001b[0mcommunicate\u001b[0m\u001b[0;34m(\u001b[0m\u001b[0;34m)\u001b[0m\u001b[0;34m\u001b[0m\u001b[0;34m\u001b[0m\u001b[0m\n",
      "\u001b[0;32m~/.pyenv/versions/3.8.12/lib/python3.8/subprocess.py\u001b[0m in \u001b[0;36m__init__\u001b[0;34m(self, args, bufsize, executable, stdin, stdout, stderr, preexec_fn, close_fds, shell, cwd, env, universal_newlines, startupinfo, creationflags, restore_signals, start_new_session, pass_fds, encoding, errors, text)\u001b[0m\n\u001b[1;32m    856\u001b[0m                             encoding=encoding, errors=errors)\n\u001b[1;32m    857\u001b[0m \u001b[0;34m\u001b[0m\u001b[0m\n\u001b[0;32m--> 858\u001b[0;31m             self._execute_child(args, executable, preexec_fn, close_fds,\n\u001b[0m\u001b[1;32m    859\u001b[0m                                 \u001b[0mpass_fds\u001b[0m\u001b[0;34m,\u001b[0m \u001b[0mcwd\u001b[0m\u001b[0;34m,\u001b[0m \u001b[0menv\u001b[0m\u001b[0;34m,\u001b[0m\u001b[0;34m\u001b[0m\u001b[0;34m\u001b[0m\u001b[0m\n\u001b[1;32m    860\u001b[0m                                 \u001b[0mstartupinfo\u001b[0m\u001b[0;34m,\u001b[0m \u001b[0mcreationflags\u001b[0m\u001b[0;34m,\u001b[0m \u001b[0mshell\u001b[0m\u001b[0;34m,\u001b[0m\u001b[0;34m\u001b[0m\u001b[0;34m\u001b[0m\u001b[0m\n",
      "\u001b[0;32m~/.pyenv/versions/3.8.12/lib/python3.8/subprocess.py\u001b[0m in \u001b[0;36m_execute_child\u001b[0;34m(self, args, executable, preexec_fn, close_fds, pass_fds, cwd, env, startupinfo, creationflags, shell, p2cread, p2cwrite, c2pread, c2pwrite, errread, errwrite, restore_signals, start_new_session)\u001b[0m\n\u001b[1;32m   1702\u001b[0m                     \u001b[0;32mif\u001b[0m \u001b[0merrno_num\u001b[0m \u001b[0;34m!=\u001b[0m \u001b[0;36m0\u001b[0m\u001b[0;34m:\u001b[0m\u001b[0;34m\u001b[0m\u001b[0;34m\u001b[0m\u001b[0m\n\u001b[1;32m   1703\u001b[0m                         \u001b[0merr_msg\u001b[0m \u001b[0;34m=\u001b[0m \u001b[0mos\u001b[0m\u001b[0;34m.\u001b[0m\u001b[0mstrerror\u001b[0m\u001b[0;34m(\u001b[0m\u001b[0merrno_num\u001b[0m\u001b[0;34m)\u001b[0m\u001b[0;34m\u001b[0m\u001b[0;34m\u001b[0m\u001b[0m\n\u001b[0;32m-> 1704\u001b[0;31m                     \u001b[0;32mraise\u001b[0m \u001b[0mchild_exception_type\u001b[0m\u001b[0;34m(\u001b[0m\u001b[0merrno_num\u001b[0m\u001b[0;34m,\u001b[0m \u001b[0merr_msg\u001b[0m\u001b[0;34m,\u001b[0m \u001b[0merr_filename\u001b[0m\u001b[0;34m)\u001b[0m\u001b[0;34m\u001b[0m\u001b[0;34m\u001b[0m\u001b[0m\n\u001b[0m\u001b[1;32m   1705\u001b[0m                 \u001b[0;32mraise\u001b[0m \u001b[0mchild_exception_type\u001b[0m\u001b[0;34m(\u001b[0m\u001b[0merr_msg\u001b[0m\u001b[0;34m)\u001b[0m\u001b[0;34m\u001b[0m\u001b[0;34m\u001b[0m\u001b[0m\n\u001b[1;32m   1706\u001b[0m \u001b[0;34m\u001b[0m\u001b[0m\n",
      "\u001b[0;31mFileNotFoundError\u001b[0m: [Errno 2] No such file or directory: 'xtb'"
     ]
    }
   ],
   "source": [
    "amine_smiles = ['FCCN', 'FC(F)CN', 'FC(F)(F)CN']\n",
    "amines = [Chem.MolFromSmiles(smiles) for smiles in amine_smiles]\n",
    "\n",
    "rxn = '[N:1]>>[NH3+:1]'\n",
    "pKas = []\n",
    "for A in amines:\n",
    "  HA = run_rxn(A, rxn)\n",
    "  \n",
    "  output = run_xTB(HA, '--opt --gbsa water --chrg +1', conf_search=True)\n",
    "  HA_E = get_energy(output)  \n",
    "\n",
    "  output = run_xTB(A, '--opt --gbsa water', conf_search=True)\n",
    "  A_E = get_energy(output)\n",
    "\n",
    "  Delta_E = (HAref_E + A_E - (Aref_E + HA_E))*627.51\n",
    "  Delta_pKa = Delta_E/1.36\n",
    "  pKa = 10.7 + Delta_pKa\n",
    "  pKas.append(pKa)\n",
    "\n",
    "pKas\n"
   ]
  },
  {
   "cell_type": "code",
   "execution_count": 32,
   "metadata": {
    "id": "XYzpPpw6IRAS"
   },
   "outputs": [
    {
     "data": {
      "image/png": "[encoded data removed]",
      "text/plain": [
       "<IPython.core.display.Image object>"
      ]
     },
     "execution_count": 32,
     "metadata": {},
     "output_type": "execute_result"
    }
   ],
   "source": [
    "Draw.MolsToGridImage(amines, legends=[str(round(pKa,1)) for pKa in pKas])"
   ]
  },
  {
   "cell_type": "markdown",
   "metadata": {
    "id": "Ti4iCmyh2_HI"
   },
   "source": [
    "#Barrier estimation\n",
    "\n",
    "xTB has a quick and dirty [reaction path estimator](https://xtb-docs.readthedocs.io/en/latest/path.html) ([paper1](https://doi.org/10.1021/acs.jctc.9b00143), [paper2](https://doi.org/10.7717/peerj-pchem.15)).\n",
    "\n",
    "The following energy expression is minimized\n",
    "\n",
    "$E=E+k_{push} e^{-\\alpha \\Delta_r^{2}}+k_{pull} e^{-\\alpha \\Delta_p^{2}}$\n",
    "\n",
    "where $k_{push}>0$ and $k_{pull}<0$ and $\\Delta_r$ and $\\Delta_p$ are the RMSDs between the current structure and the reactant and product, respectively.\n",
    "\n",
    "The reaction path consists of points along the energy minisation path, with the biasing potential removed.\n",
    "\n",
    "Note that the atom order must be the same in the reactants and products."
   ]
  },
  {
   "cell_type": "markdown",
   "metadata": {
    "id": "BzJ6DC1l3MwD"
   },
   "source": [
    "## Reaction smarts"
   ]
  },
  {
   "cell_type": "code",
   "execution_count": 33,
   "metadata": {
    "id": "DRLCETWHKJlF"
   },
   "outputs": [
    {
     "data": {
      "application/3dmoljs_load.v0": "<div id=\"3dmolviewer_16533979543575964\"  style=\"position: relative; width: 400px; height: 400px\">\n        <p id=\"3dmolwarning_16533979543575964\" style=\"background-color:#ffcccc;color:black\">You appear to be running in JupyterLab (or JavaScript failed to load for some other reason).  You need to install the 3dmol extension: <br>\n        <tt>jupyter labextension install jupyterlab_3dmol</tt></p>\n        </div>\n<script>\n\nvar loadScriptAsync = function(uri){\n  return new Promise((resolve, reject) => {\n    var tag = document.createElement('script');\n    tag.src = uri;\n    tag.async = true;\n    tag.onload = () => {\n      resolve();\n    };\n  var firstScriptTag = document.getElementsByTagName('script')[0];\n  firstScriptTag.parentNode.insertBefore(tag, firstScriptTag);\n});\n};\n\nif(typeof $3Dmolpromise === 'undefined') {\n$3Dmolpromise = null;\n  $3Dmolpromise = loadScriptAsync('https://3dmol.org/build/3Dmol.js');\n}\n\nvar viewer_16533979543575964 = null;\nvar warn = document.getElementById(\"3dmolwarning_16533979543575964\");\nif(warn) {\n    warn.parentNode.removeChild(warn);\n}\n$3Dmolpromise.then(function() {\nviewer_16533979543575964 = $3Dmol.createViewer($(\"#3dmolviewer_16533979543575964\"),{backgroundColor:\"white\"});\nviewer_16533979543575964.zoomTo();\n\tviewer_16533979543575964.removeAllModels();\n\tviewer_16533979543575964.addModel(\"\\n     RDKit          3D\\n\\n 12 11  0  0  0  0  0  0  0  0999 V2000\\n   -1.6132    0.7003    0.1695 C   0  0  0  0  0  0  0  0  0  1  0  0\\n   -2.7882    0.5590    0.4962 O   0  0  0  0  0  0  0  0  0  2  0  0\\n   -0.7002   -0.4557   -0.1247 C   0  0  0  0  0  0  0  0  0  3  0  0\\n    0.4445   -0.4588    0.8715 C   0  0  0  0  0  0  0  0  0  4  0  0\\n    1.2899    0.6783    0.6749 O   0  0  0  0  0  0  0  0  0  5  0  0\\n    2.0944    0.3867   -0.5027 O   0  0  0  0  0  0  0  0  0  6  0  0\\n   -1.1720    1.7063    0.0612 H   0  0  0  0  0  0  0  0  0  7  0  0\\n   -1.2736   -1.3849   -0.0475 H   0  0  0  0  0  0  0  0  0  8  0  0\\n   -0.3473   -0.3446   -1.1544 H   0  0  0  0  0  0  0  0  0  9  0  0\\n    1.0402   -1.3742    0.7807 H   0  0  0  0  0  0  0  0  0 10  0  0\\n    0.0670   -0.4086    1.8984 H   0  0  0  0  0  0  0  0  0 11  0  0\\n    2.9585    0.3963   -0.0508 H   0  0  0  0  0  0  0  0  0 12  0  0\\n  1  2  2  0\\n  1  3  1  0\\n  3  4  1  0\\n  4  5  1  0\\n  5  6  1  0\\n  1  7  1  0\\n  3  8  1  0\\n  3  9  1  0\\n  4 10  1  0\\n  4 11  1  0\\n  6 12  1  0\\nM  END\\n\",\"sdf\");\n\tviewer_16533979543575964.setStyle({\"stick\": {}});\n\tviewer_16533979543575964.setBackgroundColor(\"0xeeeeee\");\n\tviewer_16533979543575964.zoomTo();\nviewer_16533979543575964.render();\n});\n</script>",
      "text/html": [
       "<div id=\"3dmolviewer_16533979543575964\"  style=\"position: relative; width: 400px; height: 400px\">\n",
       "        <p id=\"3dmolwarning_16533979543575964\" style=\"background-color:#ffcccc;color:black\">You appear to be running in JupyterLab (or JavaScript failed to load for some other reason).  You need to install the 3dmol extension: <br>\n",
       "        <tt>jupyter labextension install jupyterlab_3dmol</tt></p>\n",
       "        </div>\n",
       "<script>\n",
       "\n",
       "var loadScriptAsync = function(uri){\n",
       "  return new Promise((resolve, reject) => {\n",
       "    var tag = document.createElement('script');\n",
       "    tag.src = uri;\n",
       "    tag.async = true;\n",
       "    tag.onload = () => {\n",
       "      resolve();\n",
       "    };\n",
       "  var firstScriptTag = document.getElementsByTagName('script')[0];\n",
       "  firstScriptTag.parentNode.insertBefore(tag, firstScriptTag);\n",
       "});\n",
       "};\n",
       "\n",
       "if(typeof $3Dmolpromise === 'undefined') {\n",
       "$3Dmolpromise = null;\n",
       "  $3Dmolpromise = loadScriptAsync('https://3dmol.org/build/3Dmol.js');\n",
       "}\n",
       "\n",
       "var viewer_16533979543575964 = null;\n",
       "var warn = document.getElementById(\"3dmolwarning_16533979543575964\");\n",
       "if(warn) {\n",
       "    warn.parentNode.removeChild(warn);\n",
       "}\n",
       "$3Dmolpromise.then(function() {\n",
       "viewer_16533979543575964 = $3Dmol.createViewer($(\"#3dmolviewer_16533979543575964\"),{backgroundColor:\"white\"});\n",
       "viewer_16533979543575964.zoomTo();\n",
       "\tviewer_16533979543575964.removeAllModels();\n",
       "\tviewer_16533979543575964.addModel(\"\\n     RDKit          3D\\n\\n 12 11  0  0  0  0  0  0  0  0999 V2000\\n   -1.6132    0.7003    0.1695 C   0  0  0  0  0  0  0  0  0  1  0  0\\n   -2.7882    0.5590    0.4962 O   0  0  0  0  0  0  0  0  0  2  0  0\\n   -0.7002   -0.4557   -0.1247 C   0  0  0  0  0  0  0  0  0  3  0  0\\n    0.4445   -0.4588    0.8715 C   0  0  0  0  0  0  0  0  0  4  0  0\\n    1.2899    0.6783    0.6749 O   0  0  0  0  0  0  0  0  0  5  0  0\\n    2.0944    0.3867   -0.5027 O   0  0  0  0  0  0  0  0  0  6  0  0\\n   -1.1720    1.7063    0.0612 H   0  0  0  0  0  0  0  0  0  7  0  0\\n   -1.2736   -1.3849   -0.0475 H   0  0  0  0  0  0  0  0  0  8  0  0\\n   -0.3473   -0.3446   -1.1544 H   0  0  0  0  0  0  0  0  0  9  0  0\\n    1.0402   -1.3742    0.7807 H   0  0  0  0  0  0  0  0  0 10  0  0\\n    0.0670   -0.4086    1.8984 H   0  0  0  0  0  0  0  0  0 11  0  0\\n    2.9585    0.3963   -0.0508 H   0  0  0  0  0  0  0  0  0 12  0  0\\n  1  2  2  0\\n  1  3  1  0\\n  3  4  1  0\\n  4  5  1  0\\n  5  6  1  0\\n  1  7  1  0\\n  3  8  1  0\\n  3  9  1  0\\n  4 10  1  0\\n  4 11  1  0\\n  6 12  1  0\\nM  END\\n\",\"sdf\");\n",
       "\tviewer_16533979543575964.setStyle({\"stick\": {}});\n",
       "\tviewer_16533979543575964.setBackgroundColor(\"0xeeeeee\");\n",
       "\tviewer_16533979543575964.zoomTo();\n",
       "viewer_16533979543575964.render();\n",
       "});\n",
       "</script>"
      ]
     },
     "metadata": {},
     "output_type": "display_data"
    },
    {
     "data": {
      "image/png": "[encoded data removed]",
      "text/html": [],
      "text/plain": [
       "<rdkit.Chem.rdchem.Mol at 0x7f8543b0bc40>"
      ]
     },
     "execution_count": 33,
     "metadata": {},
     "output_type": "execute_result"
    }
   ],
   "source": [
    "reactant = Chem.MolFromSmiles('C(=O)CCOO')\n",
    "reactant = Chem.AddHs(reactant)\n",
    "AllChem.EmbedMolecule(reactant)\n",
    "AllChem.MMFFOptimizeMolecule(reactant)\n",
    "reactant = label_atoms(reactant)\n",
    "reactant"
   ]
  },
  {
   "cell_type": "code",
   "execution_count": 34,
   "metadata": {
    "id": "nhRrF4xbKYCj"
   },
   "outputs": [
    {
     "data": {
      "application/3dmoljs_load.v0": "<div id=\"3dmolviewer_16533979545691397\"  style=\"position: relative; width: 400px; height: 400px\">\n        <p id=\"3dmolwarning_16533979545691397\" style=\"background-color:#ffcccc;color:black\">You appear to be running in JupyterLab (or JavaScript failed to load for some other reason).  You need to install the 3dmol extension: <br>\n        <tt>jupyter labextension install jupyterlab_3dmol</tt></p>\n        </div>\n<script>\n\nvar loadScriptAsync = function(uri){\n  return new Promise((resolve, reject) => {\n    var tag = document.createElement('script');\n    tag.src = uri;\n    tag.async = true;\n    tag.onload = () => {\n      resolve();\n    };\n  var firstScriptTag = document.getElementsByTagName('script')[0];\n  firstScriptTag.parentNode.insertBefore(tag, firstScriptTag);\n});\n};\n\nif(typeof $3Dmolpromise === 'undefined') {\n$3Dmolpromise = null;\n  $3Dmolpromise = loadScriptAsync('https://3dmol.org/build/3Dmol.js');\n}\n\nvar viewer_16533979545691397 = null;\nvar warn = document.getElementById(\"3dmolwarning_16533979545691397\");\nif(warn) {\n    warn.parentNode.removeChild(warn);\n}\n$3Dmolpromise.then(function() {\nviewer_16533979545691397 = $3Dmol.createViewer($(\"#3dmolviewer_16533979545691397\"),{backgroundColor:\"white\"});\nviewer_16533979545691397.zoomTo();\n\tviewer_16533979545691397.removeAllModels();\n\tviewer_16533979545691397.addModel(\"\\n     RDKit          3D\\n\\n 12 12  0  0  0  0  0  0  0  0999 V2000\\n   -0.8564    0.3725   -0.0054 C   0  0  0  0  0  0  0  0  0  1  0  0\\n   -1.6449    0.0756    1.1362 O   0  0  0  0  0  0  0  0  0  2  0  0\\n    0.1412   -0.7341   -0.2212 C   0  0  0  0  0  0  0  0  0  3  0  0\\n    1.3021   -0.2270    0.5796 C   0  0  0  0  0  0  0  0  0  4  0  0\\n    1.3158    1.1653    0.2759 O   0  0  0  0  0  0  0  0  0  5  0  0\\n   -0.1027    1.5630    0.2287 O   0  0  0  0  0  0  0  0  0  6  0  0\\n   -1.5144    0.5055   -0.8696 H   0  0  0  0  0  0  0  0  0  7  0  0\\n   -0.1987   -1.7248    0.0907 H   0  0  0  0  0  0  0  0  0  8  0  0\\n    0.4237   -0.7672   -1.2799 H   0  0  0  0  0  0  0  0  0  9  0  0\\n    2.2492   -0.6817    0.2780 H   0  0  0  0  0  0  0  0  0 10  0  0\\n    1.1634   -0.3570    1.6579 H   0  0  0  0  0  0  0  0  0 11  0  0\\n   -2.2783    0.8099    1.2013 H   0  0  0  0  0  0  0  0  0 12  0  0\\n 12  2  1  0\\n  2  1  1  0\\n  1  6  1  0\\n  1  3  1  0\\n  1  7  1  0\\n  3  4  1  0\\n  3  8  1  0\\n  3  9  1  0\\n  4  5  1  0\\n  4 10  1  0\\n  4 11  1  0\\n  5  6  1  0\\nM  END\\n\",\"sdf\");\n\tviewer_16533979545691397.setStyle({\"stick\": {}});\n\tviewer_16533979545691397.setBackgroundColor(\"0xeeeeee\");\n\tviewer_16533979545691397.zoomTo();\nviewer_16533979545691397.render();\n});\n</script>",
      "text/html": [
       "<div id=\"3dmolviewer_16533979545691397\"  style=\"position: relative; width: 400px; height: 400px\">\n",
       "        <p id=\"3dmolwarning_16533979545691397\" style=\"background-color:#ffcccc;color:black\">You appear to be running in JupyterLab (or JavaScript failed to load for some other reason).  You need to install the 3dmol extension: <br>\n",
       "        <tt>jupyter labextension install jupyterlab_3dmol</tt></p>\n",
       "        </div>\n",
       "<script>\n",
       "\n",
       "var loadScriptAsync = function(uri){\n",
       "  return new Promise((resolve, reject) => {\n",
       "    var tag = document.createElement('script');\n",
       "    tag.src = uri;\n",
       "    tag.async = true;\n",
       "    tag.onload = () => {\n",
       "      resolve();\n",
       "    };\n",
       "  var firstScriptTag = document.getElementsByTagName('script')[0];\n",
       "  firstScriptTag.parentNode.insertBefore(tag, firstScriptTag);\n",
       "});\n",
       "};\n",
       "\n",
       "if(typeof $3Dmolpromise === 'undefined') {\n",
       "$3Dmolpromise = null;\n",
       "  $3Dmolpromise = loadScriptAsync('https://3dmol.org/build/3Dmol.js');\n",
       "}\n",
       "\n",
       "var viewer_16533979545691397 = null;\n",
       "var warn = document.getElementById(\"3dmolwarning_16533979545691397\");\n",
       "if(warn) {\n",
       "    warn.parentNode.removeChild(warn);\n",
       "}\n",
       "$3Dmolpromise.then(function() {\n",
       "viewer_16533979545691397 = $3Dmol.createViewer($(\"#3dmolviewer_16533979545691397\"),{backgroundColor:\"white\"});\n",
       "viewer_16533979545691397.zoomTo();\n",
       "\tviewer_16533979545691397.removeAllModels();\n",
       "\tviewer_16533979545691397.addModel(\"\\n     RDKit          3D\\n\\n 12 12  0  0  0  0  0  0  0  0999 V2000\\n   -0.8564    0.3725   -0.0054 C   0  0  0  0  0  0  0  0  0  1  0  0\\n   -1.6449    0.0756    1.1362 O   0  0  0  0  0  0  0  0  0  2  0  0\\n    0.1412   -0.7341   -0.2212 C   0  0  0  0  0  0  0  0  0  3  0  0\\n    1.3021   -0.2270    0.5796 C   0  0  0  0  0  0  0  0  0  4  0  0\\n    1.3158    1.1653    0.2759 O   0  0  0  0  0  0  0  0  0  5  0  0\\n   -0.1027    1.5630    0.2287 O   0  0  0  0  0  0  0  0  0  6  0  0\\n   -1.5144    0.5055   -0.8696 H   0  0  0  0  0  0  0  0  0  7  0  0\\n   -0.1987   -1.7248    0.0907 H   0  0  0  0  0  0  0  0  0  8  0  0\\n    0.4237   -0.7672   -1.2799 H   0  0  0  0  0  0  0  0  0  9  0  0\\n    2.2492   -0.6817    0.2780 H   0  0  0  0  0  0  0  0  0 10  0  0\\n    1.1634   -0.3570    1.6579 H   0  0  0  0  0  0  0  0  0 11  0  0\\n   -2.2783    0.8099    1.2013 H   0  0  0  0  0  0  0  0  0 12  0  0\\n 12  2  1  0\\n  2  1  1  0\\n  1  6  1  0\\n  1  3  1  0\\n  1  7  1  0\\n  3  4  1  0\\n  3  8  1  0\\n  3  9  1  0\\n  4  5  1  0\\n  4 10  1  0\\n  4 11  1  0\\n  5  6  1  0\\nM  END\\n\",\"sdf\");\n",
       "\tviewer_16533979545691397.setStyle({\"stick\": {}});\n",
       "\tviewer_16533979545691397.setBackgroundColor(\"0xeeeeee\");\n",
       "\tviewer_16533979545691397.zoomTo();\n",
       "viewer_16533979545691397.render();\n",
       "});\n",
       "</script>"
      ]
     },
     "metadata": {},
     "output_type": "display_data"
    },
    {
     "data": {
      "image/png": "[encoded data removed]",
      "text/html": [],
      "text/plain": [
       "<rdkit.Chem.rdchem.Mol at 0x7f8543b0be20>"
      ]
     },
     "execution_count": 34,
     "metadata": {},
     "output_type": "execute_result"
    }
   ],
   "source": [
    "rxn = '([#8:1]=[#6:2].[#8:3][#1:4])>>[#1:4][#8:1][#6:2][#8:3]'\n",
    "\n",
    "product = run_rxn(reactant, rxn)\n",
    "product = reorder_product(product)\n",
    "AllChem.MMFFOptimizeMolecule(product)\n",
    "product = label_atoms(product)\n",
    "product"
   ]
  },
  {
   "cell_type": "code",
   "execution_count": 35,
   "metadata": {
    "id": "_E6eLWZPMNtL"
   },
   "outputs": [],
   "source": [
    "write_xyz(reactant, file_name='start.xyz')\n",
    "write_xyz(product, file_name='end.xyz')"
   ]
  },
  {
   "cell_type": "code",
   "execution_count": 36,
   "metadata": {
    "id": "aoGGWPgXMby0"
   },
   "outputs": [],
   "source": [
    "path_input = '''\n",
    "$path\n",
    "   nrun=1\n",
    "   npoint=25\n",
    "   anopt=10\n",
    "   kpush=0.003\n",
    "   kpull=-0.015\n",
    "   ppull=0.05\n",
    "   alp=1.2\n",
    "$end\n",
    "'''\n",
    "\n",
    "with open('path.inp', 'w') as file:\n",
    "  file.write(path_input)"
   ]
  },
  {
   "cell_type": "code",
   "execution_count": 37,
   "metadata": {
    "colab": {
     "background_save": true
    },
    "id": "jRoNijW6M1lw",
    "outputId": "2883b3b9-606d-48ae-d8a9-a4a6c412e15a"
   },
   "outputs": [
    {
     "name": "stdout",
     "output_type": "stream",
     "text": [
      "zsh:1: command not found: xtb\r\n"
     ]
    }
   ],
   "source": [
    "!xtb start.xyz --path end.xyz --input path.inp"
   ]
  },
  {
   "cell_type": "code",
   "execution_count": 38,
   "metadata": {
    "colab": {
     "background_save": true
    },
    "id": "8o5iFfwLNHRZ",
    "outputId": "54a7cb57-e477-4602-87dc-de590d4f0b3d"
   },
   "outputs": [
    {
     "ename": "FileNotFoundError",
     "evalue": "[Errno 2] No such file or directory: 'xtbpath.xyz'",
     "output_type": "error",
     "traceback": [
      "\u001b[0;31m---------------------------------------------------------------------------\u001b[0m",
      "\u001b[0;31mFileNotFoundError\u001b[0m                         Traceback (most recent call last)",
      "\u001b[0;32m/tmp/ipykernel_18530/2374341023.py\u001b[0m in \u001b[0;36m<module>\u001b[0;34m\u001b[0m\n\u001b[0;32m----> 1\u001b[0;31m \u001b[0mshow_mol\u001b[0m\u001b[0;34m(\u001b[0m\u001b[0;34m'xtbpath.xyz'\u001b[0m\u001b[0;34m,\u001b[0m \u001b[0manimate\u001b[0m\u001b[0;34m=\u001b[0m\u001b[0;32mTrue\u001b[0m\u001b[0;34m)\u001b[0m\u001b[0;34m\u001b[0m\u001b[0;34m\u001b[0m\u001b[0m\n\u001b[0m",
      "\u001b[0;32m/tmp/ipykernel_18530/463697738.py\u001b[0m in \u001b[0;36mshow_mol\u001b[0;34m(file_name, animate)\u001b[0m\n\u001b[1;32m      1\u001b[0m \u001b[0;32mdef\u001b[0m \u001b[0mshow_mol\u001b[0m\u001b[0;34m(\u001b[0m\u001b[0mfile_name\u001b[0m\u001b[0;34m,\u001b[0m \u001b[0manimate\u001b[0m\u001b[0;34m=\u001b[0m\u001b[0;32mFalse\u001b[0m\u001b[0;34m)\u001b[0m\u001b[0;34m:\u001b[0m\u001b[0;34m\u001b[0m\u001b[0;34m\u001b[0m\u001b[0m\n\u001b[0;32m----> 2\u001b[0;31m   \u001b[0mxyz\u001b[0m\u001b[0;34m=\u001b[0m\u001b[0mopen\u001b[0m\u001b[0;34m(\u001b[0m\u001b[0mfile_name\u001b[0m\u001b[0;34m,\u001b[0m \u001b[0;34m'r'\u001b[0m\u001b[0;34m)\u001b[0m\u001b[0;34m.\u001b[0m\u001b[0mread\u001b[0m\u001b[0;34m(\u001b[0m\u001b[0;34m)\u001b[0m\u001b[0;34m\u001b[0m\u001b[0;34m\u001b[0m\u001b[0m\n\u001b[0m\u001b[1;32m      3\u001b[0m   \u001b[0mp\u001b[0m \u001b[0;34m=\u001b[0m \u001b[0mpy3Dmol\u001b[0m\u001b[0;34m.\u001b[0m\u001b[0mview\u001b[0m\u001b[0;34m(\u001b[0m\u001b[0mwidth\u001b[0m\u001b[0;34m=\u001b[0m\u001b[0;36m400\u001b[0m\u001b[0;34m,\u001b[0m\u001b[0mheight\u001b[0m\u001b[0;34m=\u001b[0m\u001b[0;36m400\u001b[0m\u001b[0;34m)\u001b[0m\u001b[0;34m\u001b[0m\u001b[0;34m\u001b[0m\u001b[0m\n\u001b[1;32m      4\u001b[0m   \u001b[0;32mif\u001b[0m \u001b[0manimate\u001b[0m\u001b[0;34m:\u001b[0m\u001b[0;34m\u001b[0m\u001b[0;34m\u001b[0m\u001b[0m\n\u001b[1;32m      5\u001b[0m     \u001b[0mp\u001b[0m\u001b[0;34m.\u001b[0m\u001b[0maddModelsAsFrames\u001b[0m\u001b[0;34m(\u001b[0m\u001b[0mxyz\u001b[0m\u001b[0;34m,\u001b[0m\u001b[0;34m'xyz'\u001b[0m\u001b[0;34m)\u001b[0m\u001b[0;34m\u001b[0m\u001b[0;34m\u001b[0m\u001b[0m\n",
      "\u001b[0;31mFileNotFoundError\u001b[0m: [Errno 2] No such file or directory: 'xtbpath.xyz'"
     ]
    }
   ],
   "source": [
    "show_mol('xtbpath.xyz', animate=True)"
   ]
  },
  {
   "cell_type": "code",
   "execution_count": 39,
   "metadata": {
    "colab": {
     "background_save": true
    },
    "id": "KUfvMnwWNVQN",
    "outputId": "31ff491b-31c3-4b61-8dba-4e90a2a1b862"
   },
   "outputs": [
    {
     "data": {
      "image/png": "[encoded data removed]",
      "text/plain": [
       "<Figure size 432x288 with 1 Axes>"
      ]
     },
     "metadata": {
      "needs_background": "light"
     },
     "output_type": "display_data"
    }
   ],
   "source": [
    "plot_PES()"
   ]
  },
  {
   "cell_type": "markdown",
   "metadata": {
    "id": "zal6d_GB3MlC"
   },
   "source": [
    "##atom_mapper"
   ]
  },
  {
   "cell_type": "code",
   "execution_count": 40,
   "metadata": {
    "colab": {
     "background_save": true
    },
    "id": "K3zhCU6c3ecW"
   },
   "outputs": [],
   "source": [
    "%%capture\n",
    "!git clone https://github.com/jensengroup/atom_mapper.git"
   ]
  },
  {
   "cell_type": "code",
   "execution_count": 41,
   "metadata": {
    "colab": {
     "background_save": true
    },
    "id": "QF06fIIaN4Yr",
    "outputId": "a77dfcb5-2dcb-4d1d-d1d4-f62b4912952d"
   },
   "outputs": [
    {
     "data": {
      "image/png": "[encoded data removed]",
      "text/plain": [
       "<IPython.core.display.Image object>"
      ]
     },
     "execution_count": 41,
     "metadata": {},
     "output_type": "execute_result"
    }
   ],
   "source": [
    "import atom_mapper as mapper\n",
    "\n",
    "reactant = Chem.MolFromSmiles('C(=O)CCOO')\n",
    "reactant = Chem.AddHs(reactant)\n",
    "\n",
    "product = Chem.MolFromSmiles('C1(O)CCOO1')\n",
    "product = Chem.AddHs(product)\n",
    "\n",
    "reactant, products = mapper.atom_mapper(reactant, product)\n",
    "\n",
    "mols = [reactant]\n",
    "for prod in products:\n",
    "  mols += prod\n",
    "\n",
    "Draw.MolsToGridImage(mols, molsPerRow=5, subImgSize=(200, 200))"
   ]
  },
  {
   "cell_type": "code",
   "execution_count": null,
   "metadata": {},
   "outputs": [],
   "source": []
  }
 ],
 "metadata": {
  "colab": {
   "collapsed_sections": [
    "b6V7G0y7dNXO",
    "thdsgvqmdPIQ",
    "f5wfGhwDdTKQ",
    "qqLVCTTbdXVw",
    "F_i0Yte7dZTN",
    "gz3oleWpZhsF",
    "DMXbfUEn2XDi",
    "G3teCdVz2efZ",
    "jhHee5ui2lQt",
    "BzJ6DC1l3MwD",
    "zal6d_GB3MlC"
   ],
   "name": "Colab_QM.ipynb",
   "provenance": []
  },
  "kernelspec": {
   "display_name": "Python 3 (ipykernel)",
   "language": "python",
   "name": "python3"
  },
  "language_info": {
   "codemirror_mode": {
    "name": "ipython",
    "version": 3
   },
   "file_extension": ".py",
   "mimetype": "text/x-python",
   "name": "python",
   "nbconvert_exporter": "python",
   "pygments_lexer": "ipython3",
   "version": "3.8.12"
  },
  "toc": {
   "base_numbering": 1,
   "nav_menu": {},
   "number_sections": true,
   "sideBar": true,
   "skip_h1_title": false,
   "title_cell": "Table of Contents",
   "title_sidebar": "Contents",
   "toc_cell": false,
   "toc_position": {},
   "toc_section_display": true,
   "toc_window_display": false
  }
 },
 "nbformat": 4,
 "nbformat_minor": 1
}
